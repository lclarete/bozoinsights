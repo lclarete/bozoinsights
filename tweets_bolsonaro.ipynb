{
 "cells": [
  {
   "cell_type": "markdown",
   "metadata": {
    "heading_collapsed": true
   },
   "source": [
    "# Análise dos tweets do perfil @jairbolsonaro"
   ]
  },
  {
   "cell_type": "markdown",
   "metadata": {
    "hidden": true
   },
   "source": [
    "#### following tutorials:\n",
    "* https://www.kaggle.com/itratrahman/nlp-tutorial-using-python\n",
    "\n",
    "* python liberaries: https://activewizards.com/blog/comparison-of-python-nlp-libraries/"
   ]
  },
  {
   "cell_type": "markdown",
   "metadata": {
    "hidden": true
   },
   "source": [
    "Steps:\n",
    "* Data imported and checked\n",
    "* Feature engeneering\n",
    "* Top words not working (take function from case made to ironhack)"
   ]
  },
  {
   "cell_type": "markdown",
   "metadata": {
    "hidden": true
   },
   "source": [
    "* source: https://www.kaggle.com/itratrahman/nlp-tutorial-using-python"
   ]
  },
  {
   "cell_type": "markdown",
   "metadata": {},
   "source": [
    "# Defining functions"
   ]
  },
  {
   "cell_type": "code",
   "execution_count": 1,
   "metadata": {},
   "outputs": [],
   "source": [
    "def rename_cols(df):\n",
    "    cols = df.columns\n",
    "    cols = cols.str.replace(' ', '_').str.lower()\n",
    "    df.columns = cols\n",
    "    return(df)"
   ]
  },
  {
   "cell_type": "code",
   "execution_count": 2,
   "metadata": {},
   "outputs": [],
   "source": [
    "import re\n",
    "def remove_link(col):\n",
    "    ''' a function for removing urls from a tweet'''\n",
    "    url_pattern = r\"\"\"(?i)\\b((?:https?:(?:/{1,3}|[a-z0-9%])|[a-z0-9.\\-]+[.](?:com|net|org|edu|gov|mil|aero|asia|biz|cat|coop|info|int|jobs|mobi|museum|name|post|pro|tel|travel|xxx|ac|ad|ae|af|ag|ai|al|am|an|ao|aq|ar|as|at|au|aw|ax|az|ba|bb|bd|be|bf|bg|bh|bi|bj|bm|bn|bo|br|bs|bt|bv|bw|by|bz|ca|cc|cd|cf|cg|ch|ci|ck|cl|cm|cn|co|cr|cs|cu|cv|cx|cy|cz|dd|de|dj|dk|dm|do|dz|ec|ee|eg|eh|er|es|et|eu|fi|fj|fk|fm|fo|fr|ga|gb|gd|ge|gf|gg|gh|gi|gl|gm|gn|gp|gq|gr|gs|gt|gu|gw|gy|hk|hm|hn|hr|ht|hu|id|ie|il|im|in|io|iq|ir|is|it|je|jm|jo|jp|ke|kg|kh|ki|km|kn|kp|kr|kw|ky|kz|la|lb|lc|li|lk|lr|ls|lt|lu|lv|ly|ma|mc|md|me|mg|mh|mk|ml|mm|mn|mo|mp|mq|mr|ms|mt|mu|mv|mw|mx|my|mz|na|nc|ne|nf|ng|ni|nl|no|np|nr|nu|nz|om|pa|pe|pf|pg|ph|pk|pl|pm|pn|pr|ps|pt|pw|py|qa|re|ro|rs|ru|rw|sa|sb|sc|sd|se|sg|sh|si|sj|Ja|sk|sl|sm|sn|so|sr|ss|st|su|sv|sx|sy|sz|tc|td|tf|tg|th|tj|tk|tl|tm|tn|to|tp|tr|tt|tv|tw|tz|ua|ug|uk|us|uy|uz|va|vc|ve|vg|vi|vn|vu|wf|ws|ye|yt|yu|za|zm|zw)/)(?:[^\\s()<>{}\\[\\]]+|\\([^\\s()]*?\\([^\\s()]+\\)[^\\s()]*?\\)|\\([^\\s]+?\\))+(?:\\([^\\s()]*?\\([^\\s()]+\\)[^\\s()]*?\\)|\\([^\\s]+?\\)|[^\\s`!()\\[\\]{};:\\'\\\".,<>?«»“”‘’])|(?:(?<!@)[a-z0-9]+(?:[.\\-][a-z0-9]+)*[.](?:com|net|org|edu|gov|mil|aero|asia|biz|cat|coop|info|int|jobs|mobi|museum|name|post|pro|tel|travel|xxx|ac|ad|ae|af|ag|ai|al|am|an|ao|aq|ar|as|at|au|aw|ax|az|ba|bb|bd|be|bf|bg|bh|bi|bj|bm|bn|bo|br|bs|bt|bv|bw|by|bz|ca|cc|cd|cf|cg|ch|ci|ck|cl|cm|cn|co|cr|cs|cu|cv|cx|cy|cz|dd|de|dj|dk|dm|do|dz|ec|ee|eg|eh|er|es|et|eu|fi|fj|fk|fm|fo|fr|ga|gb|gd|ge|gf|gg|gh|gi|gl|gm|gn|gp|gq|gr|gs|gt|gu|gw|gy|hk|hm|hn|hr|ht|hu|id|ie|il|im|in|io|iq|ir|is|it|je|jm|jo|jp|ke|kg|kh|ki|km|kn|kp|kr|kw|ky|kz|la|lb|lc|li|lk|lr|ls|lt|lu|lv|ly|ma|mc|md|me|mg|mh|mk|ml|mm|mn|mo|mp|mq|mr|ms|mt|mu|mv|mw|mx|my|mz|na|nc|ne|nf|ng|ni|nl|no|np|nr|nu|nz|om|pa|pe|pf|pg|ph|pk|pl|pm|pn|pr|ps|pt|pw|py|qa|re|ro|rs|ru|rw|sa|sb|sc|sd|se|sg|sh|si|sj|Ja|sk|sl|sm|sn|so|sr|ss|st|su|sv|sx|sy|sz|tc|td|tf|tg|th|tj|tk|tl|tm|tn|to|tp|tr|tt|tv|tw|tz|ua|ug|uk|us|uy|uz|va|vc|ve|vg|vi|vn|vu|wf|ws|ye|yt|yu|za|zm|zw)\\b/?(?!@)))\"\"\"\n",
    "    col = re.sub(url_pattern, '', col)\n",
    "    return(col)"
   ]
  },
  {
   "cell_type": "code",
   "execution_count": 98,
   "metadata": {},
   "outputs": [],
   "source": [
    "from os import path\n",
    "import matplotlib.pyplot as plt\n",
    "from wordcloud import WordCloud\n",
    "\n",
    "def word_cloud_figure(col,\n",
    "            max_words=None,\n",
    "            background_color='white',\n",
    "            stopwords=None):\n",
    "    string_text = str(col)\n",
    "    wordCloud = WordCloud(max_words=max_words,\n",
    "                        repeat=False,\n",
    "                        stopwords=stopwords,\n",
    "                        background_color=background_color\n",
    "                        ).generate(string_text)\n",
    "    plt.figure(figsize=(10,7))\n",
    "    plt.imshow(wordCloud, interpolation='bilinear')\n",
    "    plt.axis('off')\n",
    "    return(plt.show())"
   ]
  },
  {
   "cell_type": "code",
   "execution_count": 136,
   "metadata": {},
   "outputs": [],
   "source": [
    "from textblob import Word\n",
    "\n",
    "def lemmatization(col):\n",
    "    col = col.apply(lambda x: ' '.join(\n",
    "        [Word(x).lemmatize() for x in x.split()]))\n",
    "    return(col)"
   ]
  },
  {
   "cell_type": "code",
   "execution_count": 5,
   "metadata": {},
   "outputs": [],
   "source": [
    "def serie_to_string(col):\n",
    "    ''' tranform a Pandas Series into a string'''\n",
    "    string = ''\n",
    "    for i in col:\n",
    "        string = string + (\" \".join(i.split()))\n",
    "    return(string)"
   ]
  },
  {
   "cell_type": "code",
   "execution_count": 275,
   "metadata": {},
   "outputs": [],
   "source": [
    "import pandas as pd\n",
    "\n",
    "# returns a boolean series after searched for a string pattern\n",
    "def count_themes(col, df, pattern_df):\n",
    "    # extrat list of lables\n",
    "    subject_list = [i for i in pattern_df.iloc[:,0]]\n",
    "    # extrat list of patterns\n",
    "    pattern_list = [i for i in pattern_df.iloc[:,1]]\n",
    "    pattern_extraction = []\n",
    "    # interate through each pattern element\n",
    "    for i in pattern_list:\n",
    "        # for each pattern extract matched terms and returns a boolean\n",
    "        pattern_extraction.append(df[col].str.extract((i)).notnull())\n",
    "    # concat the list\n",
    "    df_themes = pd.concat(pattern_extraction, axis=1)\n",
    "    # rename new dataframe\n",
    "    df_themes.columns = columns_list\n",
    "    # concat the original with the new dataframe\n",
    "    df_total = pd.concat([df, df_themes], axis=1)\n",
    "    return(df_total, df_themes)"
   ]
  },
  {
   "cell_type": "markdown",
   "metadata": {},
   "source": [
    "* https://www.kaggle.com/itratrahman/nlp-tutorial-using-python"
   ]
  },
  {
   "cell_type": "code",
   "execution_count": 3,
   "metadata": {},
   "outputs": [],
   "source": [
    "# remove punctionation\n",
    "def remove_punctuation(text):\n",
    "    '''a function for removing punctuation'''\n",
    "    import string\n",
    "    # replacing the punctuations with no space, \n",
    "    # which in effect deletes the punctuation marks \n",
    "    translator = str.maketrans('', '', string.punctuation)\n",
    "    # return the text stripped of punctuation marks\n",
    "    return text.translate(translator)    "
   ]
  },
  {
   "cell_type": "code",
   "execution_count": 4,
   "metadata": {},
   "outputs": [],
   "source": [
    "def remove_sw(text):\n",
    "    '''a function for removing the stopword'''\n",
    "    # removing the stop words and lowercasing the selected words\n",
    "    text = [word.lower() for word in text.split() if word.lower() not in sw]\n",
    "    # joining the list of words with space separator\n",
    "    return \" \".join(text)"
   ]
  },
  {
   "cell_type": "markdown",
   "metadata": {
    "heading_collapsed": true
   },
   "source": [
    "# Import and check data"
   ]
  },
  {
   "cell_type": "code",
   "execution_count": 33,
   "metadata": {
    "hidden": true
   },
   "outputs": [],
   "source": [
    "import pandas as pd"
   ]
  },
  {
   "cell_type": "code",
   "execution_count": 51,
   "metadata": {
    "hidden": true
   },
   "outputs": [],
   "source": [
    "# importing xlsx into a pandas dataframe\n",
    "df = pd.read_excel('Jair_Bolsonaro.xlsx')\n",
    "\n",
    "# selecting tweets from @jairbolsonaro account\n",
    "df = df[df['Author name']=='Jair M. Bolsonaro']\n",
    "df.head(1)\n",
    "\n",
    "# Select columns\n",
    "cols = ['id', 'Detail', 'Link', 'Update date', 'Publish date', 'Tags', 'Audience', 'Reach', 'Interactions']\n",
    "df = df[cols]\n",
    "df = rename_cols(df)"
   ]
  },
  {
   "cell_type": "code",
   "execution_count": 52,
   "metadata": {
    "hidden": true
   },
   "outputs": [
    {
     "name": "stdout",
     "output_type": "stream",
     "text": [
      "(1809, 9)\n"
     ]
    },
    {
     "data": {
      "text/html": [
       "<div>\n",
       "<style scoped>\n",
       "    .dataframe tbody tr th:only-of-type {\n",
       "        vertical-align: middle;\n",
       "    }\n",
       "\n",
       "    .dataframe tbody tr th {\n",
       "        vertical-align: top;\n",
       "    }\n",
       "\n",
       "    .dataframe thead th {\n",
       "        text-align: right;\n",
       "    }\n",
       "</style>\n",
       "<table border=\"1\" class=\"dataframe\">\n",
       "  <thead>\n",
       "    <tr style=\"text-align: right;\">\n",
       "      <th></th>\n",
       "      <th>id</th>\n",
       "      <th>detail</th>\n",
       "      <th>link</th>\n",
       "      <th>update_date</th>\n",
       "      <th>publish_date</th>\n",
       "      <th>tags</th>\n",
       "      <th>audience</th>\n",
       "      <th>reach</th>\n",
       "      <th>interactions</th>\n",
       "    </tr>\n",
       "  </thead>\n",
       "  <tbody>\n",
       "    <tr>\n",
       "      <th>0</th>\n",
       "      <td>336912077</td>\n",
       "      <td>- Resumo de nossa ida a Pelotas/RS por ocasião...</td>\n",
       "      <td>https://twitter.com/jairbolsonaro/status/11612...</td>\n",
       "      <td>30/09/2019 09:17:00</td>\n",
       "      <td>13/08/2019 08:28:34</td>\n",
       "      <td>NaN</td>\n",
       "      <td>4856491</td>\n",
       "      <td>165120</td>\n",
       "      <td>41447</td>\n",
       "    </tr>\n",
       "  </tbody>\n",
       "</table>\n",
       "</div>"
      ],
      "text/plain": [
       "          id                                             detail  \\\n",
       "0  336912077  - Resumo de nossa ida a Pelotas/RS por ocasião...   \n",
       "\n",
       "                                                link          update_date  \\\n",
       "0  https://twitter.com/jairbolsonaro/status/11612...  30/09/2019 09:17:00   \n",
       "\n",
       "          publish_date tags  audience   reach  interactions  \n",
       "0  13/08/2019 08:28:34  NaN   4856491  165120         41447  "
      ]
     },
     "execution_count": 52,
     "metadata": {},
     "output_type": "execute_result"
    }
   ],
   "source": [
    "# check the dataset\n",
    "print(df.shape)\n",
    "df.head(1)"
   ]
  },
  {
   "cell_type": "markdown",
   "metadata": {
    "heading_collapsed": true
   },
   "source": [
    "# Data cleaning"
   ]
  },
  {
   "cell_type": "code",
   "execution_count": 129,
   "metadata": {
    "hidden": true
   },
   "outputs": [],
   "source": [
    "# stopwords variables\n",
    "from nltk.corpus import stopwords\n",
    "sw_pt = stopwords.words('portuguese') \n",
    "sw_en = stopwords.words('english')\n",
    "sw_new = ['é', 'r', 'ser', 'via', 'sobre', 'ainda', '\"', '“', 'após', 'tudo', 'cada', 'todo', '…rt', '1', 'outros', '”', 'sendo', 'vamos', 'anos', 'hoje']\n",
    "from string import digits\n",
    "sw_digits = [i for i in digits]\n",
    "sw = sw_pt + sw_en + sw_new + sw_digits"
   ]
  },
  {
   "cell_type": "code",
   "execution_count": 130,
   "metadata": {
    "hidden": true
   },
   "outputs": [
    {
     "data": {
      "text/plain": [
       "'- Resumo de nossa ida a Pelotas/RS por ocasião da entrega de trecho da BR 116.'"
      ]
     },
     "execution_count": 130,
     "metadata": {},
     "output_type": "execute_result"
    }
   ],
   "source": [
    "# Remove link\n",
    "df['text'] = df.detail.apply(remove_link)\n",
    "df.text[0]"
   ]
  },
  {
   "cell_type": "code",
   "execution_count": 131,
   "metadata": {
    "hidden": true
   },
   "outputs": [
    {
     "data": {
      "text/plain": [
       "0    resumo ida pelotasrs ocasião entrega trecho br...\n",
       "1    parabéns atletas representaram brasil jogos pa...\n",
       "Name: text, dtype: object"
      ]
     },
     "execution_count": 131,
     "metadata": {},
     "output_type": "execute_result"
    }
   ],
   "source": [
    "# Removing punctuations and stopwords\n",
    "df['text'] = df.text.apply(remove_punctuation)\n",
    "df['text'] = df.text.apply(remove_sw)\n",
    "df.text[0:2]"
   ]
  },
  {
   "cell_type": "code",
   "execution_count": 132,
   "metadata": {
    "hidden": true
   },
   "outputs": [],
   "source": [
    "# clear stop words\n",
    "from nltk.tokenize import word_tokenize\n",
    "tweets_str = serie_to_string(df.text)\n",
    "\n",
    "clean_text = [w for w in word_tokenize(tweets_str) \n",
    "              if w not in sw]"
   ]
  },
  {
   "cell_type": "code",
   "execution_count": 133,
   "metadata": {
    "hidden": true
   },
   "outputs": [
    {
     "data": {
      "text/plain": [
       "['resumo', 'ida', 'pelotasrs', 'ocasião', 'entrega']"
      ]
     },
     "execution_count": 133,
     "metadata": {},
     "output_type": "execute_result"
    }
   ],
   "source": [
    "clean_text[0:5]"
   ]
  },
  {
   "cell_type": "markdown",
   "metadata": {
    "heading_collapsed": true
   },
   "source": [
    "# DataViz"
   ]
  },
  {
   "cell_type": "code",
   "execution_count": 134,
   "metadata": {
    "hidden": true
   },
   "outputs": [
    {
     "data": {
      "text/plain": [
       "[('brasil', 360),\n",
       " ('governo', 198),\n",
       " ('presidente', 123),\n",
       " ('todos', 122),\n",
       " ('país', 93),\n",
       " ('bolsonaro', 90),\n",
       " ('economia', 89),\n",
       " ('dia', 85),\n",
       " ('grande', 83),\n",
       " ('nacional', 73)]"
      ]
     },
     "execution_count": 134,
     "metadata": {},
     "output_type": "execute_result"
    }
   ],
   "source": [
    "# count most frequent words\n",
    "from collections import Counter\n",
    "Counter(clean_text).most_common(10)"
   ]
  },
  {
   "cell_type": "code",
   "execution_count": 135,
   "metadata": {
    "hidden": true
   },
   "outputs": [
    {
     "data": {
      "image/png": "[encoded data removed]",
      "text/plain": [
       "<Figure size 720x504 with 1 Axes>"
      ]
     },
     "metadata": {
      "needs_background": "light"
     },
     "output_type": "display_data"
    }
   ],
   "source": [
    "word_cloud_figure(clean_text,\n",
    "              max_words=100)"
   ]
  },
  {
   "cell_type": "markdown",
   "metadata": {},
   "source": [
    "# Ruled bases classification"
   ]
  },
  {
   "cell_type": "code",
   "execution_count": 261,
   "metadata": {},
   "outputs": [],
   "source": [
    "from sys import path\n",
    "path.append('/Users/liviaclarete/gdrive/code/functions/')\n",
    "\n",
    "from GoogleSheet_read_returns_df import gsheet_returns_df\n",
    "from GoogleSheet_writes_gsheet import write_df_gsheet\n",
    "from NLP_count_themes_boolean import count_themes"
   ]
  },
  {
   "cell_type": "code",
   "execution_count": 266,
   "metadata": {},
   "outputs": [],
   "source": [
    "# retrieve stringlines from a google spreadsheet\n",
    "pattern_df = gsheet_returns_df('tematicas_bolsonaro', 'strings')"
   ]
  },
  {
   "cell_type": "code",
   "execution_count": 274,
   "metadata": {},
   "outputs": [
    {
     "data": {
      "text/html": [
       "<div>\n",
       "<style scoped>\n",
       "    .dataframe tbody tr th:only-of-type {\n",
       "        vertical-align: middle;\n",
       "    }\n",
       "\n",
       "    .dataframe tbody tr th {\n",
       "        vertical-align: top;\n",
       "    }\n",
       "\n",
       "    .dataframe thead th {\n",
       "        text-align: right;\n",
       "    }\n",
       "</style>\n",
       "<table border=\"1\" class=\"dataframe\">\n",
       "  <thead>\n",
       "    <tr style=\"text-align: right;\">\n",
       "      <th></th>\n",
       "      <th>tematicas_bolsonaro</th>\n",
       "      <th>query</th>\n",
       "      <th></th>\n",
       "      <th></th>\n",
       "    </tr>\n",
       "  </thead>\n",
       "  <tbody>\n",
       "    <tr>\n",
       "      <th>0</th>\n",
       "      <td>Segurança pública</td>\n",
       "      <td>(segurança|crime)</td>\n",
       "      <td></td>\n",
       "      <td></td>\n",
       "    </tr>\n",
       "    <tr>\n",
       "      <th>1</th>\n",
       "      <td>Economia</td>\n",
       "      <td>(economia|trabalho|predivência|mercado|desenvo...</td>\n",
       "      <td></td>\n",
       "      <td></td>\n",
       "    </tr>\n",
       "    <tr>\n",
       "      <th>2</th>\n",
       "      <td>Congresso</td>\n",
       "      <td>(congresso)</td>\n",
       "      <td></td>\n",
       "      <td></td>\n",
       "    </tr>\n",
       "    <tr>\n",
       "      <th>3</th>\n",
       "      <td>Educação, ciência e tecnologia</td>\n",
       "      <td>(educação)</td>\n",
       "      <td></td>\n",
       "      <td></td>\n",
       "    </tr>\n",
       "    <tr>\n",
       "      <th>4</th>\n",
       "      <td>Saúde</td>\n",
       "      <td>(saúde)</td>\n",
       "      <td></td>\n",
       "      <td></td>\n",
       "    </tr>\n",
       "  </tbody>\n",
       "</table>\n",
       "</div>"
      ],
      "text/plain": [
       "              tematicas_bolsonaro  \\\n",
       "0               Segurança pública   \n",
       "1                        Economia   \n",
       "2                       Congresso   \n",
       "3  Educação, ciência e tecnologia   \n",
       "4                           Saúde   \n",
       "\n",
       "                                               query      \n",
       "0                                  (segurança|crime)      \n",
       "1  (economia|trabalho|predivência|mercado|desenvo...      \n",
       "2                                        (congresso)      \n",
       "3                                         (educação)      \n",
       "4                                            (saúde)      "
      ]
     },
     "execution_count": 274,
     "metadata": {},
     "output_type": "execute_result"
    }
   ],
   "source": [
    "pattern_df.head()"
   ]
  },
  {
   "cell_type": "code",
   "execution_count": 284,
   "metadata": {},
   "outputs": [],
   "source": [
    "df['text_lower'] = df.text.str.lower()"
   ]
  },
  {
   "cell_type": "code",
   "execution_count": 285,
   "metadata": {},
   "outputs": [],
   "source": [
    "df_total, df_themes = count_themes('text_lower', df, pattern_df)"
   ]
  },
  {
   "cell_type": "code",
   "execution_count": 286,
   "metadata": {},
   "outputs": [
    {
     "name": "stdout",
     "output_type": "stream",
     "text": [
      "False    1727\n",
      "True       82\n",
      "Name: Segurança pública, dtype: int64\n",
      "False    1412\n",
      "True      397\n",
      "Name: Economia, dtype: int64\n",
      "False    1773\n",
      "True       36\n",
      "Name: Congresso, dtype: int64\n",
      "False    1774\n",
      "True       35\n",
      "Name: Educação, ciência e tecnologia, dtype: int64\n",
      "False    1775\n",
      "True       34\n",
      "Name: Saúde, dtype: int64\n",
      "False    1711\n",
      "True       98\n",
      "Name: Infraestrutura, dtype: int64\n",
      "False    1809\n",
      "Name: Justiça, dtype: int64\n",
      "False    1351\n",
      "True      458\n",
      "Name: Governo, dtype: int64\n",
      "False    1785\n",
      "True       24\n",
      "Name: Nacionalismo, dtype: int64\n",
      "False    1763\n",
      "True       46\n",
      "Name: Eleitorado, dtype: int64\n",
      "False    1776\n",
      "True       33\n",
      "Name: Meio ambiente, dtype: int64\n",
      "False    1809\n",
      "Name: Imprensa, dtype: int64\n",
      "False    1665\n",
      "True      144\n",
      "Name: Relações internacionais, dtype: int64\n",
      "False    1728\n",
      "True       81\n",
      "Name: Valores, dtype: int64\n",
      "False    1719\n",
      "True       90\n",
      "Name: Esquerda, dtype: int64\n",
      "False    1786\n",
      "True       23\n",
      "Name: Exército, dtype: int64\n",
      "False    1793\n",
      "True       16\n",
      "Name: Corrupção, dtype: int64\n",
      "False    1774\n",
      "True       35\n",
      "Name: Estado de saúde, dtype: int64\n"
     ]
    }
   ],
   "source": [
    "for i in df_themes.columns:\n",
    "    print(df_themes[i].value_counts())"
   ]
  },
  {
   "cell_type": "code",
   "execution_count": 292,
   "metadata": {},
   "outputs": [
    {
     "name": "stdout",
     "output_type": "stream",
     "text": [
      "58.0% of tweets were classified. Still 42.0 to classify.\n"
     ]
    }
   ],
   "source": [
    "# calculate the total number of classified tweets\n",
    "# returns a column summing the number of True's\n",
    "df_themes['total'] = df_themes.sum(axis=1)\n",
    "\n",
    "# transform the number into a boolean\n",
    "df_themes['total'] = df_themes.total.apply(lambda x: x>0)\n",
    "\n",
    "# sum the total number of True's in total column\n",
    "label_tweets = round(df_themes.total.sum()/df_themes.total.shape[0]*100)\n",
    "\n",
    "print(f'{label_tweets}% of tweets were classified. Still {100-label_tweets} to classify.')"
   ]
  },
  {
   "cell_type": "code",
   "execution_count": 314,
   "metadata": {},
   "outputs": [],
   "source": [
    "# set an index in order to concat n and percentage\n",
    "strings = pattern_df.copy()\n",
    "strings.index = pattern_df['query']\n",
    "strings.drop('query', axis=1, inplace=True)"
   ]
  },
  {
   "cell_type": "code",
   "execution_count": 323,
   "metadata": {},
   "outputs": [],
   "source": [
    "# concat the datasets\n",
    "df_pattern_counts = pd.concat([df_themes.sum(),\n",
    "                               df_themes.sum()/df_themes.shape[0]],\n",
    "                              axis=1, sort=True)"
   ]
  },
  {
   "cell_type": "code",
   "execution_count": 329,
   "metadata": {},
   "outputs": [],
   "source": [
    "pattern_df.index = pattern_df.tematicas_bolsonaro"
   ]
  },
  {
   "cell_type": "code",
   "execution_count": 357,
   "metadata": {},
   "outputs": [
    {
     "name": "stderr",
     "output_type": "stream",
     "text": [
      "/Users/liviaclarete/.pyenv/versions/dataAnalysis/lib/python3.6/site-packages/ipykernel/__main__.py:1: FutureWarning: Sorting because non-concatenation axis is not aligned. A future version\n",
      "of pandas will change to not sort by default.\n",
      "\n",
      "To accept the future behavior, pass 'sort=False'.\n",
      "\n",
      "To retain the current behavior and silence the warning, pass 'sort=True'.\n",
      "\n",
      "  if __name__ == '__main__':\n"
     ]
    }
   ],
   "source": [
    "temas_total = pd.concat([pattern_df, df_pattern_counts], axis=1)\n",
    "temas_total.drop('tematicas_bolsonaro', axis=1, inplace=True)\n",
    "temas_total.reset_index(inplace=True)"
   ]
  },
  {
   "cell_type": "code",
   "execution_count": 369,
   "metadata": {},
   "outputs": [
    {
     "ename": "ValueError",
     "evalue": "The truth value of a Series is ambiguous. Use a.empty, a.bool(), a.item(), a.any() or a.all().",
     "output_type": "error",
     "traceback": [
      "\u001b[0;31m---------------------------------------------------------------------------\u001b[0m",
      "\u001b[0;31mValueError\u001b[0m                                Traceback (most recent call last)",
      "\u001b[0;32m<ipython-input-369-9eba652dce82>\u001b[0m in \u001b[0;36m<module>\u001b[0;34m\u001b[0m\n\u001b[0;32m----> 1\u001b[0;31m \u001b[0mwrite_df_gsheet\u001b[0m\u001b[0;34m(\u001b[0m\u001b[0;34m'tematicas_bolsonaro'\u001b[0m\u001b[0;34m,\u001b[0m \u001b[0;34m'strings_count'\u001b[0m\u001b[0;34m,\u001b[0m \u001b[0mtemas_total\u001b[0m\u001b[0;34m[\u001b[0m\u001b[0;34m'query'\u001b[0m\u001b[0;34m]\u001b[0m\u001b[0;34m)\u001b[0m\u001b[0;34m\u001b[0m\u001b[0m\n\u001b[0m",
      "\u001b[0;32m~/gdrive/code/functions/GoogleSheet_writes_gsheet.py\u001b[0m in \u001b[0;36mwrite_df_gsheet\u001b[0;34m(sheet_name, tab_name, write_google_sheet)\u001b[0m\n\u001b[1;32m     11\u001b[0m     \u001b[0mwks\u001b[0m \u001b[0;34m=\u001b[0m \u001b[0msh\u001b[0m\u001b[0;34m.\u001b[0m\u001b[0mworksheet\u001b[0m\u001b[0;34m(\u001b[0m\u001b[0;34m'title'\u001b[0m\u001b[0;34m,\u001b[0m \u001b[0mtab_name\u001b[0m\u001b[0;34m)\u001b[0m\u001b[0;34m\u001b[0m\u001b[0m\n\u001b[1;32m     12\u001b[0m     \u001b[0;31m# get the values as a df\u001b[0m\u001b[0;34m\u001b[0m\u001b[0;34m\u001b[0m\u001b[0m\n\u001b[0;32m---> 13\u001b[0;31m     \u001b[0mupload_data\u001b[0m \u001b[0;34m=\u001b[0m \u001b[0mwks\u001b[0m\u001b[0;34m.\u001b[0m\u001b[0mupdate_values\u001b[0m\u001b[0;34m(\u001b[0m\u001b[0;34m'A2'\u001b[0m\u001b[0;34m,\u001b[0m \u001b[0mwrite_google_sheet\u001b[0m\u001b[0;34m)\u001b[0m\u001b[0;34m\u001b[0m\u001b[0m\n\u001b[0m\u001b[1;32m     14\u001b[0m     \u001b[0;32mreturn\u001b[0m\u001b[0;34m(\u001b[0m\u001b[0mupload_data\u001b[0m\u001b[0;34m)\u001b[0m\u001b[0;34m\u001b[0m\u001b[0m\n",
      "\u001b[0;32m~/.pyenv/versions/dataAnalysis/lib/python3.6/site-packages/pygsheets/worksheet.py\u001b[0m in \u001b[0;36mupdate_values\u001b[0;34m(self, crange, values, cell_list, extend, majordim, parse)\u001b[0m\n\u001b[1;32m    589\u001b[0m                 \u001b[0mvalues\u001b[0m \u001b[0;34m=\u001b[0m \u001b[0;34m[\u001b[0m\u001b[0mrow\u001b[0m\u001b[0;34m[\u001b[0m\u001b[0mmin_tuple\u001b[0m\u001b[0;34m[\u001b[0m\u001b[0;36m1\u001b[0m\u001b[0;34m]\u001b[0m\u001b[0;34m-\u001b[0m\u001b[0;36m1\u001b[0m\u001b[0;34m:\u001b[0m\u001b[0mmax_tuple\u001b[0m\u001b[0;34m[\u001b[0m\u001b[0;36m1\u001b[0m\u001b[0;34m]\u001b[0m\u001b[0;34m]\u001b[0m \u001b[0;32mfor\u001b[0m \u001b[0mrow\u001b[0m \u001b[0;32min\u001b[0m \u001b[0mvalues\u001b[0m\u001b[0;34m[\u001b[0m\u001b[0mmin_tuple\u001b[0m\u001b[0;34m[\u001b[0m\u001b[0;36m0\u001b[0m\u001b[0;34m]\u001b[0m\u001b[0;34m-\u001b[0m\u001b[0;36m1\u001b[0m\u001b[0;34m:\u001b[0m\u001b[0mmax_tuple\u001b[0m\u001b[0;34m[\u001b[0m\u001b[0;36m0\u001b[0m\u001b[0;34m]\u001b[0m\u001b[0;34m]\u001b[0m\u001b[0;34m]\u001b[0m\u001b[0;34m\u001b[0m\u001b[0m\n\u001b[1;32m    590\u001b[0m                 \u001b[0mcrange\u001b[0m \u001b[0;34m=\u001b[0m \u001b[0mstr\u001b[0m\u001b[0;34m(\u001b[0m\u001b[0mformat_addr\u001b[0m\u001b[0;34m(\u001b[0m\u001b[0mtuple\u001b[0m\u001b[0;34m(\u001b[0m\u001b[0mmin_tuple\u001b[0m\u001b[0;34m)\u001b[0m\u001b[0;34m)\u001b[0m\u001b[0;34m)\u001b[0m \u001b[0;34m+\u001b[0m \u001b[0;34m':'\u001b[0m \u001b[0;34m+\u001b[0m \u001b[0mstr\u001b[0m\u001b[0;34m(\u001b[0m\u001b[0mformat_addr\u001b[0m\u001b[0;34m(\u001b[0m\u001b[0mtuple\u001b[0m\u001b[0;34m(\u001b[0m\u001b[0mmax_tuple\u001b[0m\u001b[0;34m)\u001b[0m\u001b[0;34m)\u001b[0m\u001b[0;34m)\u001b[0m\u001b[0;34m\u001b[0m\u001b[0m\n\u001b[0;32m--> 591\u001b[0;31m         \u001b[0;32melif\u001b[0m \u001b[0mcrange\u001b[0m \u001b[0;32mand\u001b[0m \u001b[0mvalues\u001b[0m\u001b[0;34m:\u001b[0m\u001b[0;34m\u001b[0m\u001b[0m\n\u001b[0m\u001b[1;32m    592\u001b[0m             \u001b[0;32mif\u001b[0m \u001b[0;32mnot\u001b[0m \u001b[0misinstance\u001b[0m\u001b[0;34m(\u001b[0m\u001b[0mvalues\u001b[0m\u001b[0;34m,\u001b[0m \u001b[0mlist\u001b[0m\u001b[0;34m)\u001b[0m \u001b[0;32mor\u001b[0m \u001b[0;32mnot\u001b[0m \u001b[0misinstance\u001b[0m\u001b[0;34m(\u001b[0m\u001b[0mvalues\u001b[0m\u001b[0;34m[\u001b[0m\u001b[0;36m0\u001b[0m\u001b[0;34m]\u001b[0m\u001b[0;34m,\u001b[0m \u001b[0mlist\u001b[0m\u001b[0;34m)\u001b[0m\u001b[0;34m:\u001b[0m\u001b[0;34m\u001b[0m\u001b[0m\n\u001b[1;32m    593\u001b[0m                 \u001b[0;32mraise\u001b[0m \u001b[0mInvalidArgumentValue\u001b[0m\u001b[0;34m(\u001b[0m\u001b[0;34m\"values should be a matrix\"\u001b[0m\u001b[0;34m)\u001b[0m\u001b[0;34m\u001b[0m\u001b[0m\n",
      "\u001b[0;32m~/.pyenv/versions/dataAnalysis/lib/python3.6/site-packages/pandas/core/generic.py\u001b[0m in \u001b[0;36m__nonzero__\u001b[0;34m(self)\u001b[0m\n\u001b[1;32m   1554\u001b[0m             \u001b[0;34m\"The truth value of a {0} is ambiguous. \"\u001b[0m\u001b[0;34m\u001b[0m\u001b[0m\n\u001b[1;32m   1555\u001b[0m             \"Use a.empty, a.bool(), a.item(), a.any() or a.all().\".format(\n\u001b[0;32m-> 1556\u001b[0;31m                 \u001b[0mself\u001b[0m\u001b[0;34m.\u001b[0m\u001b[0m__class__\u001b[0m\u001b[0;34m.\u001b[0m\u001b[0m__name__\u001b[0m\u001b[0;34m\u001b[0m\u001b[0m\n\u001b[0m\u001b[1;32m   1557\u001b[0m             )\n\u001b[1;32m   1558\u001b[0m         )\n",
      "\u001b[0;31mValueError\u001b[0m: The truth value of a Series is ambiguous. Use a.empty, a.bool(), a.item(), a.any() or a.all()."
     ]
    }
   ],
   "source": [
    "write_df_gsheet('tematicas_bolsonaro', 'strings_count', temas_total['query'])"
   ]
  },
  {
   "cell_type": "markdown",
   "metadata": {},
   "source": [
    "# Pre-processing"
   ]
  },
  {
   "cell_type": "markdown",
   "metadata": {},
   "source": [
    "* __stemming operations__"
   ]
  },
  {
   "cell_type": "code",
   "execution_count": 599,
   "metadata": {},
   "outputs": [],
   "source": [
    "from nltk.stem.snowball import SnowballStemmer\n",
    "stemmer = SnowballStemmer('portuguese')\n",
    "\n",
    "def stemming(text):\n",
    "    text = [stemmer.stem(word) for word in text.split()]\n",
    "    return(' '.join(text))"
   ]
  },
  {
   "cell_type": "code",
   "execution_count": 600,
   "metadata": {},
   "outputs": [],
   "source": [
    "df['text_stem'] = df.text.apply(stemming)"
   ]
  },
  {
   "cell_type": "code",
   "execution_count": 601,
   "metadata": {},
   "outputs": [
    {
     "data": {
      "text/plain": [
       "0       resum ida pelotasrs ocasiã entreg trech br 116\n",
       "1    parabéns atlet represent brasil jog panamerica...\n",
       "2    345 x 76 textobas med provisór liberdad econôm...\n",
       "Name: text_stem, dtype: object"
      ]
     },
     "execution_count": 601,
     "metadata": {},
     "output_type": "execute_result"
    }
   ],
   "source": [
    "df.text_stem.head(3)"
   ]
  },
  {
   "cell_type": "code",
   "execution_count": 602,
   "metadata": {},
   "outputs": [],
   "source": [
    "from nltk.stem.lancaster import LancasterStemmer\n",
    "lst = LancasterStemmer()\n",
    "words_stemm = [lst.stem(w) for w in word_tokenize(tweets_str)]"
   ]
  },
  {
   "cell_type": "code",
   "execution_count": 603,
   "metadata": {},
   "outputs": [
    {
     "data": {
      "text/plain": [
       "list"
      ]
     },
     "execution_count": 603,
     "metadata": {},
     "output_type": "execute_result"
    }
   ],
   "source": [
    "type(words_stemm)"
   ]
  },
  {
   "cell_type": "markdown",
   "metadata": {},
   "source": [
    "Lemmatization\n",
    "* https://www.kaggle.com/alvations/basic-nlp-with-nltk"
   ]
  },
  {
   "cell_type": "markdown",
   "metadata": {},
   "source": [
    "* __tokenize and bigram__"
   ]
  },
  {
   "cell_type": "code",
   "execution_count": 605,
   "metadata": {},
   "outputs": [],
   "source": [
    "from nltk.tokenize import word_tokenize, TweetTokenizer\n",
    "from nltk.collocations import *"
   ]
  },
  {
   "cell_type": "code",
   "execution_count": 606,
   "metadata": {},
   "outputs": [],
   "source": [
    "import nltk\n",
    "words_bigam = nltk.collocations.BigramAssocMeasures()\n",
    "\n",
    "words_finder = nltk.BigramCollocationFinder.from_words(clean_text)"
   ]
  },
  {
   "cell_type": "markdown",
   "metadata": {},
   "source": [
    "* Bag of words\n",
    "* TF-IDF\n",
    "* Word2Vec\n",
    "etc\n",
    "* https://www.kaggle.com/shashanksai/text-preprocessing-using-python"
   ]
  },
  {
   "cell_type": "markdown",
   "metadata": {},
   "source": [
    "Vectorization\n",
    "* https://www.kaggle.com/ragnisah/text-data-cleaning-tweets-analysis"
   ]
  },
  {
   "cell_type": "code",
   "execution_count": 642,
   "metadata": {},
   "outputs": [],
   "source": [
    "from sklearn.feature_extraction.text import CountVectorizer\n",
    "countVectorizer = CountVectorizer(analyzer=df.text.to_list())"
   ]
  },
  {
   "cell_type": "code",
   "execution_count": 645,
   "metadata": {},
   "outputs": [],
   "source": [
    "# countVector = countVectorizer.fit_transform(df.text.to_list())"
   ]
  },
  {
   "cell_type": "markdown",
   "metadata": {},
   "source": [
    "Text classification\n",
    "* https://www.kaggle.com/sanikamal/text-classification-with-python-and-keras\n",
    "* https://github.com/costezki/awesome-nlprojects\n",
    "* https://www.kaggle.com/getting-started/51445"
   ]
  },
  {
   "cell_type": "markdown",
   "metadata": {},
   "source": [
    "# Feature extraction"
   ]
  },
  {
   "cell_type": "markdown",
   "metadata": {},
   "source": [
    "* lenth of the text"
   ]
  },
  {
   "cell_type": "code",
   "execution_count": 213,
   "metadata": {},
   "outputs": [],
   "source": [
    "def length(text):\n",
    "    return(len(text))"
   ]
  },
  {
   "cell_type": "code",
   "execution_count": 216,
   "metadata": {},
   "outputs": [],
   "source": [
    "df['length'] = df.detail.apply(length)"
   ]
  },
  {
   "cell_type": "code",
   "execution_count": null,
   "metadata": {},
   "outputs": [],
   "source": []
  },
  {
   "cell_type": "markdown",
   "metadata": {},
   "source": [
    "* Mentions"
   ]
  },
  {
   "cell_type": "code",
   "execution_count": 16,
   "metadata": {},
   "outputs": [],
   "source": [
    "df['mentions'] = [re.findall('RT (@\\w+)', i) for i in df.detail]\n",
    "df['mentions'] = df.mentions.apply(clear_list)"
   ]
  },
  {
   "cell_type": "code",
   "execution_count": 17,
   "metadata": {},
   "outputs": [
    {
     "data": {
      "image/png": "[encoded data removed]",
      "text/plain": [
       "<Figure size 432x288 with 1 Axes>"
      ]
     },
     "metadata": {
      "needs_background": "light"
     },
     "output_type": "display_data"
    }
   ],
   "source": [
    "df.mentions.value_counts()[1:11].plot(kind='bar')\n",
    "sns.despine();"
   ]
  },
  {
   "cell_type": "markdown",
   "metadata": {},
   "source": [
    "* Hashtags"
   ]
  },
  {
   "cell_type": "code",
   "execution_count": 18,
   "metadata": {},
   "outputs": [],
   "source": [
    "from nltk.tokenize import regexp_tokenize\n",
    "from nltk.tokenize import TweetTokenizer"
   ]
  },
  {
   "cell_type": "code",
   "execution_count": 19,
   "metadata": {},
   "outputs": [],
   "source": [
    "def hashtags(col):\n",
    "    pattern = r'#\\w+'\n",
    "    hashtag = regexp_tokenize(col, pattern)\n",
    "    return(hashtag)"
   ]
  },
  {
   "cell_type": "code",
   "execution_count": 20,
   "metadata": {},
   "outputs": [],
   "source": [
    "df['hashtag'] = df.detail.apply(hashtags)"
   ]
  },
  {
   "cell_type": "code",
   "execution_count": 21,
   "metadata": {},
   "outputs": [
    {
     "data": {
      "text/plain": [
       "0       []\n",
       "1       []\n",
       "2       []\n",
       "3       []\n",
       "4       []\n",
       "        ..\n",
       "1824    []\n",
       "1825    []\n",
       "1826    []\n",
       "1827    []\n",
       "1828    []\n",
       "Name: hashtag, Length: 1809, dtype: object"
      ]
     },
     "execution_count": 21,
     "metadata": {},
     "output_type": "execute_result"
    }
   ],
   "source": [
    "df['hashtag']"
   ]
  },
  {
   "cell_type": "markdown",
   "metadata": {},
   "source": [
    "* Emojis"
   ]
  },
  {
   "cell_type": "code",
   "execution_count": 22,
   "metadata": {},
   "outputs": [],
   "source": [
    "def emojis(col):\n",
    "    pattern = \"['\\U0001F300-\\U0001F5FF'|'\\U0001F600-\\U0001F64F'|'\\U0001F680-\\U0001F6FF'|'\\u2600-\\u26FF\\u2700-\\u27BF']\"\n",
    "    emoji = regexp_tokenize(col, pattern)\n",
    "    return(emoji)"
   ]
  },
  {
   "cell_type": "code",
   "execution_count": 23,
   "metadata": {},
   "outputs": [],
   "source": [
    "df['emojis'] = df.detail.apply(emojis)"
   ]
  },
  {
   "cell_type": "code",
   "execution_count": 24,
   "metadata": {},
   "outputs": [
    {
     "data": {
      "text/html": [
       "<div>\n",
       "<style scoped>\n",
       "    .dataframe tbody tr th:only-of-type {\n",
       "        vertical-align: middle;\n",
       "    }\n",
       "\n",
       "    .dataframe tbody tr th {\n",
       "        vertical-align: top;\n",
       "    }\n",
       "\n",
       "    .dataframe thead th {\n",
       "        text-align: right;\n",
       "    }\n",
       "</style>\n",
       "<table border=\"1\" class=\"dataframe\">\n",
       "  <thead>\n",
       "    <tr style=\"text-align: right;\">\n",
       "      <th></th>\n",
       "      <th>id</th>\n",
       "      <th>detail</th>\n",
       "      <th>link</th>\n",
       "      <th>update_date</th>\n",
       "      <th>publish_date</th>\n",
       "      <th>tags</th>\n",
       "      <th>audience</th>\n",
       "      <th>reach</th>\n",
       "      <th>interactions</th>\n",
       "      <th>mentions</th>\n",
       "      <th>hashtag</th>\n",
       "      <th>emojis</th>\n",
       "    </tr>\n",
       "  </thead>\n",
       "  <tbody>\n",
       "    <tr>\n",
       "      <th>0</th>\n",
       "      <td>336912077</td>\n",
       "      <td>- Resumo de nossa ida a Pelotas/RS por ocasião...</td>\n",
       "      <td>https://twitter.com/jairbolsonaro/status/11612...</td>\n",
       "      <td>30/09/2019 09:17:00</td>\n",
       "      <td>13/08/2019 08:28:34</td>\n",
       "      <td>NaN</td>\n",
       "      <td>4856491</td>\n",
       "      <td>165120</td>\n",
       "      <td>41447</td>\n",
       "      <td></td>\n",
       "      <td>[]</td>\n",
       "      <td>[]</td>\n",
       "    </tr>\n",
       "    <tr>\n",
       "      <th>1</th>\n",
       "      <td>337133609</td>\n",
       "      <td>- Parabéns aos nossos atletas que representara...</td>\n",
       "      <td>https://twitter.com/jairbolsonaro/status/11613...</td>\n",
       "      <td>30/09/2019 09:17:00</td>\n",
       "      <td>13/08/2019 16:47:07</td>\n",
       "      <td>NaN</td>\n",
       "      <td>4856491</td>\n",
       "      <td>165120</td>\n",
       "      <td>65648</td>\n",
       "      <td></td>\n",
       "      <td>[]</td>\n",
       "      <td>[]</td>\n",
       "    </tr>\n",
       "    <tr>\n",
       "      <th>2</th>\n",
       "      <td>337329849</td>\n",
       "      <td>- Por 345 x 76,  texto-base da nossa Medida Pr...</td>\n",
       "      <td>https://twitter.com/jairbolsonaro/status/11614...</td>\n",
       "      <td>30/09/2019 09:17:00</td>\n",
       "      <td>13/08/2019 23:49:04</td>\n",
       "      <td>NaN</td>\n",
       "      <td>4872196</td>\n",
       "      <td>165654</td>\n",
       "      <td>67824</td>\n",
       "      <td></td>\n",
       "      <td>[]</td>\n",
       "      <td>[]</td>\n",
       "    </tr>\n",
       "    <tr>\n",
       "      <th>3</th>\n",
       "      <td>337343559</td>\n",
       "      <td>Grande dia! :+1:</td>\n",
       "      <td>https://twitter.com/jairbolsonaro/status/11614...</td>\n",
       "      <td>30/09/2019 09:17:00</td>\n",
       "      <td>13/08/2019 23:41:53</td>\n",
       "      <td>NaN</td>\n",
       "      <td>4872196</td>\n",
       "      <td>165654</td>\n",
       "      <td>8614</td>\n",
       "      <td></td>\n",
       "      <td>[]</td>\n",
       "      <td>[]</td>\n",
       "    </tr>\n",
       "    <tr>\n",
       "      <th>4</th>\n",
       "      <td>337446779</td>\n",
       "      <td>RT @DamaresAlves: Tiraram dinheiro da construç...</td>\n",
       "      <td>https://twitter.com/jairbolsonaro/status/11615...</td>\n",
       "      <td>30/09/2019 09:17:00</td>\n",
       "      <td>13/08/2019 22:23:25</td>\n",
       "      <td>Bolsonaro</td>\n",
       "      <td>4872196</td>\n",
       "      <td>165654</td>\n",
       "      <td>0</td>\n",
       "      <td>@DamaresAlves</td>\n",
       "      <td>[]</td>\n",
       "      <td>[]</td>\n",
       "    </tr>\n",
       "    <tr>\n",
       "      <th>5</th>\n",
       "      <td>337546713</td>\n",
       "      <td>- Recepção calorosa em Parnaíba/Piauí. :br:htt...</td>\n",
       "      <td>https://twitter.com/jairbolsonaro/status/11616...</td>\n",
       "      <td>30/09/2019 09:17:00</td>\n",
       "      <td>14/08/2019 11:31:07</td>\n",
       "      <td>NaN</td>\n",
       "      <td>4872196</td>\n",
       "      <td>165654</td>\n",
       "      <td>64296</td>\n",
       "      <td></td>\n",
       "      <td>[]</td>\n",
       "      <td>[]</td>\n",
       "    </tr>\n",
       "    <tr>\n",
       "      <th>6</th>\n",
       "      <td>337594081</td>\n",
       "      <td>- Com o prefeito Mão Santa, de Parnaíba. Obrig...</td>\n",
       "      <td>https://twitter.com/jairbolsonaro/status/11616...</td>\n",
       "      <td>30/09/2019 09:17:00</td>\n",
       "      <td>14/08/2019 14:02:59</td>\n",
       "      <td>NaN</td>\n",
       "      <td>4872196</td>\n",
       "      <td>165654</td>\n",
       "      <td>39952</td>\n",
       "      <td></td>\n",
       "      <td>[]</td>\n",
       "      <td>[]</td>\n",
       "    </tr>\n",
       "    <tr>\n",
       "      <th>7</th>\n",
       "      <td>337798915</td>\n",
       "      <td>- Os preços começam a se aproximar dos valores...</td>\n",
       "      <td>https://twitter.com/jairbolsonaro/status/11617...</td>\n",
       "      <td>30/09/2019 09:17:00</td>\n",
       "      <td>14/08/2019 21:39:36</td>\n",
       "      <td>NaN</td>\n",
       "      <td>4872196</td>\n",
       "      <td>165654</td>\n",
       "      <td>39269</td>\n",
       "      <td></td>\n",
       "      <td>[]</td>\n",
       "      <td>[]</td>\n",
       "    </tr>\n",
       "    <tr>\n",
       "      <th>8</th>\n",
       "      <td>337798925</td>\n",
       "      <td>- Fernandez-Kirchner tiveram 47% dos votos na ...</td>\n",
       "      <td>https://twitter.com/jairbolsonaro/status/11617...</td>\n",
       "      <td>30/09/2019 09:17:00</td>\n",
       "      <td>14/08/2019 21:39:35</td>\n",
       "      <td>NaN</td>\n",
       "      <td>4872196</td>\n",
       "      <td>165654</td>\n",
       "      <td>63921</td>\n",
       "      <td></td>\n",
       "      <td>[]</td>\n",
       "      <td>[]</td>\n",
       "    </tr>\n",
       "    <tr>\n",
       "      <th>9</th>\n",
       "      <td>337818361</td>\n",
       "      <td>- :+1::br:https://twitter.com/tarcisiogdf/stat...</td>\n",
       "      <td>https://twitter.com/jairbolsonaro/status/11618...</td>\n",
       "      <td>30/09/2019 09:17:00</td>\n",
       "      <td>14/08/2019 21:48:24</td>\n",
       "      <td>NaN</td>\n",
       "      <td>4872196</td>\n",
       "      <td>165654</td>\n",
       "      <td>27451</td>\n",
       "      <td></td>\n",
       "      <td>[]</td>\n",
       "      <td>[]</td>\n",
       "    </tr>\n",
       "    <tr>\n",
       "      <th>10</th>\n",
       "      <td>337820851</td>\n",
       "      <td>- Vamos acabar com o ... no Brasil!https://twi...</td>\n",
       "      <td>https://twitter.com/jairbolsonaro/status/11618...</td>\n",
       "      <td>30/09/2019 09:17:00</td>\n",
       "      <td>14/08/2019 21:54:56</td>\n",
       "      <td>NaN</td>\n",
       "      <td>4872196</td>\n",
       "      <td>165654</td>\n",
       "      <td>39188</td>\n",
       "      <td></td>\n",
       "      <td>[]</td>\n",
       "      <td>[]</td>\n",
       "    </tr>\n",
       "    <tr>\n",
       "      <th>11</th>\n",
       "      <td>337828021</td>\n",
       "      <td>- O Rio Grande do Sul corre o risco, pela volt...</td>\n",
       "      <td>https://twitter.com/jairbolsonaro/status/11618...</td>\n",
       "      <td>30/09/2019 09:17:00</td>\n",
       "      <td>14/08/2019 22:07:34</td>\n",
       "      <td>NaN</td>\n",
       "      <td>4872196</td>\n",
       "      <td>165654</td>\n",
       "      <td>38331</td>\n",
       "      <td></td>\n",
       "      <td>[]</td>\n",
       "      <td>[]</td>\n",
       "    </tr>\n",
       "    <tr>\n",
       "      <th>12</th>\n",
       "      <td>338040599</td>\n",
       "      <td>- Após o G-20, caso tivesse demarcado mais alg...</td>\n",
       "      <td>https://twitter.com/jairbolsonaro/status/11619...</td>\n",
       "      <td>30/09/2019 09:17:00</td>\n",
       "      <td>15/08/2019 09:06:45</td>\n",
       "      <td>NaN</td>\n",
       "      <td>4872196</td>\n",
       "      <td>165654</td>\n",
       "      <td>45939</td>\n",
       "      <td></td>\n",
       "      <td>[]</td>\n",
       "      <td>[]</td>\n",
       "    </tr>\n",
       "    <tr>\n",
       "      <th>13</th>\n",
       "      <td>338377873</td>\n",
       "      <td>- Prefeito de Miami nos visita e reforça nosso...</td>\n",
       "      <td>https://twitter.com/jairbolsonaro/status/11621...</td>\n",
       "      <td>30/09/2019 09:17:00</td>\n",
       "      <td>15/08/2019 21:16:26</td>\n",
       "      <td>NaN</td>\n",
       "      <td>4872196</td>\n",
       "      <td>165654</td>\n",
       "      <td>39002</td>\n",
       "      <td></td>\n",
       "      <td>[]</td>\n",
       "      <td>[]</td>\n",
       "    </tr>\n",
       "    <tr>\n",
       "      <th>14</th>\n",
       "      <td>338388499</td>\n",
       "      <td>Live de quinta-feira com o Presidente (15/08/2...</td>\n",
       "      <td>https://twitter.com/jairbolsonaro/status/11621...</td>\n",
       "      <td>30/09/2019 09:17:00</td>\n",
       "      <td>15/08/2019 21:33:06</td>\n",
       "      <td>Bolsonaro</td>\n",
       "      <td>4872196</td>\n",
       "      <td>165654</td>\n",
       "      <td>16597</td>\n",
       "      <td></td>\n",
       "      <td>[]</td>\n",
       "      <td>[]</td>\n",
       "    </tr>\n",
       "    <tr>\n",
       "      <th>15</th>\n",
       "      <td>338605403</td>\n",
       "      <td>- Assinei Decreto 9.971 que reduz os impostos ...</td>\n",
       "      <td>https://twitter.com/jairbolsonaro/status/11623...</td>\n",
       "      <td>30/09/2019 09:17:00</td>\n",
       "      <td>16/08/2019 08:25:14</td>\n",
       "      <td>NaN</td>\n",
       "      <td>4884328</td>\n",
       "      <td>166067</td>\n",
       "      <td>72664</td>\n",
       "      <td></td>\n",
       "      <td>[]</td>\n",
       "      <td>[]</td>\n",
       "    </tr>\n",
       "    <tr>\n",
       "      <th>16</th>\n",
       "      <td>338728611</td>\n",
       "      <td>- Boris Casoy e a retirada dos radares móveis ...</td>\n",
       "      <td>https://twitter.com/jairbolsonaro/status/11624...</td>\n",
       "      <td>30/09/2019 09:17:00</td>\n",
       "      <td>16/08/2019 15:15:37</td>\n",
       "      <td>NaN</td>\n",
       "      <td>4884328</td>\n",
       "      <td>166067</td>\n",
       "      <td>55310</td>\n",
       "      <td></td>\n",
       "      <td>[]</td>\n",
       "      <td>[]</td>\n",
       "    </tr>\n",
       "    <tr>\n",
       "      <th>17</th>\n",
       "      <td>338830193</td>\n",
       "      <td>- Recepção aos nossos bravos do Panamericano d...</td>\n",
       "      <td>https://twitter.com/jairbolsonaro/status/11624...</td>\n",
       "      <td>30/09/2019 09:17:00</td>\n",
       "      <td>16/08/2019 19:42:41</td>\n",
       "      <td>NaN</td>\n",
       "      <td>4884328</td>\n",
       "      <td>166067</td>\n",
       "      <td>41159</td>\n",
       "      <td></td>\n",
       "      <td>[]</td>\n",
       "      <td>[]</td>\n",
       "    </tr>\n",
       "    <tr>\n",
       "      <th>18</th>\n",
       "      <td>339042913</td>\n",
       "      <td>- Nos últimos 22 anos (1995 a 2016) o Brasil f...</td>\n",
       "      <td>https://twitter.com/jairbolsonaro/status/11626...</td>\n",
       "      <td>30/09/2019 09:17:00</td>\n",
       "      <td>17/08/2019 08:38:39</td>\n",
       "      <td>NaN</td>\n",
       "      <td>4884328</td>\n",
       "      <td>166067</td>\n",
       "      <td>85816</td>\n",
       "      <td></td>\n",
       "      <td>[]</td>\n",
       "      <td>[]</td>\n",
       "    </tr>\n",
       "    <tr>\n",
       "      <th>19</th>\n",
       "      <td>339147435</td>\n",
       "      <td>- Academia Militar das Agulhas Negras. Humilda...</td>\n",
       "      <td>https://twitter.com/jairbolsonaro/status/11627...</td>\n",
       "      <td>30/09/2019 09:17:00</td>\n",
       "      <td>17/08/2019 13:54:47</td>\n",
       "      <td>NaN</td>\n",
       "      <td>4884328</td>\n",
       "      <td>166067</td>\n",
       "      <td>38445</td>\n",
       "      <td></td>\n",
       "      <td>[]</td>\n",
       "      <td>[]</td>\n",
       "    </tr>\n",
       "    <tr>\n",
       "      <th>20</th>\n",
       "      <td>339204187</td>\n",
       "      <td>- Logo mais, às 20 hs, estarei em Barretos/SP....</td>\n",
       "      <td>https://twitter.com/jairbolsonaro/status/11628...</td>\n",
       "      <td>30/09/2019 09:17:00</td>\n",
       "      <td>17/08/2019 16:51:30</td>\n",
       "      <td>NaN</td>\n",
       "      <td>4884328</td>\n",
       "      <td>166067</td>\n",
       "      <td>27629</td>\n",
       "      <td></td>\n",
       "      <td>[]</td>\n",
       "      <td>[]</td>\n",
       "    </tr>\n",
       "    <tr>\n",
       "      <th>21</th>\n",
       "      <td>339229155</td>\n",
       "      <td>- Nas ruas de Guaratinguetá/SP. Rumo a Barreto...</td>\n",
       "      <td>https://twitter.com/jairbolsonaro/status/11628...</td>\n",
       "      <td>30/09/2019 09:17:00</td>\n",
       "      <td>17/08/2019 18:19:19</td>\n",
       "      <td>NaN</td>\n",
       "      <td>4884328</td>\n",
       "      <td>166067</td>\n",
       "      <td>36674</td>\n",
       "      <td></td>\n",
       "      <td>[]</td>\n",
       "      <td>[]</td>\n",
       "    </tr>\n",
       "    <tr>\n",
       "      <th>22</th>\n",
       "      <td>339343527</td>\n",
       "      <td>- GRANDE VITÓRIA! :br::br: @BorrachinhaMMA :+1...</td>\n",
       "      <td>https://twitter.com/jairbolsonaro/status/11629...</td>\n",
       "      <td>30/09/2019 09:17:00</td>\n",
       "      <td>18/08/2019 00:52:58</td>\n",
       "      <td>NaN</td>\n",
       "      <td>4884328</td>\n",
       "      <td>166067</td>\n",
       "      <td>38198</td>\n",
       "      <td></td>\n",
       "      <td>[]</td>\n",
       "      <td>[]</td>\n",
       "    </tr>\n",
       "    <tr>\n",
       "      <th>23</th>\n",
       "      <td>339418027</td>\n",
       "      <td>- Da série JOÃO 8:32 (4) - Com o possível reto...</td>\n",
       "      <td>https://twitter.com/jairbolsonaro/status/11630...</td>\n",
       "      <td>30/09/2019 09:17:00</td>\n",
       "      <td>18/08/2019 08:47:39</td>\n",
       "      <td>NaN</td>\n",
       "      <td>4884328</td>\n",
       "      <td>166067</td>\n",
       "      <td>62749</td>\n",
       "      <td></td>\n",
       "      <td>[]</td>\n",
       "      <td>[]</td>\n",
       "    </tr>\n",
       "    <tr>\n",
       "      <th>24</th>\n",
       "      <td>339418029</td>\n",
       "      <td>- Provérbios 28:19: &amp;quot;Quem lavra sua terra...</td>\n",
       "      <td>https://twitter.com/jairbolsonaro/status/11630...</td>\n",
       "      <td>30/09/2019 09:17:00</td>\n",
       "      <td>18/08/2019 08:47:39</td>\n",
       "      <td>NaN</td>\n",
       "      <td>4884328</td>\n",
       "      <td>166067</td>\n",
       "      <td>52845</td>\n",
       "      <td></td>\n",
       "      <td>[]</td>\n",
       "      <td>[]</td>\n",
       "    </tr>\n",
       "    <tr>\n",
       "      <th>25</th>\n",
       "      <td>339670191</td>\n",
       "      <td>- Em torno de 40% do Fundo Amazônico vai para ...</td>\n",
       "      <td>https://twitter.com/jairbolsonaro/status/11632...</td>\n",
       "      <td>30/09/2019 09:17:00</td>\n",
       "      <td>18/08/2019 21:13:31</td>\n",
       "      <td>NaN</td>\n",
       "      <td>4884328</td>\n",
       "      <td>166067</td>\n",
       "      <td>64657</td>\n",
       "      <td></td>\n",
       "      <td>[]</td>\n",
       "      <td>[]</td>\n",
       "    </tr>\n",
       "    <tr>\n",
       "      <th>26</th>\n",
       "      <td>340246533</td>\n",
       "      <td>- É nossa política cooperar com outros países ...</td>\n",
       "      <td>https://twitter.com/jairbolsonaro/status/11637...</td>\n",
       "      <td>30/09/2019 09:17:00</td>\n",
       "      <td>20/08/2019 03:36:47</td>\n",
       "      <td>NaN</td>\n",
       "      <td>4884328</td>\n",
       "      <td>166067</td>\n",
       "      <td>48446</td>\n",
       "      <td></td>\n",
       "      <td>[]</td>\n",
       "      <td>[]</td>\n",
       "    </tr>\n",
       "    <tr>\n",
       "      <th>27</th>\n",
       "      <td>340246539</td>\n",
       "      <td>- Em 1991 Norambuena foi condenado no Chile pe...</td>\n",
       "      <td>https://twitter.com/jairbolsonaro/status/11637...</td>\n",
       "      <td>30/09/2019 09:17:00</td>\n",
       "      <td>20/08/2019 03:36:48</td>\n",
       "      <td>Casas Federais</td>\n",
       "      <td>4884328</td>\n",
       "      <td>166067</td>\n",
       "      <td>33755</td>\n",
       "      <td></td>\n",
       "      <td>[]</td>\n",
       "      <td>[]</td>\n",
       "    </tr>\n",
       "    <tr>\n",
       "      <th>28</th>\n",
       "      <td>340386331</td>\n",
       "      <td>Parabéns aos policiais do Rio de Janeiro pela ...</td>\n",
       "      <td>https://twitter.com/jairbolsonaro/status/11638...</td>\n",
       "      <td>30/09/2019 09:17:00</td>\n",
       "      <td>20/08/2019 10:59:14</td>\n",
       "      <td>NaN</td>\n",
       "      <td>4884328</td>\n",
       "      <td>166067</td>\n",
       "      <td>173744</td>\n",
       "      <td></td>\n",
       "      <td>[]</td>\n",
       "      <td>[]</td>\n",
       "    </tr>\n",
       "    <tr>\n",
       "      <th>29</th>\n",
       "      <td>340422631</td>\n",
       "      <td>RT @ArthurWeint: &amp;quot;No bem dos justos exult...</td>\n",
       "      <td>https://twitter.com/jairbolsonaro/status/11638...</td>\n",
       "      <td>30/09/2019 09:17:00</td>\n",
       "      <td>20/08/2019 11:34:25</td>\n",
       "      <td>NaN</td>\n",
       "      <td>4884328</td>\n",
       "      <td>166067</td>\n",
       "      <td>0</td>\n",
       "      <td>@ArthurWeint</td>\n",
       "      <td>[]</td>\n",
       "      <td>[]</td>\n",
       "    </tr>\n",
       "    <tr>\n",
       "      <th>...</th>\n",
       "      <td>...</td>\n",
       "      <td>...</td>\n",
       "      <td>...</td>\n",
       "      <td>...</td>\n",
       "      <td>...</td>\n",
       "      <td>...</td>\n",
       "      <td>...</td>\n",
       "      <td>...</td>\n",
       "      <td>...</td>\n",
       "      <td>...</td>\n",
       "      <td>...</td>\n",
       "      <td>...</td>\n",
       "    </tr>\n",
       "    <tr>\n",
       "      <th>1798</th>\n",
       "      <td>249208945</td>\n",
       "      <td>:handshake:https://twitter.com/sgovpr/status/1...</td>\n",
       "      <td>https://twitter.com/jairbolsonaro/status/10928...</td>\n",
       "      <td>30/09/2019 09:18:24</td>\n",
       "      <td>05/02/2019 18:24:18</td>\n",
       "      <td>NaN</td>\n",
       "      <td>3239575</td>\n",
       "      <td>110145</td>\n",
       "      <td>19243</td>\n",
       "      <td></td>\n",
       "      <td>[]</td>\n",
       "      <td>[]</td>\n",
       "    </tr>\n",
       "    <tr>\n",
       "      <th>1799</th>\n",
       "      <td>250180839</td>\n",
       "      <td>RT @Min_Agricultura: Portaria assinada hoje pe...</td>\n",
       "      <td>https://twitter.com/jairbolsonaro/status/10936...</td>\n",
       "      <td>30/09/2019 09:18:25</td>\n",
       "      <td>03/02/2019 13:06:15</td>\n",
       "      <td>NaN</td>\n",
       "      <td>3281538</td>\n",
       "      <td>111572</td>\n",
       "      <td>0</td>\n",
       "      <td>@Min_Agricultura</td>\n",
       "      <td>[]</td>\n",
       "      <td>[]</td>\n",
       "    </tr>\n",
       "    <tr>\n",
       "      <th>1800</th>\n",
       "      <td>225297515</td>\n",
       "      <td>FELIZ 2019 :br::br::br:</td>\n",
       "      <td>https://twitter.com/jairbolsonaro/status/10799...</td>\n",
       "      <td>30/09/2019 09:18:34</td>\n",
       "      <td>01/01/2019 02:21:31</td>\n",
       "      <td>NaN</td>\n",
       "      <td>2739224</td>\n",
       "      <td>93133</td>\n",
       "      <td>176551</td>\n",
       "      <td></td>\n",
       "      <td>[]</td>\n",
       "      <td>[]</td>\n",
       "    </tr>\n",
       "    <tr>\n",
       "      <th>1801</th>\n",
       "      <td>225306949</td>\n",
       "      <td>Nos vemos na posse. Um forte abraço!</td>\n",
       "      <td>https://twitter.com/jairbolsonaro/status/10799...</td>\n",
       "      <td>30/09/2019 09:18:34</td>\n",
       "      <td>01/01/2019 02:32:10</td>\n",
       "      <td>NaN</td>\n",
       "      <td>2739224</td>\n",
       "      <td>93133</td>\n",
       "      <td>93579</td>\n",
       "      <td></td>\n",
       "      <td>[]</td>\n",
       "      <td>[]</td>\n",
       "    </tr>\n",
       "    <tr>\n",
       "      <th>1802</th>\n",
       "      <td>225510623</td>\n",
       "      <td>Não é a primeira fakenews do ano, mas vale uma...</td>\n",
       "      <td>https://twitter.com/jairbolsonaro/status/10800...</td>\n",
       "      <td>30/09/2019 09:18:34</td>\n",
       "      <td>01/01/2019 10:00:50</td>\n",
       "      <td>NaN</td>\n",
       "      <td>2739224</td>\n",
       "      <td>93133</td>\n",
       "      <td>45908</td>\n",
       "      <td></td>\n",
       "      <td>[]</td>\n",
       "      <td>[|]</td>\n",
       "    </tr>\n",
       "    <tr>\n",
       "      <th>1803</th>\n",
       "      <td>225653355</td>\n",
       "      <td>- Palavras antes da posse! - Um forte abraço a...</td>\n",
       "      <td>https://twitter.com/jairbolsonaro/status/10801...</td>\n",
       "      <td>30/09/2019 09:18:34</td>\n",
       "      <td>01/01/2019 14:04:49</td>\n",
       "      <td>NaN</td>\n",
       "      <td>2739224</td>\n",
       "      <td>93133</td>\n",
       "      <td>113008</td>\n",
       "      <td></td>\n",
       "      <td>[]</td>\n",
       "      <td>[]</td>\n",
       "    </tr>\n",
       "    <tr>\n",
       "      <th>1804</th>\n",
       "      <td>225791331</td>\n",
       "      <td>Senhor Presidente Trump, agradeço suas palavra...</td>\n",
       "      <td>https://twitter.com/jairbolsonaro/status/10801...</td>\n",
       "      <td>30/09/2019 09:18:34</td>\n",
       "      <td>01/01/2019 16:27:35</td>\n",
       "      <td>NaN</td>\n",
       "      <td>2739224</td>\n",
       "      <td>93133</td>\n",
       "      <td>73924</td>\n",
       "      <td></td>\n",
       "      <td>[]</td>\n",
       "      <td>[]</td>\n",
       "    </tr>\n",
       "    <tr>\n",
       "      <th>1805</th>\n",
       "      <td>225907613</td>\n",
       "      <td>:br::br::br:https://twitter.com/jairbolsonaro/...</td>\n",
       "      <td>https://twitter.com/jairbolsonaro/status/10802...</td>\n",
       "      <td>30/09/2019 09:18:34</td>\n",
       "      <td>01/01/2019 18:50:14</td>\n",
       "      <td>NaN</td>\n",
       "      <td>2739224</td>\n",
       "      <td>93133</td>\n",
       "      <td>188802</td>\n",
       "      <td></td>\n",
       "      <td>[]</td>\n",
       "      <td>[]</td>\n",
       "    </tr>\n",
       "    <tr>\n",
       "      <th>1806</th>\n",
       "      <td>226022465</td>\n",
       "      <td>Em libras, minha esposa tem a primeira palavra...</td>\n",
       "      <td>https://twitter.com/jairbolsonaro/status/10802...</td>\n",
       "      <td>30/09/2019 09:18:34</td>\n",
       "      <td>01/01/2019 21:17:32</td>\n",
       "      <td>NaN</td>\n",
       "      <td>2739224</td>\n",
       "      <td>93133</td>\n",
       "      <td>82431</td>\n",
       "      <td></td>\n",
       "      <td>[]</td>\n",
       "      <td>[]</td>\n",
       "    </tr>\n",
       "    <tr>\n",
       "      <th>1807</th>\n",
       "      <td>226413961</td>\n",
       "      <td>Dear Mr. President @realDonalTrump, I truly ap...</td>\n",
       "      <td>https://twitter.com/jairbolsonaro/status/10801...</td>\n",
       "      <td>30/09/2019 09:18:34</td>\n",
       "      <td>01/01/2019 16:25:18</td>\n",
       "      <td>NaN</td>\n",
       "      <td>2739224</td>\n",
       "      <td>93133</td>\n",
       "      <td>132182</td>\n",
       "      <td></td>\n",
       "      <td>[]</td>\n",
       "      <td>[]</td>\n",
       "    </tr>\n",
       "    <tr>\n",
       "      <th>1808</th>\n",
       "      <td>226413965</td>\n",
       "      <td>Nosso discurso de posse e que se torna o eixo ...</td>\n",
       "      <td>https://twitter.com/jairbolsonaro/status/10804...</td>\n",
       "      <td>30/09/2019 09:18:34</td>\n",
       "      <td>02/01/2019 09:28:32</td>\n",
       "      <td>NaN</td>\n",
       "      <td>2739224</td>\n",
       "      <td>93133</td>\n",
       "      <td>36918</td>\n",
       "      <td></td>\n",
       "      <td>[]</td>\n",
       "      <td>[]</td>\n",
       "    </tr>\n",
       "    <tr>\n",
       "      <th>1810</th>\n",
       "      <td>226499763</td>\n",
       "      <td>Presidente Duque, Brasil camina junto a Colomb...</td>\n",
       "      <td>https://twitter.com/jairbolsonaro/status/10804...</td>\n",
       "      <td>30/09/2019 09:18:34</td>\n",
       "      <td>02/01/2019 11:47:00</td>\n",
       "      <td>NaN</td>\n",
       "      <td>2739224</td>\n",
       "      <td>93133</td>\n",
       "      <td>24161</td>\n",
       "      <td></td>\n",
       "      <td>[]</td>\n",
       "      <td>[]</td>\n",
       "    </tr>\n",
       "    <tr>\n",
       "      <th>1811</th>\n",
       "      <td>226499765</td>\n",
       "      <td>:handshake::br::us:https://twitter.com/secpomp...</td>\n",
       "      <td>https://twitter.com/jairbolsonaro/status/10804...</td>\n",
       "      <td>30/09/2019 09:18:34</td>\n",
       "      <td>02/01/2019 11:49:02</td>\n",
       "      <td>NaN</td>\n",
       "      <td>2739224</td>\n",
       "      <td>93133</td>\n",
       "      <td>30207</td>\n",
       "      <td></td>\n",
       "      <td>[]</td>\n",
       "      <td>[]</td>\n",
       "    </tr>\n",
       "    <tr>\n",
       "      <th>1812</th>\n",
       "      <td>226499771</td>\n",
       "      <td>Gracias por sus palabras, Presidente. Sin duda...</td>\n",
       "      <td>https://twitter.com/jairbolsonaro/status/10804...</td>\n",
       "      <td>30/09/2019 09:18:34</td>\n",
       "      <td>02/01/2019 11:44:37</td>\n",
       "      <td>Saúde</td>\n",
       "      <td>2739224</td>\n",
       "      <td>93133</td>\n",
       "      <td>39745</td>\n",
       "      <td></td>\n",
       "      <td>[]</td>\n",
       "      <td>[]</td>\n",
       "    </tr>\n",
       "    <tr>\n",
       "      <th>1813</th>\n",
       "      <td>226526543</td>\n",
       "      <td>One of our strategies to get Brazil to climb f...</td>\n",
       "      <td>https://twitter.com/jairbolsonaro/status/10804...</td>\n",
       "      <td>30/09/2019 09:18:34</td>\n",
       "      <td>02/01/2019 11:52:07</td>\n",
       "      <td>NaN</td>\n",
       "      <td>2739224</td>\n",
       "      <td>93133</td>\n",
       "      <td>69887</td>\n",
       "      <td></td>\n",
       "      <td>[]</td>\n",
       "      <td>[]</td>\n",
       "    </tr>\n",
       "    <tr>\n",
       "      <th>1814</th>\n",
       "      <td>226526557</td>\n",
       "      <td>Mais de 15% do território nacional é demarcado...</td>\n",
       "      <td>https://twitter.com/jairbolsonaro/status/10804...</td>\n",
       "      <td>30/09/2019 09:18:34</td>\n",
       "      <td>02/01/2019 12:19:20</td>\n",
       "      <td>NaN</td>\n",
       "      <td>2739224</td>\n",
       "      <td>93133</td>\n",
       "      <td>103643</td>\n",
       "      <td></td>\n",
       "      <td>[]</td>\n",
       "      <td>[]</td>\n",
       "    </tr>\n",
       "    <tr>\n",
       "      <th>1815</th>\n",
       "      <td>226749309</td>\n",
       "      <td>Obrigado pelos belos desenhos e parabéns pelo ...</td>\n",
       "      <td>https://twitter.com/jairbolsonaro/status/10805...</td>\n",
       "      <td>30/09/2019 09:18:34</td>\n",
       "      <td>02/01/2019 17:10:52</td>\n",
       "      <td>NaN</td>\n",
       "      <td>2739224</td>\n",
       "      <td>93133</td>\n",
       "      <td>71172</td>\n",
       "      <td></td>\n",
       "      <td>[]</td>\n",
       "      <td>[|, |]</td>\n",
       "    </tr>\n",
       "    <tr>\n",
       "      <th>1816</th>\n",
       "      <td>226822161</td>\n",
       "      <td>Ministro da Educação desmonta secretaria de di...</td>\n",
       "      <td>https://twitter.com/jairbolsonaro/status/10805...</td>\n",
       "      <td>30/09/2019 09:18:34</td>\n",
       "      <td>02/01/2019 18:51:15</td>\n",
       "      <td>Governo Federal,Economia,Educação</td>\n",
       "      <td>2808208</td>\n",
       "      <td>95479</td>\n",
       "      <td>115804</td>\n",
       "      <td></td>\n",
       "      <td>[]</td>\n",
       "      <td>[]</td>\n",
       "    </tr>\n",
       "    <tr>\n",
       "      <th>1817</th>\n",
       "      <td>226885853</td>\n",
       "      <td>RT @republica_ctba: Bolsa bate recorde e dólar...</td>\n",
       "      <td>https://twitter.com/jairbolsonaro/status/10805...</td>\n",
       "      <td>30/09/2019 09:18:34</td>\n",
       "      <td>02/01/2019 20:04:47</td>\n",
       "      <td>Bolsonaro,Economia</td>\n",
       "      <td>2808208</td>\n",
       "      <td>95479</td>\n",
       "      <td>0</td>\n",
       "      <td>@republica_ctba</td>\n",
       "      <td>[]</td>\n",
       "      <td>[]</td>\n",
       "    </tr>\n",
       "    <tr>\n",
       "      <th>1818</th>\n",
       "      <td>226888113</td>\n",
       "      <td>Nós é que agradecemos a ótima qualidade e preç...</td>\n",
       "      <td>https://twitter.com/jairbolsonaro/status/10805...</td>\n",
       "      <td>30/09/2019 09:18:34</td>\n",
       "      <td>02/01/2019 20:20:30</td>\n",
       "      <td>Economia</td>\n",
       "      <td>2811154</td>\n",
       "      <td>95579</td>\n",
       "      <td>105551</td>\n",
       "      <td></td>\n",
       "      <td>[]</td>\n",
       "      <td>[]</td>\n",
       "    </tr>\n",
       "    <tr>\n",
       "      <th>1819</th>\n",
       "      <td>226916889</td>\n",
       "      <td>RT @odiodobem: No Governo Dilma / No Governo B...</td>\n",
       "      <td>https://twitter.com/jairbolsonaro/status/10805...</td>\n",
       "      <td>30/09/2019 09:18:34</td>\n",
       "      <td>02/01/2019 19:54:43</td>\n",
       "      <td>NaN</td>\n",
       "      <td>2808208</td>\n",
       "      <td>95479</td>\n",
       "      <td>0</td>\n",
       "      <td>@odiodobem</td>\n",
       "      <td>[]</td>\n",
       "      <td>[]</td>\n",
       "    </tr>\n",
       "    <tr>\n",
       "      <th>1820</th>\n",
       "      <td>226985569</td>\n",
       "      <td>RT @CarlosBolsonaro: @CarlosBolsonaro @Revista...</td>\n",
       "      <td>https://twitter.com/jairbolsonaro/status/10806...</td>\n",
       "      <td>30/09/2019 09:18:34</td>\n",
       "      <td>02/01/2019 21:20:14</td>\n",
       "      <td>NaN</td>\n",
       "      <td>2808208</td>\n",
       "      <td>95479</td>\n",
       "      <td>0</td>\n",
       "      <td>@CarlosBolsonaro</td>\n",
       "      <td>[]</td>\n",
       "      <td>[]</td>\n",
       "    </tr>\n",
       "    <tr>\n",
       "      <th>1821</th>\n",
       "      <td>226985579</td>\n",
       "      <td>RT @TonhoDrinks: Jornalistas: &amp;quot;que absurd...</td>\n",
       "      <td>https://twitter.com/jairbolsonaro/status/10806...</td>\n",
       "      <td>30/09/2019 09:18:34</td>\n",
       "      <td>02/01/2019 21:56:42</td>\n",
       "      <td>Bolsonaro</td>\n",
       "      <td>2808208</td>\n",
       "      <td>95479</td>\n",
       "      <td>0</td>\n",
       "      <td>@TonhoDrinks</td>\n",
       "      <td>[]</td>\n",
       "      <td>[]</td>\n",
       "    </tr>\n",
       "    <tr>\n",
       "      <th>1822</th>\n",
       "      <td>226985587</td>\n",
       "      <td>RT @BolsonaroSP: Prazer conceder entrevista ho...</td>\n",
       "      <td>https://twitter.com/jairbolsonaro/status/10806...</td>\n",
       "      <td>30/09/2019 09:18:34</td>\n",
       "      <td>02/01/2019 21:11:27</td>\n",
       "      <td>NaN</td>\n",
       "      <td>2808208</td>\n",
       "      <td>95479</td>\n",
       "      <td>0</td>\n",
       "      <td>@BolsonaroSP</td>\n",
       "      <td>[]</td>\n",
       "      <td>[]</td>\n",
       "    </tr>\n",
       "    <tr>\n",
       "      <th>1823</th>\n",
       "      <td>227017891</td>\n",
       "      <td>Via @CarlosBolsonaro - Infelizmente, este está...</td>\n",
       "      <td>https://twitter.com/jairbolsonaro/status/10806...</td>\n",
       "      <td>30/09/2019 09:18:34</td>\n",
       "      <td>02/01/2019 22:17:09</td>\n",
       "      <td>NaN</td>\n",
       "      <td>2808208</td>\n",
       "      <td>95479</td>\n",
       "      <td>28100</td>\n",
       "      <td></td>\n",
       "      <td>[]</td>\n",
       "      <td>[]</td>\n",
       "    </tr>\n",
       "    <tr>\n",
       "      <th>1824</th>\n",
       "      <td>227025901</td>\n",
       "      <td>Este e muitos outros virão. Os estudos estão s...</td>\n",
       "      <td>https://twitter.com/jairbolsonaro/status/10806...</td>\n",
       "      <td>30/09/2019 09:18:34</td>\n",
       "      <td>02/01/2019 22:55:17</td>\n",
       "      <td>Ministros II</td>\n",
       "      <td>2817147</td>\n",
       "      <td>95783</td>\n",
       "      <td>41986</td>\n",
       "      <td></td>\n",
       "      <td>[]</td>\n",
       "      <td>[]</td>\n",
       "    </tr>\n",
       "    <tr>\n",
       "      <th>1825</th>\n",
       "      <td>227034005</td>\n",
       "      <td>Hoje tentam a todo custo nos explodir de dentr...</td>\n",
       "      <td>https://twitter.com/jairbolsonaro/status/10806...</td>\n",
       "      <td>30/09/2019 09:18:34</td>\n",
       "      <td>02/01/2019 22:52:44</td>\n",
       "      <td>NaN</td>\n",
       "      <td>2817147</td>\n",
       "      <td>95783</td>\n",
       "      <td>101182</td>\n",
       "      <td></td>\n",
       "      <td>[]</td>\n",
       "      <td>[|]</td>\n",
       "    </tr>\n",
       "    <tr>\n",
       "      <th>1826</th>\n",
       "      <td>227059259</td>\n",
       "      <td>RT @TonhoDrinks: De uma hora pra outra uma pos...</td>\n",
       "      <td>https://twitter.com/jairbolsonaro/status/10806...</td>\n",
       "      <td>30/09/2019 09:18:34</td>\n",
       "      <td>02/01/2019 22:40:51</td>\n",
       "      <td>NaN</td>\n",
       "      <td>2817147</td>\n",
       "      <td>95783</td>\n",
       "      <td>0</td>\n",
       "      <td>@TonhoDrinks</td>\n",
       "      <td>[]</td>\n",
       "      <td>[]</td>\n",
       "    </tr>\n",
       "    <tr>\n",
       "      <th>1827</th>\n",
       "      <td>227059261</td>\n",
       "      <td>RT @BolsonaroSP: Sobre @CarlosBolsonaro ter id...</td>\n",
       "      <td>https://twitter.com/jairbolsonaro/status/10806...</td>\n",
       "      <td>30/09/2019 09:18:34</td>\n",
       "      <td>02/01/2019 22:30:31</td>\n",
       "      <td>NaN</td>\n",
       "      <td>2817147</td>\n",
       "      <td>95783</td>\n",
       "      <td>0</td>\n",
       "      <td>@BolsonaroSP</td>\n",
       "      <td>[]</td>\n",
       "      <td>[]</td>\n",
       "    </tr>\n",
       "    <tr>\n",
       "      <th>1828</th>\n",
       "      <td>227107101</td>\n",
       "      <td>Obrigado pela exposição, Renata!https://twitte...</td>\n",
       "      <td>https://twitter.com/jairbolsonaro/status/10806...</td>\n",
       "      <td>30/09/2019 09:18:34</td>\n",
       "      <td>03/01/2019 00:35:35</td>\n",
       "      <td>NaN</td>\n",
       "      <td>2817147</td>\n",
       "      <td>95783</td>\n",
       "      <td>65815</td>\n",
       "      <td></td>\n",
       "      <td>[]</td>\n",
       "      <td>[]</td>\n",
       "    </tr>\n",
       "  </tbody>\n",
       "</table>\n",
       "<p>1809 rows × 12 columns</p>\n",
       "</div>"
      ],
      "text/plain": [
       "             id                                             detail  \\\n",
       "0     336912077  - Resumo de nossa ida a Pelotas/RS por ocasião...   \n",
       "1     337133609  - Parabéns aos nossos atletas que representara...   \n",
       "2     337329849  - Por 345 x 76,  texto-base da nossa Medida Pr...   \n",
       "3     337343559                                   Grande dia! :+1:   \n",
       "4     337446779  RT @DamaresAlves: Tiraram dinheiro da construç...   \n",
       "...         ...                                                ...   \n",
       "1824  227025901  Este e muitos outros virão. Os estudos estão s...   \n",
       "1825  227034005  Hoje tentam a todo custo nos explodir de dentr...   \n",
       "1826  227059259  RT @TonhoDrinks: De uma hora pra outra uma pos...   \n",
       "1827  227059261  RT @BolsonaroSP: Sobre @CarlosBolsonaro ter id...   \n",
       "1828  227107101  Obrigado pela exposição, Renata!https://twitte...   \n",
       "\n",
       "                                                   link          update_date  \\\n",
       "0     https://twitter.com/jairbolsonaro/status/11612...  30/09/2019 09:17:00   \n",
       "1     https://twitter.com/jairbolsonaro/status/11613...  30/09/2019 09:17:00   \n",
       "2     https://twitter.com/jairbolsonaro/status/11614...  30/09/2019 09:17:00   \n",
       "3     https://twitter.com/jairbolsonaro/status/11614...  30/09/2019 09:17:00   \n",
       "4     https://twitter.com/jairbolsonaro/status/11615...  30/09/2019 09:17:00   \n",
       "...                                                 ...                  ...   \n",
       "1824  https://twitter.com/jairbolsonaro/status/10806...  30/09/2019 09:18:34   \n",
       "1825  https://twitter.com/jairbolsonaro/status/10806...  30/09/2019 09:18:34   \n",
       "1826  https://twitter.com/jairbolsonaro/status/10806...  30/09/2019 09:18:34   \n",
       "1827  https://twitter.com/jairbolsonaro/status/10806...  30/09/2019 09:18:34   \n",
       "1828  https://twitter.com/jairbolsonaro/status/10806...  30/09/2019 09:18:34   \n",
       "\n",
       "             publish_date          tags  audience   reach  interactions  \\\n",
       "0     13/08/2019 08:28:34           NaN   4856491  165120         41447   \n",
       "1     13/08/2019 16:47:07           NaN   4856491  165120         65648   \n",
       "2     13/08/2019 23:49:04           NaN   4872196  165654         67824   \n",
       "3     13/08/2019 23:41:53           NaN   4872196  165654          8614   \n",
       "4     13/08/2019 22:23:25     Bolsonaro   4872196  165654             0   \n",
       "...                   ...           ...       ...     ...           ...   \n",
       "1824  02/01/2019 22:55:17  Ministros II   2817147   95783         41986   \n",
       "1825  02/01/2019 22:52:44           NaN   2817147   95783        101182   \n",
       "1826  02/01/2019 22:40:51           NaN   2817147   95783             0   \n",
       "1827  02/01/2019 22:30:31           NaN   2817147   95783             0   \n",
       "1828  03/01/2019 00:35:35           NaN   2817147   95783         65815   \n",
       "\n",
       "           mentions hashtag emojis  \n",
       "0                        []     []  \n",
       "1                        []     []  \n",
       "2                        []     []  \n",
       "3                        []     []  \n",
       "4     @DamaresAlves      []     []  \n",
       "...             ...     ...    ...  \n",
       "1824                     []     []  \n",
       "1825                     []    [|]  \n",
       "1826   @TonhoDrinks      []     []  \n",
       "1827   @BolsonaroSP      []     []  \n",
       "1828                     []     []  \n",
       "\n",
       "[1809 rows x 12 columns]"
      ]
     },
     "execution_count": 24,
     "metadata": {},
     "output_type": "execute_result"
    }
   ],
   "source": [
    "df"
   ]
  },
  {
   "cell_type": "markdown",
   "metadata": {},
   "source": [
    "# Retweets"
   ]
  },
  {
   "cell_type": "code",
   "execution_count": 25,
   "metadata": {},
   "outputs": [],
   "source": [
    "# create column with RT or Tweets from author\n",
    "df['rt'] = df.detail.str.startswith('RT')"
   ]
  },
  {
   "cell_type": "code",
   "execution_count": 26,
   "metadata": {},
   "outputs": [],
   "source": [
    "# rename categories from 'rt' column\n",
    "rt_dict = {False:'tweet', True:'retweet'}\n",
    "df.rt = df.rt.map(rt_dict)"
   ]
  },
  {
   "cell_type": "code",
   "execution_count": 27,
   "metadata": {},
   "outputs": [
    {
     "data": {
      "image/png": "[encoded data removed]",
      "text/plain": [
       "<Figure size 432x288 with 1 Axes>"
      ]
     },
     "metadata": {
      "needs_background": "light"
     },
     "output_type": "display_data"
    }
   ],
   "source": [
    "# plot proportion of tweets and rt's\n",
    "df.rt.value_counts(normalize=True).plot(kind='bar', color='b');\n",
    "sns.despine()"
   ]
  },
  {
   "cell_type": "code",
   "execution_count": 28,
   "metadata": {},
   "outputs": [
    {
     "data": {
      "image/png": "[encoded data removed]",
      "text/plain": [
       "<Figure size 432x288 with 1 Axes>"
      ]
     },
     "metadata": {
      "needs_background": "light"
     },
     "output_type": "display_data"
    }
   ],
   "source": [
    "# plot number of tweets and rt's\n",
    "sns.countplot(df.rt)\n",
    "plt.title('Tweets X Retweets')\n",
    "plt.xlabel('Number of tweets and retweets')\n",
    "sns.despine()"
   ]
  },
  {
   "cell_type": "code",
   "execution_count": 29,
   "metadata": {},
   "outputs": [],
   "source": [
    "# selecting retweets dataset\n",
    "retweets = df[df.rt=='retweet']"
   ]
  },
  {
   "cell_type": "code",
   "execution_count": 30,
   "metadata": {},
   "outputs": [
    {
     "name": "stderr",
     "output_type": "stream",
     "text": [
      "/Users/liviaclarete/.pyenv/versions/dataAnalysis/lib/python3.6/site-packages/ipykernel/__main__.py:2: SettingWithCopyWarning: \n",
      "A value is trying to be set on a copy of a slice from a DataFrame.\n",
      "Try using .loc[row_indexer,col_indexer] = value instead\n",
      "\n",
      "See the caveats in the documentation: http://pandas.pydata.org/pandas-docs/stable/user_guide/indexing.html#returning-a-view-versus-a-copy\n",
      "  from ipykernel import kernelapp as app\n"
     ]
    }
   ],
   "source": [
    "# identify who Bolsonaro is retweeting\n",
    "retweets['rt_author'] = sum([re.findall('RT (@\\w+)', i) for i in df.detail], [])"
   ]
  },
  {
   "cell_type": "code",
   "execution_count": 31,
   "metadata": {},
   "outputs": [
    {
     "data": {
      "image/png": "[encoded data removed]",
      "text/plain": [
       "<Figure size 432x288 with 1 Axes>"
      ]
     },
     "metadata": {
      "needs_background": "light"
     },
     "output_type": "display_data"
    }
   ],
   "source": [
    "retweets.rt_author.value_counts()[:10].plot(kind='bar')\n",
    "sns.despine();"
   ]
  },
  {
   "cell_type": "markdown",
   "metadata": {},
   "source": [
    "# LDA"
   ]
  },
  {
   "cell_type": "code",
   "execution_count": null,
   "metadata": {},
   "outputs": [],
   "source": [
    "import gensim\n",
    "from gensim import corpora\n",
    "\n",
    "\n",
    "# Creating a term dictionary of the text corpus\n",
    "dictionary = corpora.Dictionary(tokenized_data)\n",
    "\n",
    "# creating a Document Text Matrix with the dictionary\n",
    "doc_term_matrix = [dictionary.doc2bow(i) for i in tokenized_data]\n"
   ]
  },
  {
   "cell_type": "code",
   "execution_count": null,
   "metadata": {},
   "outputs": [],
   "source": [
    "# Creating the object for LDA model using gensim library\n",
    "LDA = gensim.models.ldamodel.LdaModel\n",
    "\n",
    "# Build LDA model\n",
    "lda_model = LDA(corpus=doc_term_matrix,\n",
    "                id2word=dictionary,\n",
    "                num_topics=7, \n",
    "                random_state=100,\n",
    "                chunksize=1000,\n",
    "                passes=50)"
   ]
  },
  {
   "cell_type": "code",
   "execution_count": null,
   "metadata": {},
   "outputs": [],
   "source": [
    "# Printing the topics\n",
    "lda_model.print_topics()"
   ]
  },
  {
   "cell_type": "code",
   "execution_count": null,
   "metadata": {},
   "outputs": [],
   "source": [
    "import pyLDAvis\n",
    "import pyLDAvis.gensim\n",
    "\n",
    "# Downalod dictionaries from spacy -- lemmatization\n",
    "# !python -m spacy download en # one time run\n",
    "# !python -m spacy download pt # one time run\n",
    "\n",
    "import matplotlib.pyplot as plt\n",
    "import seaborn as sns\n",
    "\n",
    "pyLDAvis.enable_notebook()\n",
    "vis = pyLDAvis.gensim.prepare(lda_model, doc_term_matrix, dictionary)\n",
    "vis"
   ]
  },
  {
   "cell_type": "markdown",
   "metadata": {},
   "source": [
    "# KMEANS"
   ]
  },
  {
   "cell_type": "code",
   "execution_count": 183,
   "metadata": {},
   "outputs": [],
   "source": [
    "# importing tfidf vectorizer and kmeans function\n",
    "from sklearn.feature_extraction.text import TfidfVectorizer\n",
    "from sklearn.cluster import KMeans"
   ]
  },
  {
   "cell_type": "code",
   "execution_count": 184,
   "metadata": {},
   "outputs": [
    {
     "ename": "NameError",
     "evalue": "name 'train' is not defined",
     "output_type": "error",
     "traceback": [
      "\u001b[0;31m---------------------------------------------------------------------------\u001b[0m",
      "\u001b[0;31mNameError\u001b[0m                                 Traceback (most recent call last)",
      "\u001b[0;32m<ipython-input-184-9108fbebbd12>\u001b[0m in \u001b[0;36m<module>\u001b[0;34m\u001b[0m\n\u001b[1;32m      1\u001b[0m \u001b[0;31m# Creating a Tdidf table\u001b[0m\u001b[0;34m\u001b[0m\u001b[0;34m\u001b[0m\u001b[0m\n\u001b[1;32m      2\u001b[0m \u001b[0mvectorizer\u001b[0m \u001b[0;34m=\u001b[0m \u001b[0mTfidfVectorizer\u001b[0m\u001b[0;34m(\u001b[0m\u001b[0;34m)\u001b[0m\u001b[0;34m\u001b[0m\u001b[0m\n\u001b[0;32m----> 3\u001b[0;31m \u001b[0mX\u001b[0m \u001b[0;34m=\u001b[0m \u001b[0mvectorizer\u001b[0m\u001b[0;34m.\u001b[0m\u001b[0mfit_transform\u001b[0m\u001b[0;34m(\u001b[0m\u001b[0mtrain\u001b[0m\u001b[0;34m.\u001b[0m\u001b[0mtweet\u001b[0m\u001b[0;34m.\u001b[0m\u001b[0mvalues\u001b[0m\u001b[0;34m)\u001b[0m\u001b[0;34m\u001b[0m\u001b[0m\n\u001b[0m\u001b[1;32m      4\u001b[0m \u001b[0mget_ipython\u001b[0m\u001b[0;34m(\u001b[0m\u001b[0;34m)\u001b[0m\u001b[0;34m.\u001b[0m\u001b[0mrun_line_magic\u001b[0m\u001b[0;34m(\u001b[0m\u001b[0;34m'time'\u001b[0m\u001b[0;34m,\u001b[0m \u001b[0;34m''\u001b[0m\u001b[0;34m)\u001b[0m\u001b[0;34m\u001b[0m\u001b[0m\n",
      "\u001b[0;31mNameError\u001b[0m: name 'train' is not defined"
     ]
    }
   ],
   "source": [
    "# Creating a Tdidf table\n",
    "vectorizer = TfidfVectorizer()\n",
    "X = vectorizer.fit_transform(train.tweet.values)\n",
    "%time"
   ]
  },
  {
   "cell_type": "code",
   "execution_count": null,
   "metadata": {},
   "outputs": [],
   "source": [
    "# setting the kmeans function\n",
    "true_k = 7\n",
    "model = KMeans(n_clusters=true_k,\n",
    "              init='k-means++',\n",
    "              max_iter=100,\n",
    "              n_init=3,\n",
    "              verbose=True)\n",
    "\n",
    "model.fit(X)\n",
    "%time"
   ]
  },
  {
   "cell_type": "code",
   "execution_count": 185,
   "metadata": {},
   "outputs": [
    {
     "ename": "NameError",
     "evalue": "name 'model' is not defined",
     "output_type": "error",
     "traceback": [
      "\u001b[0;31m---------------------------------------------------------------------------\u001b[0m",
      "\u001b[0;31mNameError\u001b[0m                                 Traceback (most recent call last)",
      "\u001b[0;32m<ipython-input-185-9c74f383e5e0>\u001b[0m in \u001b[0;36m<module>\u001b[0;34m\u001b[0m\n\u001b[1;32m      1\u001b[0m \u001b[0;31m# get the features and the centroids\u001b[0m\u001b[0;34m\u001b[0m\u001b[0;34m\u001b[0m\u001b[0m\n\u001b[0;32m----> 2\u001b[0;31m \u001b[0morder_centroids\u001b[0m \u001b[0;34m=\u001b[0m \u001b[0mmodel\u001b[0m\u001b[0;34m.\u001b[0m\u001b[0mcluster_centers_\u001b[0m\u001b[0;34m.\u001b[0m\u001b[0margsort\u001b[0m\u001b[0;34m(\u001b[0m\u001b[0;34m)\u001b[0m\u001b[0;34m[\u001b[0m\u001b[0;34m:\u001b[0m\u001b[0;34m,\u001b[0m \u001b[0;34m:\u001b[0m\u001b[0;34m:\u001b[0m\u001b[0;34m-\u001b[0m\u001b[0;36m1\u001b[0m\u001b[0;34m]\u001b[0m\u001b[0;34m\u001b[0m\u001b[0m\n\u001b[0m\u001b[1;32m      3\u001b[0m \u001b[0mterms\u001b[0m \u001b[0;34m=\u001b[0m \u001b[0mvectorizer\u001b[0m\u001b[0;34m.\u001b[0m\u001b[0mget_feature_names\u001b[0m\u001b[0;34m(\u001b[0m\u001b[0;34m)\u001b[0m\u001b[0;34m\u001b[0m\u001b[0m\n\u001b[1;32m      4\u001b[0m \u001b[0mget_ipython\u001b[0m\u001b[0;34m(\u001b[0m\u001b[0;34m)\u001b[0m\u001b[0;34m.\u001b[0m\u001b[0mrun_line_magic\u001b[0m\u001b[0;34m(\u001b[0m\u001b[0;34m'time'\u001b[0m\u001b[0;34m,\u001b[0m \u001b[0;34m''\u001b[0m\u001b[0;34m)\u001b[0m\u001b[0;34m\u001b[0m\u001b[0m\n",
      "\u001b[0;31mNameError\u001b[0m: name 'model' is not defined"
     ]
    }
   ],
   "source": [
    "# get the features and the centroids\n",
    "order_centroids = model.cluster_centers_.argsort()[:, ::-1]\n",
    "terms = vectorizer.get_feature_names()\n",
    "%time"
   ]
  },
  {
   "cell_type": "code",
   "execution_count": null,
   "metadata": {},
   "outputs": [],
   "source": [
    "for i in range(true_k):\n",
    "    print(\"Cluster %d:\" %i),\n",
    "    for ind in order_centroids[i, :10]:\n",
    "        print(\"%s\" %terms[ind])\n",
    "%time"
   ]
  },
  {
   "cell_type": "code",
   "execution_count": null,
   "metadata": {},
   "outputs": [],
   "source": [
    "print(\"\\n\")\n",
    "print(\"Prediction\")\n",
    "X = vectorizer.transform(['namorar ficar sexo relacionamento'])"
   ]
  },
  {
   "cell_type": "code",
   "execution_count": null,
   "metadata": {},
   "outputs": [],
   "source": [
    "predicted = model.predict(X)\n",
    "print(predicted)"
   ]
  },
  {
   "cell_type": "code",
   "execution_count": null,
   "metadata": {},
   "outputs": [],
   "source": [
    "b = vectorizer.transform(list(train.tweet))"
   ]
  },
  {
   "cell_type": "code",
   "execution_count": null,
   "metadata": {},
   "outputs": [],
   "source": [
    "b_predict = model.predict(b)"
   ]
  },
  {
   "cell_type": "code",
   "execution_count": null,
   "metadata": {},
   "outputs": [],
   "source": [
    "pd.DataFrame(b_predict)[0].value_counts()"
   ]
  }
 ],
 "metadata": {
  "kernelspec": {
   "display_name": "dataAnalysis",
   "language": "python",
   "name": "dataanalysis"
  },
  "language_info": {
   "codemirror_mode": {
    "name": "ipython",
    "version": 3
   },
   "file_extension": ".py",
   "mimetype": "text/x-python",
   "name": "python",
   "nbconvert_exporter": "python",
   "pygments_lexer": "ipython3",
   "version": "3.6.0"
  },
  "toc": {
   "base_numbering": 1,
   "nav_menu": {},
   "number_sections": true,
   "sideBar": true,
   "skip_h1_title": false,
   "title_cell": "Table of Contents",
   "title_sidebar": "Contents",
   "toc_cell": false,
   "toc_position": {},
   "toc_section_display": true,
   "toc_window_display": false
  }
 },
 "nbformat": 4,
 "nbformat_minor": 2
}
