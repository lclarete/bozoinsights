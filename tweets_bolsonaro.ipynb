{
 "cells": [
  {
   "cell_type": "markdown",
   "metadata": {},
   "source": [
    "#  Tweets from @jairbolsonaro profile"
   ]
  },
  {
   "cell_type": "markdown",
   "metadata": {},
   "source": [
    "# Importing libraries"
   ]
  },
  {
   "cell_type": "code",
   "execution_count": 1,
   "metadata": {},
   "outputs": [],
   "source": [
    "import pandas as pd\n",
    "import numpy as np\n",
    "import matplotlib.pyplot as plt\n",
    "import seaborn as sns\n",
    "\n",
    "from warnings import filterwarnings\n",
    "filterwarnings('ignore')"
   ]
  },
  {
   "cell_type": "markdown",
   "metadata": {},
   "source": [
    "# Defining functions"
   ]
  },
  {
   "cell_type": "code",
   "execution_count": 2,
   "metadata": {},
   "outputs": [],
   "source": [
    "def rename_cols(df):\n",
    "    cols = df.columns\n",
    "    cols = cols.str.replace(' ', '_').str.lower().str.replace('.', '_')\n",
    "    df.columns = cols\n",
    "    return(df)"
   ]
  },
  {
   "cell_type": "code",
   "execution_count": 3,
   "metadata": {},
   "outputs": [],
   "source": [
    "from os import path\n",
    "import matplotlib.pyplot as plt\n",
    "from wordcloud import WordCloud\n",
    "\n",
    "def word_cloud_figure(col,\n",
    "            max_words=None,\n",
    "            background_color='white',\n",
    "            stopwords=None):\n",
    "    string_text = str(col)\n",
    "    wordCloud = WordCloud(max_words=max_words,\n",
    "                        repeat=False,\n",
    "                        stopwords=stopwords,\n",
    "                        background_color=background_color\n",
    "                        ).generate(string_text)\n",
    "    plt.figure(figsize=(10,7))\n",
    "    plt.imshow(wordCloud, interpolation='bilinear')\n",
    "    plt.axis('off')\n",
    "    return(plt.show())"
   ]
  },
  {
   "cell_type": "code",
   "execution_count": 4,
   "metadata": {},
   "outputs": [],
   "source": [
    "def serie_to_string(col):\n",
    "    ''' tranform a Pandas Series into a string'''\n",
    "    string = ''\n",
    "    for i in col:\n",
    "        string = string + (\" \".join(i.split()))\n",
    "    return(string)"
   ]
  },
  {
   "cell_type": "code",
   "execution_count": 5,
   "metadata": {},
   "outputs": [],
   "source": [
    "# data cleaning\n",
    "import re\n",
    "def strip_link(col):\n",
    "    ''' a function for removing urls from a tweet'''\n",
    "    url_pattern = r\"\"\"(?i)\\b((?:https?:(?:/{1,3}|[a-z0-9%])|[a-z0-9.\\-]+[.](?:com|net|org|edu|gov|mil|aero|asia|biz|cat|coop|info|int|jobs|mobi|museum|name|post|pro|tel|travel|xxx|ac|ad|ae|af|ag|ai|al|am|an|ao|aq|ar|as|at|au|aw|ax|az|ba|bb|bd|be|bf|bg|bh|bi|bj|bm|bn|bo|br|bs|bt|bv|bw|by|bz|ca|cc|cd|cf|cg|ch|ci|ck|cl|cm|cn|co|cr|cs|cu|cv|cx|cy|cz|dd|de|dj|dk|dm|do|dz|ec|ee|eg|eh|er|es|et|eu|fi|fj|fk|fm|fo|fr|ga|gb|gd|ge|gf|gg|gh|gi|gl|gm|gn|gp|gq|gr|gs|gt|gu|gw|gy|hk|hm|hn|hr|ht|hu|id|ie|il|im|in|io|iq|ir|is|it|je|jm|jo|jp|ke|kg|kh|ki|km|kn|kp|kr|kw|ky|kz|la|lb|lc|li|lk|lr|ls|lt|lu|lv|ly|ma|mc|md|me|mg|mh|mk|ml|mm|mn|mo|mp|mq|mr|ms|mt|mu|mv|mw|mx|my|mz|na|nc|ne|nf|ng|ni|nl|no|np|nr|nu|nz|om|pa|pe|pf|pg|ph|pk|pl|pm|pn|pr|ps|pt|pw|py|qa|re|ro|rs|ru|rw|sa|sb|sc|sd|se|sg|sh|si|sj|Ja|sk|sl|sm|sn|so|sr|ss|st|su|sv|sx|sy|sz|tc|td|tf|tg|th|tj|tk|tl|tm|tn|to|tp|tr|tt|tv|tw|tz|ua|ug|uk|us|uy|uz|va|vc|ve|vg|vi|vn|vu|wf|ws|ye|yt|yu|za|zm|zw)/)(?:[^\\s()<>{}\\[\\]]+|\\([^\\s()]*?\\([^\\s()]+\\)[^\\s()]*?\\)|\\([^\\s]+?\\))+(?:\\([^\\s()]*?\\([^\\s()]+\\)[^\\s()]*?\\)|\\([^\\s]+?\\)|[^\\s`!()\\[\\]{};:\\'\\\".,<>?«»“”‘’])|(?:(?<!@)[a-z0-9]+(?:[.\\-][a-z0-9]+)*[.](?:com|net|org|edu|gov|mil|aero|asia|biz|cat|coop|info|int|jobs|mobi|museum|name|post|pro|tel|travel|xxx|ac|ad|ae|af|ag|ai|al|am|an|ao|aq|ar|as|at|au|aw|ax|az|ba|bb|bd|be|bf|bg|bh|bi|bj|bm|bn|bo|br|bs|bt|bv|bw|by|bz|ca|cc|cd|cf|cg|ch|ci|ck|cl|cm|cn|co|cr|cs|cu|cv|cx|cy|cz|dd|de|dj|dk|dm|do|dz|ec|ee|eg|eh|er|es|et|eu|fi|fj|fk|fm|fo|fr|ga|gb|gd|ge|gf|gg|gh|gi|gl|gm|gn|gp|gq|gr|gs|gt|gu|gw|gy|hk|hm|hn|hr|ht|hu|id|ie|il|im|in|io|iq|ir|is|it|je|jm|jo|jp|ke|kg|kh|ki|km|kn|kp|kr|kw|ky|kz|la|lb|lc|li|lk|lr|ls|lt|lu|lv|ly|ma|mc|md|me|mg|mh|mk|ml|mm|mn|mo|mp|mq|mr|ms|mt|mu|mv|mw|mx|my|mz|na|nc|ne|nf|ng|ni|nl|no|np|nr|nu|nz|om|pa|pe|pf|pg|ph|pk|pl|pm|pn|pr|ps|pt|pw|py|qa|re|ro|rs|ru|rw|sa|sb|sc|sd|se|sg|sh|si|sj|Ja|sk|sl|sm|sn|so|sr|ss|st|su|sv|sx|sy|sz|tc|td|tf|tg|th|tj|tk|tl|tm|tn|to|tp|tr|tt|tv|tw|tz|ua|ug|uk|us|uy|uz|va|vc|ve|vg|vi|vn|vu|wf|ws|ye|yt|yu|za|zm|zw)\\b/?(?!@)))\"\"\"\n",
    "    col = re.sub(url_pattern, '', col)\n",
    "    return(col)\n",
    "\n",
    "def strip_sw(text):\n",
    "    '''a function for removing the stopword'''\n",
    "    # removing the stop words and lowercasing the selected words\n",
    "    text = [word.lower() for word in text.split() if word.lower() not in sw]\n",
    "    # joining the list of words with space separator\n",
    "    return \" \".join(text)\n",
    "\n",
    "import unidecode\n",
    "def strip_accent(text):\n",
    "    '''a function that removes accents using unidecode'''\n",
    "    text_clean = ''.join(i for i in unidecode.unidecode(text))\n",
    "    return(text_clean)\n",
    "\n",
    "# remove punctionation\n",
    "# https://www.kaggle.com/itratrahman/nlp-tutorial-using-python\n",
    "def strip_punctuation(text):\n",
    "    '''a function for removing punctuation'''\n",
    "    import string\n",
    "    # replacing the punctuations with no space, \n",
    "    # which in effect deletes the punctuation marks \n",
    "    translator = str.maketrans('', '', string.punctuation)\n",
    "    # return the text stripped of punctuation marks\n",
    "    return text.translate(translator)    \n",
    "\n",
    "# gether the results from the remove links, sw, strip accent and punctuation\n",
    "def data_cleaning(text):\n",
    "    text_clean = strip_link(text)\n",
    "    text_clean = strip_punctuation(text_clean)\n",
    "    text_clean = strip_sw(text_clean)\n",
    "    text_clean = strip_accent(text_clean)\n",
    "    return(text_clean)"
   ]
  },
  {
   "cell_type": "code",
   "execution_count": 6,
   "metadata": {},
   "outputs": [],
   "source": [
    "# pre processing\n",
    "\n",
    "from nltk.stem import SnowballStemmer\n",
    "def stemming(text):\n",
    "    stem = SnowballStemmer('portuguese', ignore_stopwords=True)\n",
    "    text = [stem.stem(word) for word in text.split()]\n",
    "    return(' '.join(text))\n",
    "\n",
    "from textblob import Word\n",
    "def lemmatization(col):\n",
    "    col = col.apply(lambda x: ' '.join(\n",
    "        [Word(x).lemmatize() for x in x.split()]))\n",
    "    return(col)"
   ]
  },
  {
   "cell_type": "code",
   "execution_count": 7,
   "metadata": {},
   "outputs": [],
   "source": [
    "# feature extracton\n",
    "def emojis(col):\n",
    "    pattern = \"['\\U0001F300-\\U0001F5FF'|'\\U0001F600-\\U0001F64F'|'\\U0001F680-\\U0001F6FF'|'\\u2600-\\u26FF\\u2700-\\u27BF']\"\n",
    "    emoji = regexp_tokenize(col, pattern)\n",
    "    return(emoji)\n",
    "\n",
    "from nltk.tokenize import regexp_tokenize\n",
    "def hashtags(col):\n",
    "    pattern = r'#\\w+'\n",
    "    hashtag = regexp_tokenize(col, pattern)\n",
    "    return(hashtag)\n",
    "\n",
    "def length(text):\n",
    "    return(len(text))"
   ]
  },
  {
   "cell_type": "code",
   "execution_count": 8,
   "metadata": {},
   "outputs": [],
   "source": [
    "import pandas as pd\n",
    "\n",
    "# returns a boolean series after searched for a string pattern\n",
    "def count_themes(col, df, pattern_df):\n",
    "    # extrat list of lables\n",
    "    subject_list = [i for i in pattern_df.iloc[:,0]]\n",
    "    # extrat list of patterns\n",
    "    pattern_list = [i for i in pattern_df.iloc[:,1]]\n",
    "    pattern_extraction = []\n",
    "    # interate through each pattern element\n",
    "    for i in pattern_list:\n",
    "        # for each pattern extract matched terms and returns a boolean\n",
    "        pattern_extraction.append(df[col].str.extract((i)).notnull())\n",
    "    # concat the list\n",
    "    df_themes = pd.concat(pattern_extraction, axis=1)\n",
    "    # rename new dataframe\n",
    "    df_themes.columns = columns_list\n",
    "    # concat the original with the new dataframe\n",
    "    df_total = pd.concat([df, df_themes], axis=1)\n",
    "    return(df_total, df_themes)"
   ]
  },
  {
   "cell_type": "code",
   "execution_count": 9,
   "metadata": {},
   "outputs": [],
   "source": [
    "from sys import path\n",
    "path.append('/Users/liviaclarete/gdrive/code/functions/')\n",
    "\n",
    "from GoogleSheet_read_returns_df import gsheet_returns_df\n",
    "from GoogleSheet_writes_gsheet import write_df_gsheet\n",
    "from NLP_count_themes_boolean import count_themes"
   ]
  },
  {
   "cell_type": "markdown",
   "metadata": {},
   "source": [
    "# Import and check data"
   ]
  },
  {
   "cell_type": "code",
   "execution_count": 10,
   "metadata": {},
   "outputs": [],
   "source": [
    "import pandas as pd"
   ]
  },
  {
   "cell_type": "code",
   "execution_count": 11,
   "metadata": {},
   "outputs": [],
   "source": [
    "# importing xlsx into a pandas dataframe\n",
    "df = pd.read_excel('Jair_Bolsonaro.xlsx')\n",
    "\n",
    "# selecting tweets from @jairbolsonaro account\n",
    "df = df[df['Author name']=='Jair M. Bolsonaro']\n",
    "df.head(1)\n",
    "\n",
    "# Select columns\n",
    "cols = ['id', 'Detail', 'Link', 'Update date', 'Publish date', 'Tags', 'Audience', 'Reach', 'Interactions']\n",
    "df = df[cols]\n",
    "df = rename_cols(df)"
   ]
  },
  {
   "cell_type": "code",
   "execution_count": 12,
   "metadata": {},
   "outputs": [
    {
     "name": "stdout",
     "output_type": "stream",
     "text": [
      "(1809, 9)\n"
     ]
    },
    {
     "data": {
      "text/html": [
       "<div>\n",
       "<style scoped>\n",
       "    .dataframe tbody tr th:only-of-type {\n",
       "        vertical-align: middle;\n",
       "    }\n",
       "\n",
       "    .dataframe tbody tr th {\n",
       "        vertical-align: top;\n",
       "    }\n",
       "\n",
       "    .dataframe thead th {\n",
       "        text-align: right;\n",
       "    }\n",
       "</style>\n",
       "<table border=\"1\" class=\"dataframe\">\n",
       "  <thead>\n",
       "    <tr style=\"text-align: right;\">\n",
       "      <th></th>\n",
       "      <th>id</th>\n",
       "      <th>detail</th>\n",
       "      <th>link</th>\n",
       "      <th>update_date</th>\n",
       "      <th>publish_date</th>\n",
       "      <th>tags</th>\n",
       "      <th>audience</th>\n",
       "      <th>reach</th>\n",
       "      <th>interactions</th>\n",
       "    </tr>\n",
       "  </thead>\n",
       "  <tbody>\n",
       "    <tr>\n",
       "      <th>0</th>\n",
       "      <td>336912077</td>\n",
       "      <td>- Resumo de nossa ida a Pelotas/RS por ocasião...</td>\n",
       "      <td>https://twitter.com/jairbolsonaro/status/11612...</td>\n",
       "      <td>30/09/2019 09:17:00</td>\n",
       "      <td>13/08/2019 08:28:34</td>\n",
       "      <td>NaN</td>\n",
       "      <td>4856491</td>\n",
       "      <td>165120</td>\n",
       "      <td>41447</td>\n",
       "    </tr>\n",
       "  </tbody>\n",
       "</table>\n",
       "</div>"
      ],
      "text/plain": [
       "          id                                             detail  \\\n",
       "0  336912077  - Resumo de nossa ida a Pelotas/RS por ocasião...   \n",
       "\n",
       "                                                link          update_date  \\\n",
       "0  https://twitter.com/jairbolsonaro/status/11612...  30/09/2019 09:17:00   \n",
       "\n",
       "          publish_date tags  audience   reach  interactions  \n",
       "0  13/08/2019 08:28:34  NaN   4856491  165120         41447  "
      ]
     },
     "execution_count": 12,
     "metadata": {},
     "output_type": "execute_result"
    }
   ],
   "source": [
    "# check the dataset\n",
    "print(df.shape)\n",
    "df.head(1)"
   ]
  },
  {
   "cell_type": "markdown",
   "metadata": {},
   "source": [
    "# Tranform variable's type"
   ]
  },
  {
   "cell_type": "markdown",
   "metadata": {},
   "source": [
    "## datetime"
   ]
  },
  {
   "cell_type": "code",
   "execution_count": 13,
   "metadata": {},
   "outputs": [],
   "source": [
    "df['date'] = pd.to_datetime(df.publish_date)\n",
    "\n",
    "# set date as an index\n",
    "df.index = df.date"
   ]
  },
  {
   "cell_type": "code",
   "execution_count": 14,
   "metadata": {},
   "outputs": [
    {
     "name": "stdout",
     "output_type": "stream",
     "text": [
      "<class 'pandas.core.frame.DataFrame'>\n",
      "DatetimeIndex: 1809 entries, 2019-08-13 08:28:34 to 2019-03-01 00:35:35\n",
      "Data columns (total 10 columns):\n",
      "id              1809 non-null int64\n",
      "detail          1809 non-null object\n",
      "link            1809 non-null object\n",
      "update_date     1809 non-null object\n",
      "publish_date    1809 non-null object\n",
      "tags            292 non-null object\n",
      "audience        1809 non-null int64\n",
      "reach           1809 non-null int64\n",
      "interactions    1809 non-null int64\n",
      "date            1809 non-null datetime64[ns]\n",
      "dtypes: datetime64[ns](1), int64(4), object(5)\n",
      "memory usage: 155.5+ KB\n"
     ]
    }
   ],
   "source": [
    "df.info()"
   ]
  },
  {
   "cell_type": "markdown",
   "metadata": {},
   "source": [
    "## Numeric variables"
   ]
  },
  {
   "cell_type": "code",
   "execution_count": 15,
   "metadata": {},
   "outputs": [],
   "source": [
    "# select numerical columns\n",
    "cols_num = df.describe().columns.to_list()"
   ]
  },
  {
   "cell_type": "code",
   "execution_count": 16,
   "metadata": {},
   "outputs": [],
   "source": [
    "# transform object columns into numeric\n",
    "for i in cols_num:\n",
    "    df[i] = pd.to_numeric(df[i])"
   ]
  },
  {
   "cell_type": "code",
   "execution_count": 17,
   "metadata": {},
   "outputs": [
    {
     "name": "stdout",
     "output_type": "stream",
     "text": [
      "<class 'pandas.core.frame.DataFrame'>\n",
      "DatetimeIndex: 1809 entries, 2019-08-13 08:28:34 to 2019-03-01 00:35:35\n",
      "Data columns (total 10 columns):\n",
      "id              1809 non-null int64\n",
      "detail          1809 non-null object\n",
      "link            1809 non-null object\n",
      "update_date     1809 non-null object\n",
      "publish_date    1809 non-null object\n",
      "tags            292 non-null object\n",
      "audience        1809 non-null int64\n",
      "reach           1809 non-null int64\n",
      "interactions    1809 non-null int64\n",
      "date            1809 non-null datetime64[ns]\n",
      "dtypes: datetime64[ns](1), int64(4), object(5)\n",
      "memory usage: 155.5+ KB\n"
     ]
    }
   ],
   "source": [
    "df.info()"
   ]
  },
  {
   "cell_type": "markdown",
   "metadata": {},
   "source": [
    "# Handling missing values"
   ]
  },
  {
   "cell_type": "code",
   "execution_count": 21,
   "metadata": {},
   "outputs": [
    {
     "data": {
      "text/plain": [
       "id                 0\n",
       "detail             0\n",
       "link               0\n",
       "update_date        0\n",
       "publish_date       0\n",
       "tags            1517\n",
       "audience           0\n",
       "reach              0\n",
       "interactions       0\n",
       "date               0\n",
       "dtype: int64"
      ]
     },
     "execution_count": 21,
     "metadata": {},
     "output_type": "execute_result"
    }
   ],
   "source": [
    "# count the number of missing values within each variable\n",
    "df.isnull().sum()"
   ]
  },
  {
   "cell_type": "markdown",
   "metadata": {},
   "source": [
    "# Data cleaning"
   ]
  },
  {
   "cell_type": "code",
   "execution_count": 31,
   "metadata": {},
   "outputs": [],
   "source": [
    "# # importing and downloading corpus from nltk\n",
    "# import nltk\n",
    "# nltk.download()"
   ]
  },
  {
   "cell_type": "code",
   "execution_count": 35,
   "metadata": {},
   "outputs": [],
   "source": [
    "# stopwords variables\n",
    "from nltk.corpus import stopwords\n",
    "sw_pt = stopwords.words('portuguese') \n",
    "sw_en = stopwords.words('english')\n",
    "sw_new = ['é', 'r', 'ser', 'via', 'sobre', 'ainda', '\"', '“', 'após', 'tudo', 'cada', 'todo', '…rt', '1', 'outros', '”', 'sendo', 'vamos', 'anos', 'hoje', '...']\n",
    "from string import digits\n",
    "sw_digits = [i for i in digits]\n",
    "sw = sw_pt + sw_en + sw_new + sw_digits"
   ]
  },
  {
   "cell_type": "code",
   "execution_count": 36,
   "metadata": {},
   "outputs": [
    {
     "name": "stdout",
     "output_type": "stream",
     "text": [
      "<class 'pandas.core.frame.DataFrame'>\n",
      "DatetimeIndex: 1809 entries, 2019-08-13 08:28:34 to 2019-03-01 00:35:35\n",
      "Data columns (total 10 columns):\n",
      "id              1809 non-null int64\n",
      "detail          1809 non-null object\n",
      "link            1809 non-null object\n",
      "update_date     1809 non-null object\n",
      "publish_date    1809 non-null object\n",
      "tags            292 non-null object\n",
      "audience        1809 non-null int64\n",
      "reach           1809 non-null int64\n",
      "interactions    1809 non-null int64\n",
      "date            1809 non-null datetime64[ns]\n",
      "dtypes: datetime64[ns](1), int64(4), object(5)\n",
      "memory usage: 155.5+ KB\n"
     ]
    }
   ],
   "source": [
    "df.info()"
   ]
  },
  {
   "cell_type": "code",
   "execution_count": 37,
   "metadata": {},
   "outputs": [],
   "source": [
    "# cleaning tweet texts\n",
    "df['text_clean'] = df.detail.apply(data_cleaning)"
   ]
  },
  {
   "cell_type": "code",
   "execution_count": 38,
   "metadata": {},
   "outputs": [
    {
     "data": {
      "text/html": [
       "<div>\n",
       "<style scoped>\n",
       "    .dataframe tbody tr th:only-of-type {\n",
       "        vertical-align: middle;\n",
       "    }\n",
       "\n",
       "    .dataframe tbody tr th {\n",
       "        vertical-align: top;\n",
       "    }\n",
       "\n",
       "    .dataframe thead th {\n",
       "        text-align: right;\n",
       "    }\n",
       "</style>\n",
       "<table border=\"1\" class=\"dataframe\">\n",
       "  <thead>\n",
       "    <tr style=\"text-align: right;\">\n",
       "      <th></th>\n",
       "      <th>id</th>\n",
       "      <th>detail</th>\n",
       "      <th>link</th>\n",
       "      <th>update_date</th>\n",
       "      <th>publish_date</th>\n",
       "      <th>tags</th>\n",
       "      <th>audience</th>\n",
       "      <th>reach</th>\n",
       "      <th>interactions</th>\n",
       "      <th>date</th>\n",
       "      <th>text_clean</th>\n",
       "    </tr>\n",
       "    <tr>\n",
       "      <th>date</th>\n",
       "      <th></th>\n",
       "      <th></th>\n",
       "      <th></th>\n",
       "      <th></th>\n",
       "      <th></th>\n",
       "      <th></th>\n",
       "      <th></th>\n",
       "      <th></th>\n",
       "      <th></th>\n",
       "      <th></th>\n",
       "      <th></th>\n",
       "    </tr>\n",
       "  </thead>\n",
       "  <tbody>\n",
       "    <tr>\n",
       "      <th>2019-08-13 08:28:34</th>\n",
       "      <td>336912077</td>\n",
       "      <td>- Resumo de nossa ida a Pelotas/RS por ocasião...</td>\n",
       "      <td>https://twitter.com/jairbolsonaro/status/11612...</td>\n",
       "      <td>30/09/2019 09:17:00</td>\n",
       "      <td>13/08/2019 08:28:34</td>\n",
       "      <td>NaN</td>\n",
       "      <td>4856491</td>\n",
       "      <td>165120</td>\n",
       "      <td>41447</td>\n",
       "      <td>2019-08-13 08:28:34</td>\n",
       "      <td>resumo ida pelotasrs ocasiao entrega trecho br...</td>\n",
       "    </tr>\n",
       "  </tbody>\n",
       "</table>\n",
       "</div>"
      ],
      "text/plain": [
       "                            id  \\\n",
       "date                             \n",
       "2019-08-13 08:28:34  336912077   \n",
       "\n",
       "                                                                detail  \\\n",
       "date                                                                     \n",
       "2019-08-13 08:28:34  - Resumo de nossa ida a Pelotas/RS por ocasião...   \n",
       "\n",
       "                                                                  link  \\\n",
       "date                                                                     \n",
       "2019-08-13 08:28:34  https://twitter.com/jairbolsonaro/status/11612...   \n",
       "\n",
       "                             update_date         publish_date tags  audience  \\\n",
       "date                                                                           \n",
       "2019-08-13 08:28:34  30/09/2019 09:17:00  13/08/2019 08:28:34  NaN   4856491   \n",
       "\n",
       "                      reach  interactions                date  \\\n",
       "date                                                            \n",
       "2019-08-13 08:28:34  165120         41447 2019-08-13 08:28:34   \n",
       "\n",
       "                                                            text_clean  \n",
       "date                                                                    \n",
       "2019-08-13 08:28:34  resumo ida pelotasrs ocasiao entrega trecho br...  "
      ]
     },
     "execution_count": 38,
     "metadata": {},
     "output_type": "execute_result"
    }
   ],
   "source": [
    "df.head(1)"
   ]
  },
  {
   "cell_type": "markdown",
   "metadata": {},
   "source": [
    "# Feature extraction "
   ]
  },
  {
   "cell_type": "code",
   "execution_count": 39,
   "metadata": {},
   "outputs": [],
   "source": [
    "# create column with RT or Tweets from author\n",
    "df['type_post'] = df.detail.str.startswith('RT')\n",
    "\n",
    "# replace False by post, and True by retweet\n",
    "type_posts = {False: 'post', True:'retweet'}\n",
    "df['type_post'] = df.type_post.map(type_posts)"
   ]
  },
  {
   "cell_type": "code",
   "execution_count": 40,
   "metadata": {},
   "outputs": [
    {
     "data": {
      "image/png": "[encoded data removed]",
      "text/plain": [
       "<Figure size 432x288 with 1 Axes>"
      ]
     },
     "metadata": {
      "needs_background": "light"
     },
     "output_type": "display_data"
    }
   ],
   "source": [
    "# plot a chart\n",
    "df.type_post.value_counts().plot(kind='bar')\n",
    "sns.despine();"
   ]
  },
  {
   "cell_type": "markdown",
   "metadata": {},
   "source": [
    "# Pre-processing"
   ]
  },
  {
   "cell_type": "markdown",
   "metadata": {},
   "source": [
    "## Stemming"
   ]
  },
  {
   "cell_type": "code",
   "execution_count": 41,
   "metadata": {},
   "outputs": [],
   "source": [
    "df['text_stem'] = df.text_clean.apply(stemming)"
   ]
  },
  {
   "cell_type": "code",
   "execution_count": 42,
   "metadata": {},
   "outputs": [
    {
     "data": {
      "text/plain": [
       "date\n",
       "2019-08-13 08:28:34       resum ida pelotasrs ocasia entreg trech br 116\n",
       "2019-08-13 16:47:07    parabens atlet represent brasil jog panamerica...\n",
       "Name: text_stem, dtype: object"
      ]
     },
     "execution_count": 42,
     "metadata": {},
     "output_type": "execute_result"
    }
   ],
   "source": [
    "df.text_stem.head(2)"
   ]
  },
  {
   "cell_type": "markdown",
   "metadata": {},
   "source": [
    "# DataViz"
   ]
  },
  {
   "cell_type": "code",
   "execution_count": 43,
   "metadata": {},
   "outputs": [],
   "source": [
    "# transform Pandas Series into a list of strings\n",
    "# clear stop words\n",
    "from nltk.tokenize import word_tokenize\n",
    "text_str = serie_to_string(df.text_clean)\n",
    "\n",
    "text_list = [w for w in word_tokenize(text_str) \n",
    "              if w not in sw]"
   ]
  },
  {
   "cell_type": "code",
   "execution_count": 44,
   "metadata": {},
   "outputs": [
    {
     "data": {
      "text/plain": [
       "[('brasil', 361),\n",
       " ('governo', 199),\n",
       " ('presidente', 124),\n",
       " ('todos', 123),\n",
       " ('pais', 99),\n",
       " ('bolsonaro', 90),\n",
       " ('economia', 89),\n",
       " ('dia', 87),\n",
       " ('grande', 83),\n",
       " ('nacional', 73)]"
      ]
     },
     "execution_count": 44,
     "metadata": {},
     "output_type": "execute_result"
    }
   ],
   "source": [
    "# count most frequent words\n",
    "from collections import Counter\n",
    "Counter(text_list).most_common(10)"
   ]
  },
  {
   "cell_type": "code",
   "execution_count": 45,
   "metadata": {},
   "outputs": [
    {
     "data": {
      "image/png": "[encoded data removed]",
      "text/plain": [
       "<Figure size 720x504 with 1 Axes>"
      ]
     },
     "metadata": {
      "needs_background": "light"
     },
     "output_type": "display_data"
    }
   ],
   "source": [
    "word_cloud_figure(text_list,\n",
    "                  max_words=50,\n",
    "                  stopwords=['pode', 'rt', 'contra', 'maior', 'menos']\n",
    "                 )"
   ]
  },
  {
   "cell_type": "markdown",
   "metadata": {},
   "source": [
    "# Ruled bases classification\n",
    "* Connect with Gspreadsheet available at: https://docs.google.com/spreadsheets/d/1QCoj40GLI9nvj8tTxuMROqLGJlu1QLd0E8w1mwE2cdw/edit#gid=0"
   ]
  },
  {
   "cell_type": "code",
   "execution_count": 46,
   "metadata": {},
   "outputs": [],
   "source": [
    "# retrieve stringlines from a google spreadsheet\n",
    "strings_df = gsheet_returns_df('tematicas_bolsonaro', 'strings_bolsonaro')\n",
    "\n",
    "df_total, df_themes = count_themes('text_clean', df, strings_df)"
   ]
  },
  {
   "cell_type": "code",
   "execution_count": 47,
   "metadata": {},
   "outputs": [],
   "source": [
    "table = pd.DataFrame([df_themes.sum()/df_themes.shape[0]*100, df_themes.sum()]).T\n",
    "table.columns = ['%', 'count']\n",
    "table = table.sort_values(by='count', ascending=False)"
   ]
  },
  {
   "cell_type": "code",
   "execution_count": 48,
   "metadata": {},
   "outputs": [
    {
     "data": {
      "text/html": [
       "<div>\n",
       "<style scoped>\n",
       "    .dataframe tbody tr th:only-of-type {\n",
       "        vertical-align: middle;\n",
       "    }\n",
       "\n",
       "    .dataframe tbody tr th {\n",
       "        vertical-align: top;\n",
       "    }\n",
       "\n",
       "    .dataframe thead th {\n",
       "        text-align: right;\n",
       "    }\n",
       "</style>\n",
       "<table border=\"1\" class=\"dataframe\">\n",
       "  <thead>\n",
       "    <tr style=\"text-align: right;\">\n",
       "      <th></th>\n",
       "      <th>%</th>\n",
       "      <th>count</th>\n",
       "    </tr>\n",
       "  </thead>\n",
       "  <tbody>\n",
       "    <tr>\n",
       "      <th>Brasil</th>\n",
       "      <td>31.840796</td>\n",
       "      <td>576.0</td>\n",
       "    </tr>\n",
       "    <tr>\n",
       "      <th>Economia</th>\n",
       "      <td>25.152018</td>\n",
       "      <td>455.0</td>\n",
       "    </tr>\n",
       "    <tr>\n",
       "      <th>Relações internacionais</th>\n",
       "      <td>9.563295</td>\n",
       "      <td>173.0</td>\n",
       "    </tr>\n",
       "    <tr>\n",
       "      <th>Governo</th>\n",
       "      <td>9.342178</td>\n",
       "      <td>169.0</td>\n",
       "    </tr>\n",
       "    <tr>\n",
       "      <th>Infraestrutura</th>\n",
       "      <td>6.412383</td>\n",
       "      <td>116.0</td>\n",
       "    </tr>\n",
       "    <tr>\n",
       "      <th>Educação, ciência e tecnologia</th>\n",
       "      <td>6.301824</td>\n",
       "      <td>114.0</td>\n",
       "    </tr>\n",
       "    <tr>\n",
       "      <th>Segurança pública</th>\n",
       "      <td>5.638474</td>\n",
       "      <td>102.0</td>\n",
       "    </tr>\n",
       "    <tr>\n",
       "      <th>Esquerda</th>\n",
       "      <td>4.975124</td>\n",
       "      <td>90.0</td>\n",
       "    </tr>\n",
       "    <tr>\n",
       "      <th>Militares</th>\n",
       "      <td>4.919845</td>\n",
       "      <td>89.0</td>\n",
       "    </tr>\n",
       "    <tr>\n",
       "      <th>Legislativo</th>\n",
       "      <td>4.311774</td>\n",
       "      <td>78.0</td>\n",
       "    </tr>\n",
       "    <tr>\n",
       "      <th>Valores</th>\n",
       "      <td>3.869541</td>\n",
       "      <td>70.0</td>\n",
       "    </tr>\n",
       "    <tr>\n",
       "      <th>Meio ambiente</th>\n",
       "      <td>3.648425</td>\n",
       "      <td>66.0</td>\n",
       "    </tr>\n",
       "    <tr>\n",
       "      <th>Menções à própria familia</th>\n",
       "      <td>3.040354</td>\n",
       "      <td>55.0</td>\n",
       "    </tr>\n",
       "    <tr>\n",
       "      <th>Corrupção</th>\n",
       "      <td>1.990050</td>\n",
       "      <td>36.0</td>\n",
       "    </tr>\n",
       "    <tr>\n",
       "      <th>Saúde</th>\n",
       "      <td>1.492537</td>\n",
       "      <td>27.0</td>\n",
       "    </tr>\n",
       "    <tr>\n",
       "      <th>Facada</th>\n",
       "      <td>1.216142</td>\n",
       "      <td>22.0</td>\n",
       "    </tr>\n",
       "    <tr>\n",
       "      <th>Drogas</th>\n",
       "      <td>1.050304</td>\n",
       "      <td>19.0</td>\n",
       "    </tr>\n",
       "    <tr>\n",
       "      <th>Figuras religiosas</th>\n",
       "      <td>0.939746</td>\n",
       "      <td>17.0</td>\n",
       "    </tr>\n",
       "    <tr>\n",
       "      <th>Gênero</th>\n",
       "      <td>0.773908</td>\n",
       "      <td>14.0</td>\n",
       "    </tr>\n",
       "    <tr>\n",
       "      <th>Projetos sociais</th>\n",
       "      <td>0.608071</td>\n",
       "      <td>11.0</td>\n",
       "    </tr>\n",
       "    <tr>\n",
       "      <th>Indígenas</th>\n",
       "      <td>0.497512</td>\n",
       "      <td>9.0</td>\n",
       "    </tr>\n",
       "    <tr>\n",
       "      <th>Esporte</th>\n",
       "      <td>0.331675</td>\n",
       "      <td>6.0</td>\n",
       "    </tr>\n",
       "    <tr>\n",
       "      <th>Passagens bíblicas</th>\n",
       "      <td>0.165837</td>\n",
       "      <td>3.0</td>\n",
       "    </tr>\n",
       "    <tr>\n",
       "      <th>Justiça</th>\n",
       "      <td>0.000000</td>\n",
       "      <td>0.0</td>\n",
       "    </tr>\n",
       "    <tr>\n",
       "      <th>Grande dia</th>\n",
       "      <td>0.000000</td>\n",
       "      <td>0.0</td>\n",
       "    </tr>\n",
       "    <tr>\n",
       "      <th>Imprensa</th>\n",
       "      <td>0.000000</td>\n",
       "      <td>0.0</td>\n",
       "    </tr>\n",
       "    <tr>\n",
       "      <th>Condolências</th>\n",
       "      <td>0.000000</td>\n",
       "      <td>0.0</td>\n",
       "    </tr>\n",
       "  </tbody>\n",
       "</table>\n",
       "</div>"
      ],
      "text/plain": [
       "                                        %  count\n",
       "Brasil                          31.840796  576.0\n",
       "Economia                        25.152018  455.0\n",
       "Relações internacionais          9.563295  173.0\n",
       "Governo                          9.342178  169.0\n",
       "Infraestrutura                   6.412383  116.0\n",
       "Educação, ciência e tecnologia   6.301824  114.0\n",
       "Segurança pública                5.638474  102.0\n",
       "Esquerda                         4.975124   90.0\n",
       "Militares                        4.919845   89.0\n",
       "Legislativo                      4.311774   78.0\n",
       "Valores                          3.869541   70.0\n",
       "Meio ambiente                    3.648425   66.0\n",
       "Menções à própria familia        3.040354   55.0\n",
       "Corrupção                        1.990050   36.0\n",
       "Saúde                            1.492537   27.0\n",
       "Facada                           1.216142   22.0\n",
       "Drogas                           1.050304   19.0\n",
       "Figuras religiosas               0.939746   17.0\n",
       "Gênero                           0.773908   14.0\n",
       "Projetos sociais                 0.608071   11.0\n",
       "Indígenas                        0.497512    9.0\n",
       "Esporte                          0.331675    6.0\n",
       "Passagens bíblicas               0.165837    3.0\n",
       "Justiça                          0.000000    0.0\n",
       "Grande dia                       0.000000    0.0\n",
       "Imprensa                         0.000000    0.0\n",
       "Condolências                     0.000000    0.0"
      ]
     },
     "execution_count": 48,
     "metadata": {},
     "output_type": "execute_result"
    }
   ],
   "source": [
    "table"
   ]
  },
  {
   "cell_type": "code",
   "execution_count": 49,
   "metadata": {},
   "outputs": [
    {
     "name": "stdout",
     "output_type": "stream",
     "text": [
      "70.0% of tweets were classified. Still 30.0 to classify.\n"
     ]
    }
   ],
   "source": [
    "# calculate the total number of classified tweets\n",
    "# returns a column summing the number of True's\n",
    "df_themes['total'] = df_themes.sum(axis=1)\n",
    "\n",
    "# transform the number into a boolean\n",
    "df_themes['total'] = df_themes.total.apply(lambda x: x>0)\n",
    "\n",
    "# sum the total number of True's in total column\n",
    "label_tweets = round(df_themes.total.sum()/df_themes.total.shape[0]*100)\n",
    "\n",
    "print(f'{label_tweets}% of tweets were classified. Still {100-label_tweets} to classify.')"
   ]
  },
  {
   "cell_type": "code",
   "execution_count": 50,
   "metadata": {},
   "outputs": [],
   "source": [
    "# for i, j in enumerate(df_total[df_total.Economia == True]['detail']):\n",
    "#     print(i, j, end='\\n  ', sep='----')"
   ]
  },
  {
   "cell_type": "markdown",
   "metadata": {},
   "source": [
    "# Retweets"
   ]
  },
  {
   "cell_type": "code",
   "execution_count": 51,
   "metadata": {},
   "outputs": [
    {
     "data": {
      "image/png": "[encoded data removed]",
      "text/plain": [
       "<Figure size 432x288 with 1 Axes>"
      ]
     },
     "metadata": {
      "needs_background": "light"
     },
     "output_type": "display_data"
    }
   ],
   "source": [
    "# plot number of tweets and rt's\n",
    "sns.countplot(df.type_post)\n",
    "plt.title('Tweets X Retweets')\n",
    "plt.xlabel('Number of tweets and retweets')\n",
    "sns.despine()"
   ]
  },
  {
   "cell_type": "code",
   "execution_count": 52,
   "metadata": {},
   "outputs": [],
   "source": [
    "# selecting retweets dataset\n",
    "retweets = df[df.type_post=='retweet']\n",
    "\n",
    "# identify who Bolsonaro is retweeting\n",
    "retweets['rt_author'] = sum([re.findall('RT (@\\w+)', i) for i in df.detail], [])"
   ]
  },
  {
   "cell_type": "code",
   "execution_count": 53,
   "metadata": {},
   "outputs": [
    {
     "data": {
      "text/html": [
       "<div>\n",
       "<style scoped>\n",
       "    .dataframe tbody tr th:only-of-type {\n",
       "        vertical-align: middle;\n",
       "    }\n",
       "\n",
       "    .dataframe tbody tr th {\n",
       "        vertical-align: top;\n",
       "    }\n",
       "\n",
       "    .dataframe thead th {\n",
       "        text-align: right;\n",
       "    }\n",
       "</style>\n",
       "<table border=\"1\" class=\"dataframe\">\n",
       "  <thead>\n",
       "    <tr style=\"text-align: right;\">\n",
       "      <th></th>\n",
       "      <th>id</th>\n",
       "      <th>detail</th>\n",
       "      <th>link</th>\n",
       "      <th>update_date</th>\n",
       "      <th>publish_date</th>\n",
       "      <th>tags</th>\n",
       "      <th>audience</th>\n",
       "      <th>reach</th>\n",
       "      <th>interactions</th>\n",
       "      <th>date</th>\n",
       "      <th>text_clean</th>\n",
       "      <th>type_post</th>\n",
       "      <th>text_stem</th>\n",
       "      <th>rt_author</th>\n",
       "    </tr>\n",
       "    <tr>\n",
       "      <th>date</th>\n",
       "      <th></th>\n",
       "      <th></th>\n",
       "      <th></th>\n",
       "      <th></th>\n",
       "      <th></th>\n",
       "      <th></th>\n",
       "      <th></th>\n",
       "      <th></th>\n",
       "      <th></th>\n",
       "      <th></th>\n",
       "      <th></th>\n",
       "      <th></th>\n",
       "      <th></th>\n",
       "      <th></th>\n",
       "    </tr>\n",
       "  </thead>\n",
       "  <tbody>\n",
       "    <tr>\n",
       "      <th>2019-08-13 22:23:25</th>\n",
       "      <td>337446779</td>\n",
       "      <td>RT @DamaresAlves: Tiraram dinheiro da construç...</td>\n",
       "      <td>https://twitter.com/jairbolsonaro/status/11615...</td>\n",
       "      <td>30/09/2019 09:17:00</td>\n",
       "      <td>13/08/2019 22:23:25</td>\n",
       "      <td>Bolsonaro</td>\n",
       "      <td>4872196</td>\n",
       "      <td>165654</td>\n",
       "      <td>0</td>\n",
       "      <td>2019-08-13 22:23:25</td>\n",
       "      <td>rt damaresalves tiraram dinheiro construcao re...</td>\n",
       "      <td>retweet</td>\n",
       "      <td>rt damaresalv tir dinheir construca reform pre...</td>\n",
       "      <td>@DamaresAlves</td>\n",
       "    </tr>\n",
       "  </tbody>\n",
       "</table>\n",
       "</div>"
      ],
      "text/plain": [
       "                            id  \\\n",
       "date                             \n",
       "2019-08-13 22:23:25  337446779   \n",
       "\n",
       "                                                                detail  \\\n",
       "date                                                                     \n",
       "2019-08-13 22:23:25  RT @DamaresAlves: Tiraram dinheiro da construç...   \n",
       "\n",
       "                                                                  link  \\\n",
       "date                                                                     \n",
       "2019-08-13 22:23:25  https://twitter.com/jairbolsonaro/status/11615...   \n",
       "\n",
       "                             update_date         publish_date       tags  \\\n",
       "date                                                                       \n",
       "2019-08-13 22:23:25  30/09/2019 09:17:00  13/08/2019 22:23:25  Bolsonaro   \n",
       "\n",
       "                     audience   reach  interactions                date  \\\n",
       "date                                                                      \n",
       "2019-08-13 22:23:25   4872196  165654             0 2019-08-13 22:23:25   \n",
       "\n",
       "                                                            text_clean  \\\n",
       "date                                                                     \n",
       "2019-08-13 22:23:25  rt damaresalves tiraram dinheiro construcao re...   \n",
       "\n",
       "                    type_post  \\\n",
       "date                            \n",
       "2019-08-13 22:23:25   retweet   \n",
       "\n",
       "                                                             text_stem  \\\n",
       "date                                                                     \n",
       "2019-08-13 22:23:25  rt damaresalv tir dinheir construca reform pre...   \n",
       "\n",
       "                         rt_author  \n",
       "date                                \n",
       "2019-08-13 22:23:25  @DamaresAlves  "
      ]
     },
     "execution_count": 53,
     "metadata": {},
     "output_type": "execute_result"
    }
   ],
   "source": [
    "retweets.head(1)"
   ]
  },
  {
   "cell_type": "code",
   "execution_count": 54,
   "metadata": {},
   "outputs": [
    {
     "data": {
      "image/png": "[encoded data removed]",
      "text/plain": [
       "<Figure size 432x288 with 1 Axes>"
      ]
     },
     "metadata": {
      "needs_background": "light"
     },
     "output_type": "display_data"
    }
   ],
   "source": [
    "retweets.rt_author.value_counts()[:10].plot(kind='bar')\n",
    "sns.despine();"
   ]
  },
  {
   "cell_type": "markdown",
   "metadata": {},
   "source": [
    "# LDA"
   ]
  },
  {
   "cell_type": "code",
   "execution_count": 55,
   "metadata": {},
   "outputs": [],
   "source": [
    "# tokenizing data\n",
    "tokenized_data = df.text_stem.str.split()"
   ]
  },
  {
   "cell_type": "code",
   "execution_count": 56,
   "metadata": {},
   "outputs": [],
   "source": [
    "import gensim\n",
    "from gensim import corpora\n",
    "\n",
    "\n",
    "# Creating a term dictionary of the text corpus\n",
    "dictionary = corpora.Dictionary(tokenized_data)\n",
    "\n",
    "# creating a Document Text Matrix with the dictionary\n",
    "doc_term_matrix = [dictionary.doc2bow(i) for i in tokenized_data]\n"
   ]
  },
  {
   "cell_type": "code",
   "execution_count": 57,
   "metadata": {},
   "outputs": [],
   "source": [
    "# Creating the object for LDA model using gensim library\n",
    "LDA = gensim.models.ldamodel.LdaModel\n",
    "\n",
    "# Build LDA model\n",
    "lda_model = LDA(corpus=doc_term_matrix,\n",
    "                id2word=dictionary,\n",
    "                num_topics=7, \n",
    "                random_state=100,\n",
    "                chunksize=1000,\n",
    "                passes=50)"
   ]
  },
  {
   "cell_type": "code",
   "execution_count": 58,
   "metadata": {},
   "outputs": [
    {
     "data": {
      "text/plain": [
       "[(0,\n",
       "  '0.017*\"rt\" + 0.004*\"jairbolsonar\" + 0.004*\"desenvolv\" + 0.004*\"pass\" + 0.004*\"2019\" + 0.004*\"nov\" + 0.004*\"invest\" + 0.004*\"men\" + 0.004*\"port\" + 0.004*\"regia\"'),\n",
       " (1,\n",
       "  '0.013*\"brasil\" + 0.009*\"govern\" + 0.009*\"econom\" + 0.008*\"rt\" + 0.007*\"ministr\" + 0.006*\"merc\" + 0.005*\"liv\" + 0.005*\"invest\" + 0.005*\"seman\" + 0.005*\"president\"'),\n",
       " (2,\n",
       "  '0.019*\"bolsonar\" + 0.013*\"rt\" + 0.012*\"jair\" + 0.011*\"...\" + 0.011*\"govern\" + 0.007*\"president\" + 0.005*\"trabalh\" + 0.005*\"nov\" + 0.005*\"medic\" + 0.004*\"assist\"'),\n",
       " (3,\n",
       "  '0.010*\"econom\" + 0.009*\"brasil\" + 0.007*\"paul\" + 0.006*\"govern\" + 0.006*\"previdenc\" + 0.006*\"public\" + 0.006*\"brasileir\" + 0.005*\"pod\" + 0.005*\"med\" + 0.005*\"nov\"'),\n",
       " (4,\n",
       "  '0.013*\"rt\" + 0.007*\"mil\" + 0.007*\"trabalh\" + 0.007*\"govern\" + 0.006*\"ministr\" + 0.005*\"pass\" + 0.005*\"ano\" + 0.005*\"educaca\" + 0.005*\"dav\" + 0.004*\"exercitooficial\"'),\n",
       " (5,\n",
       "  '0.022*\"tod\" + 0.016*\"brasil\" + 0.010*\"govern\" + 0.009*\"pais\" + 0.009*\"dia\" + 0.006*\"grand\" + 0.006*\"brasileir\" + 0.006*\"deus\" + 0.006*\"president\" + 0.006*\"...\"'),\n",
       " (6,\n",
       "  '0.024*\"brasil\" + 0.010*\"econom\" + 0.010*\"rt\" + 0.008*\"nov\" + 0.007*\"pais\" + 0.006*\"trabalh\" + 0.006*\"president\" + 0.006*\"govern\" + 0.005*\"grand\" + 0.005*\"tecnolog\"')]"
      ]
     },
     "execution_count": 58,
     "metadata": {},
     "output_type": "execute_result"
    }
   ],
   "source": [
    "# Printing the topics\n",
    "lda_model.print_topics()"
   ]
  },
  {
   "cell_type": "code",
   "execution_count": 59,
   "metadata": {},
   "outputs": [
    {
     "data": {
      "text/html": [
       "\n",
       "<link rel=\"stylesheet\" type=\"text/css\" href=\"https://cdn.rawgit.com/bmabey/pyLDAvis/files/ldavis.v1.0.0.css\">\n",
       "\n",
       "\n",
       "<div id=\"ldavis_el4515847942656723926669391\"></div>\n",
       "<script type=\"text/javascript\">\n",
       "\n",
       "var ldavis_el4515847942656723926669391_data = {\"mdsDat\": {\"x\": [0.0964170596794159, 0.11141948990799476, 0.07004411443485284, 0.07072779956088548, -0.08432107604447615, -0.13714595317273146, -0.12714143436594114], \"y\": [0.05991132736327227, -0.17926727030898296, 0.06987201905215781, 0.06760042924588583, 0.026637612709974102, -0.10775629538088168, 0.06300217731857474], \"topics\": [1, 2, 3, 4, 5, 6, 7], \"cluster\": [1, 1, 1, 1, 1, 1, 1], \"Freq\": [24.140037536621094, 20.100610733032227, 16.441804885864258, 13.858467102050781, 10.15392780303955, 7.9659528732299805, 7.339197158813477]}, \"tinfo\": {\"Category\": [\"Default\", \"Default\", \"Default\", \"Default\", \"Default\", \"Default\", \"Default\", \"Default\", \"Default\", \"Default\", \"Default\", \"Default\", \"Default\", \"Default\", \"Default\", \"Default\", \"Default\", \"Default\", \"Default\", \"Default\", \"Default\", \"Default\", \"Default\", \"Default\", \"Default\", \"Default\", \"Default\", \"Default\", \"Default\", \"Default\", \"Topic1\", \"Topic1\", \"Topic1\", \"Topic1\", \"Topic1\", \"Topic1\", \"Topic1\", \"Topic1\", \"Topic1\", \"Topic1\", \"Topic1\", \"Topic1\", \"Topic1\", \"Topic1\", \"Topic1\", \"Topic1\", \"Topic1\", \"Topic1\", \"Topic1\", \"Topic1\", \"Topic1\", \"Topic1\", \"Topic1\", \"Topic1\", \"Topic1\", \"Topic1\", \"Topic1\", \"Topic1\", \"Topic1\", \"Topic1\", \"Topic1\", \"Topic1\", \"Topic1\", \"Topic1\", \"Topic1\", \"Topic1\", \"Topic1\", \"Topic1\", \"Topic1\", \"Topic1\", \"Topic1\", \"Topic1\", \"Topic1\", \"Topic1\", \"Topic1\", \"Topic1\", \"Topic1\", \"Topic1\", \"Topic1\", \"Topic1\", \"Topic1\", \"Topic1\", \"Topic1\", \"Topic1\", \"Topic1\", \"Topic1\", \"Topic1\", \"Topic1\", \"Topic1\", \"Topic1\", \"Topic1\", \"Topic1\", \"Topic1\", \"Topic1\", \"Topic1\", \"Topic1\", \"Topic1\", \"Topic1\", \"Topic1\", \"Topic2\", \"Topic2\", \"Topic2\", \"Topic2\", \"Topic2\", \"Topic2\", \"Topic2\", \"Topic2\", \"Topic2\", \"Topic2\", \"Topic2\", \"Topic2\", \"Topic2\", \"Topic2\", \"Topic2\", \"Topic2\", \"Topic2\", \"Topic2\", \"Topic2\", \"Topic2\", \"Topic2\", \"Topic2\", \"Topic2\", \"Topic2\", \"Topic2\", \"Topic2\", \"Topic2\", \"Topic2\", \"Topic2\", \"Topic2\", \"Topic2\", \"Topic2\", \"Topic2\", \"Topic2\", \"Topic2\", \"Topic2\", \"Topic2\", \"Topic2\", \"Topic2\", \"Topic2\", \"Topic2\", \"Topic2\", \"Topic2\", \"Topic2\", \"Topic2\", \"Topic2\", \"Topic2\", \"Topic2\", \"Topic2\", \"Topic2\", \"Topic2\", \"Topic2\", \"Topic2\", \"Topic2\", \"Topic2\", \"Topic2\", \"Topic2\", \"Topic2\", \"Topic2\", \"Topic2\", \"Topic2\", \"Topic2\", \"Topic2\", \"Topic2\", \"Topic2\", \"Topic2\", \"Topic3\", \"Topic3\", \"Topic3\", \"Topic3\", \"Topic3\", \"Topic3\", \"Topic3\", \"Topic3\", \"Topic3\", \"Topic3\", \"Topic3\", \"Topic3\", \"Topic3\", \"Topic3\", \"Topic3\", \"Topic3\", \"Topic3\", \"Topic3\", \"Topic3\", \"Topic3\", \"Topic3\", \"Topic3\", \"Topic3\", \"Topic3\", \"Topic3\", \"Topic3\", \"Topic3\", \"Topic3\", \"Topic3\", \"Topic3\", \"Topic3\", \"Topic3\", \"Topic3\", \"Topic3\", \"Topic3\", \"Topic3\", \"Topic3\", \"Topic3\", \"Topic3\", \"Topic3\", \"Topic3\", \"Topic3\", \"Topic3\", \"Topic3\", \"Topic3\", \"Topic3\", \"Topic3\", \"Topic3\", \"Topic3\", \"Topic3\", \"Topic3\", \"Topic3\", \"Topic3\", \"Topic3\", \"Topic3\", \"Topic3\", \"Topic3\", \"Topic3\", \"Topic3\", \"Topic3\", \"Topic3\", \"Topic3\", \"Topic3\", \"Topic3\", \"Topic3\", \"Topic3\", \"Topic3\", \"Topic4\", \"Topic4\", \"Topic4\", \"Topic4\", \"Topic4\", \"Topic4\", \"Topic4\", \"Topic4\", \"Topic4\", \"Topic4\", \"Topic4\", \"Topic4\", \"Topic4\", \"Topic4\", \"Topic4\", \"Topic4\", \"Topic4\", \"Topic4\", \"Topic4\", \"Topic4\", \"Topic4\", \"Topic4\", \"Topic4\", \"Topic4\", \"Topic4\", \"Topic4\", \"Topic4\", \"Topic4\", \"Topic4\", \"Topic4\", \"Topic4\", \"Topic4\", \"Topic4\", \"Topic4\", \"Topic4\", \"Topic4\", \"Topic4\", \"Topic4\", \"Topic4\", \"Topic4\", \"Topic4\", \"Topic4\", \"Topic4\", \"Topic4\", \"Topic4\", \"Topic4\", \"Topic4\", \"Topic4\", \"Topic4\", \"Topic4\", \"Topic4\", \"Topic4\", \"Topic4\", \"Topic4\", \"Topic4\", \"Topic4\", \"Topic4\", \"Topic4\", \"Topic4\", \"Topic4\", \"Topic4\", \"Topic4\", \"Topic4\", \"Topic4\", \"Topic4\", \"Topic4\", \"Topic4\", \"Topic4\", \"Topic4\", \"Topic4\", \"Topic4\", \"Topic4\", \"Topic5\", \"Topic5\", \"Topic5\", \"Topic5\", \"Topic5\", \"Topic5\", \"Topic5\", \"Topic5\", \"Topic5\", \"Topic5\", \"Topic5\", \"Topic5\", \"Topic5\", \"Topic5\", \"Topic5\", \"Topic5\", \"Topic5\", \"Topic5\", \"Topic5\", \"Topic5\", \"Topic5\", \"Topic5\", \"Topic5\", \"Topic5\", \"Topic5\", \"Topic5\", \"Topic5\", \"Topic5\", \"Topic5\", \"Topic5\", \"Topic5\", \"Topic5\", \"Topic5\", \"Topic5\", \"Topic5\", \"Topic5\", \"Topic5\", \"Topic5\", \"Topic5\", \"Topic5\", \"Topic5\", \"Topic5\", \"Topic5\", \"Topic5\", \"Topic5\", \"Topic5\", \"Topic5\", \"Topic5\", \"Topic5\", \"Topic5\", \"Topic5\", \"Topic5\", \"Topic5\", \"Topic5\", \"Topic5\", \"Topic5\", \"Topic5\", \"Topic5\", \"Topic5\", \"Topic5\", \"Topic5\", \"Topic5\", \"Topic5\", \"Topic5\", \"Topic5\", \"Topic6\", \"Topic6\", \"Topic6\", \"Topic6\", \"Topic6\", \"Topic6\", \"Topic6\", \"Topic6\", \"Topic6\", \"Topic6\", \"Topic6\", \"Topic6\", \"Topic6\", \"Topic6\", \"Topic6\", \"Topic6\", \"Topic6\", \"Topic6\", \"Topic6\", \"Topic6\", \"Topic6\", \"Topic6\", \"Topic6\", \"Topic6\", \"Topic6\", \"Topic6\", \"Topic6\", \"Topic6\", \"Topic6\", \"Topic6\", \"Topic6\", \"Topic6\", \"Topic6\", \"Topic6\", \"Topic6\", \"Topic6\", \"Topic6\", \"Topic6\", \"Topic6\", \"Topic6\", \"Topic6\", \"Topic6\", \"Topic6\", \"Topic6\", \"Topic6\", \"Topic6\", \"Topic6\", \"Topic6\", \"Topic6\", \"Topic6\", \"Topic6\", \"Topic6\", \"Topic6\", \"Topic6\", \"Topic6\", \"Topic6\", \"Topic6\", \"Topic6\", \"Topic6\", \"Topic6\", \"Topic6\", \"Topic7\", \"Topic7\", \"Topic7\", \"Topic7\", \"Topic7\", \"Topic7\", \"Topic7\", \"Topic7\", \"Topic7\", \"Topic7\", \"Topic7\", \"Topic7\", \"Topic7\", \"Topic7\", \"Topic7\", \"Topic7\", \"Topic7\", \"Topic7\", \"Topic7\", \"Topic7\", \"Topic7\", \"Topic7\", \"Topic7\", \"Topic7\", \"Topic7\", \"Topic7\", \"Topic7\", \"Topic7\", \"Topic7\", \"Topic7\", \"Topic7\", \"Topic7\", \"Topic7\", \"Topic7\", \"Topic7\", \"Topic7\", \"Topic7\", \"Topic7\", \"Topic7\", \"Topic7\", \"Topic7\", \"Topic7\", \"Topic7\", \"Topic7\", \"Topic7\", \"Topic7\", \"Topic7\", \"Topic7\", \"Topic7\", \"Topic7\", \"Topic7\", \"Topic7\", \"Topic7\", \"Topic7\", \"Topic7\", \"Topic7\", \"Topic7\", \"Topic7\", \"Topic7\", \"Topic7\", \"Topic7\", \"Topic7\", \"Topic7\", \"Topic7\", \"Topic7\", \"Topic7\", \"Topic7\", \"Topic7\"], \"Freq\": [86.0, 190.0, 155.0, 255.0, 382.0, 39.0, 93.0, 40.0, 120.0, 39.0, 41.0, 41.0, 132.0, 34.0, 44.0, 67.0, 51.0, 23.0, 36.0, 44.0, 55.0, 130.0, 35.0, 33.0, 32.0, 39.0, 125.0, 46.0, 49.0, 48.0, 39.34417724609375, 24.259687423706055, 17.26361846923828, 15.690488815307617, 11.327286720275879, 11.326350212097168, 9.51263427734375, 9.357843399047852, 9.100017547607422, 8.85690975189209, 8.360135078430176, 7.286350250244141, 7.279300212860107, 15.658721923828125, 7.044342994689941, 6.958622455596924, 13.469895362854004, 13.748887062072754, 6.547129154205322, 6.219061374664307, 6.217595100402832, 6.217386722564697, 6.217015266418457, 6.061800956726074, 5.883037567138672, 5.562644004821777, 5.55959939956665, 5.559439182281494, 5.559362888336182, 21.358821868896484, 10.560667037963867, 9.827218055725098, 30.733722686767578, 17.28514289855957, 18.443376541137695, 25.879030227661133, 15.955476760864258, 12.77631950378418, 23.597393035888672, 175.0225830078125, 18.866708755493164, 70.91312408447266, 62.595001220703125, 18.872940063476562, 15.624464988708496, 32.72834396362305, 50.698612213134766, 40.064579010009766, 27.568086624145508, 70.30554962158203, 22.54245376586914, 30.19769287109375, 41.77094650268555, 22.151216506958008, 41.088016510009766, 28.875303268432617, 28.028152465820312, 34.60597610473633, 29.781478881835938, 40.61357116699219, 25.962482452392578, 31.75051498413086, 26.412734985351562, 25.337417602539062, 32.62160873413086, 23.450279235839844, 27.200532913208008, 25.072580337524414, 22.739059448242188, 15.368672370910645, 13.072402954101562, 37.659088134765625, 10.197872161865234, 10.107550621032715, 9.893546104431152, 9.4940824508667, 8.778547286987305, 8.224711418151855, 31.568166732788086, 7.744708061218262, 7.512366771697998, 7.511045932769775, 7.425039768218994, 7.4239983558654785, 7.112304210662842, 7.0222368240356445, 7.019578456878662, 6.795015811920166, 6.706696033477783, 12.782851219177246, 6.076675891876221, 5.998684883117676, 15.18132495880127, 13.519404411315918, 5.991038799285889, 5.988645553588867, 5.763456344604492, 5.680799961090088, 12.485504150390625, 27.855741500854492, 28.77449607849121, 33.959041595458984, 27.590850830078125, 31.047805786132812, 132.1055450439453, 20.165132522583008, 28.73569107055664, 30.669490814208984, 29.716796875, 21.544952392578125, 26.50571060180664, 15.989526748657227, 54.175724029541016, 34.07537841796875, 17.19342613220215, 17.97167205810547, 55.837745666503906, 16.649452209472656, 96.09442138671875, 38.73733901977539, 17.736448287963867, 61.36186599731445, 24.604829788208008, 35.316410064697266, 24.73025894165039, 20.859739303588867, 37.86529541015625, 37.351078033447266, 35.56109619140625, 24.687009811401367, 21.31661605834961, 24.24430274963379, 23.381973266601562, 23.907011032104492, 22.607791900634766, 18.447023391723633, 15.341696739196777, 14.459233283996582, 10.235942840576172, 8.482598304748535, 8.162471771240234, 7.846804618835449, 7.761394500732422, 7.531246185302734, 7.131202220916748, 7.1298651695251465, 7.1288933753967285, 7.048090934753418, 6.727551460266113, 6.496357440948486, 6.0937676429748535, 6.007974147796631, 6.005719184875488, 5.861098766326904, 5.69227933883667, 17.869457244873047, 5.461073398590088, 5.378061771392822, 5.377669334411621, 4.976130485534668, 4.975413799285889, 4.661645412445068, 4.659029006958008, 4.658664226531982, 4.344025135040283, 9.640545845031738, 31.845256805419922, 27.373830795288086, 6.813235282897949, 21.12741470336914, 16.71066665649414, 23.236799240112305, 15.676640510559082, 14.07043170928955, 19.064708709716797, 14.478340148925781, 17.413291931152344, 15.794591903686523, 19.819011688232422, 25.62347412109375, 27.178674697875977, 43.68390655517578, 13.293980598449707, 67.58395385742188, 10.610001564025879, 10.935983657836914, 17.15999984741211, 33.55443572998047, 19.96354866027832, 43.935935974121094, 19.26232147216797, 22.39735221862793, 40.626461029052734, 16.956457138061523, 21.406795501708984, 18.929319381713867, 24.737951278686523, 24.61033821105957, 19.632375717163086, 23.003520965576172, 19.40711784362793, 18.25191307067871, 11.767044067382812, 11.59907054901123, 21.808853149414062, 8.969295501708984, 7.564698696136475, 6.950363636016846, 6.949625492095947, 6.866472244262695, 6.7226409912109375, 6.250802040100098, 6.171209335327148, 5.942897796630859, 5.855579853057861, 19.07514762878418, 5.552133083343506, 5.551762104034424, 5.547971248626709, 5.239029407501221, 5.012511730194092, 4.933991432189941, 4.933522701263428, 4.851534366607666, 4.84912633895874, 4.849369049072266, 4.846817493438721, 4.84441614151001, 4.543215751647949, 4.232569694519043, 4.15422248840332, 4.151705741882324, 7.431113243103027, 6.475142478942871, 9.519426345825195, 27.87582015991211, 19.29359245300293, 25.32615089416504, 8.559464454650879, 11.54152774810791, 8.12414264678955, 7.2579169273376465, 10.079669952392578, 9.907833099365234, 22.89568519592285, 20.63943099975586, 13.42737865447998, 10.000992774963379, 40.43886184692383, 13.942658424377441, 9.800267219543457, 16.724027633666992, 24.27652359008789, 14.571792602539062, 23.160945892333984, 12.430349349975586, 15.612170219421387, 39.8784065246582, 16.976167678833008, 15.730610847473145, 24.162721633911133, 22.670679092407227, 25.517507553100586, 14.563140869140625, 18.27972412109375, 11.427180290222168, 19.88273811340332, 11.922327041625977, 14.819053649902344, 13.227535247802734, 13.195504188537598, 12.607925415039062, 12.430733680725098, 12.476581573486328, 14.171906471252441, 10.344925880432129, 8.214631080627441, 7.845606803894043, 6.888363361358643, 6.5172295570373535, 5.561577320098877, 5.560089111328125, 5.3429789543151855, 4.97443962097168, 4.896940231323242, 4.679625988006592, 4.602537631988525, 4.599867820739746, 4.599589824676514, 4.683602809906006, 3.6473021507263184, 3.646899461746216, 3.6467783451080322, 3.6463890075683594, 3.645789623260498, 3.645535945892334, 3.6446990966796875, 3.642484188079834, 3.6381168365478516, 3.6373369693756104, 3.353187322616577, 3.3465116024017334, 2.984423875808716, 2.9821834564208984, 10.982264518737793, 13.336318969726562, 13.49606704711914, 6.50346565246582, 6.224673271179199, 5.932082653045654, 7.259420394897461, 21.909822463989258, 7.484236240386963, 5.537773609161377, 14.608829498291016, 10.245970726013184, 8.765114784240723, 8.17630672454834, 38.824989318847656, 9.240116119384766, 12.291592597961426, 16.937435150146484, 14.778733253479004, 20.491628646850586, 9.65825366973877, 18.53913688659668, 20.397706985473633, 7.233292579650879, 12.075299263000488, 11.93996524810791, 7.810964584350586, 9.061193466186523, 8.042215347290039, 8.523815155029297, 9.159017562866211, 8.859950065612793, 7.942483425140381, 7.908036708831787, 7.8928446769714355, 8.10606575012207, 8.036770820617676, 7.829656600952148, 7.112191677093506, 6.8438849449157715, 6.207906723022461, 6.203908920288086, 5.654242515563965, 4.381707668304443, 4.3804779052734375, 4.109627723693848, 3.8267829418182373, 3.7546939849853516, 3.549691677093506, 3.4751691818237305, 3.4745540618896484, 3.473374366760254, 3.473525285720825, 3.467146635055542, 3.465641498565674, 2.9165449142456055, 2.9149961471557617, 2.8448731899261475, 2.8438408374786377, 2.8433516025543213, 2.843256950378418, 2.842956066131592, 2.8422977924346924, 2.63712739944458, 2.565078020095825, 30.394926071166992, 7.756056308746338, 5.444099426269531, 6.066883563995361, 6.003319263458252, 46.8836669921875, 11.067171096801758, 5.0817341804504395, 6.2133073806762695, 4.386450290679932, 26.56623077392578, 9.331828117370605, 31.128292083740234, 7.362481117248535, 7.56318473815918, 10.780755996704102, 25.748336791992188, 18.033756256103516, 7.402200222015381, 7.461657524108887, 7.083287239074707, 9.665716171264648, 12.390877723693848, 7.271534442901611, 12.164559364318848, 6.8999786376953125, 7.704122066497803, 7.082340717315674, 6.971831321716309, 7.186341285705566, 6.581689357757568, 6.179190635681152, 5.552387714385986, 4.645524501800537, 4.439181804656982, 4.363144874572754, 4.3626933097839355, 4.361778259277344, 3.8101515769958496, 3.8079993724823, 3.4574761390686035, 3.4572365283966064, 3.4548511505126953, 3.180328845977783, 3.1788477897644043, 3.1767959594726562, 2.9018893241882324, 2.8981237411499023, 2.8295040130615234, 2.551386594772339, 2.5509135723114014, 2.550332546234131, 2.54899525642395, 2.546074867248535, 2.5453600883483887, 2.545313596725464, 2.5416901111602783, 2.5413079261779785, 4.718502044677734, 5.047644138336182, 2.2734885215759277, 4.339493751525879, 5.54163122177124, 3.810626983642578, 6.751254081726074, 3.5321545600891113, 5.859069347381592, 3.738206386566162, 4.90046501159668, 3.739331007003784, 5.728757858276367, 4.1184844970703125, 37.8062629699707, 5.960310459136963, 6.053450107574463, 8.197623252868652, 5.139720439910889, 4.529310703277588, 5.692071437835693, 6.476108074188232, 9.145695686340332, 8.894378662109375, 8.532028198242188, 8.51716136932373, 7.065290927886963, 9.101369857788086, 9.058656692504883, 8.679325103759766, 8.729737281799316, 6.275850772857666, 7.6237664222717285, 8.102631568908691, 6.636809349060059, 7.081772327423096, 6.19970178604126, 5.73227071762085, 5.290469169616699, 5.234112739562988, 5.321380138397217], \"Term\": [\"bolsonar\", \"tod\", \"econom\", \"rt\", \"brasil\", \"jair\", \"dia\", \"tecnolog\", \"...\", \"deus\", \"obrig\", \"merc\", \"nov\", \"abrac\", \"previdenc\", \"invest\", \"mil\", \"gued\", \"liv\", \"paul\", \"boa\", \"president\", \"carlosbolsonar\", \"respeit\", \"fort\", \"1type12\", \"pais\", \"populaca\", \"seguranc\", \"jairbolsonar\", \"tecnolog\", \"cienc\", \"acim\", \"bols\", \"trafeg\", \"fevereir\", \"cadastr\", \"retom\", \"safr\", \"bel\", \"jorgeseif\", \"proposital\", \"gabinet\", \"rum\", \"vao\", \"andament\", \"astropont\", \"conclu\", \"dessalinizaca\", \"br1type12pointrighttype12pointrighttype12\", \"chuv\", \"comprov\", \"penal\", \"mercosul\", \"reunio\", \"aposentador\", \"especif\", \"violent\", \"estat\", \"parc\", \"local\", \"us\", \"acord\", \"dad\", \"saib\", \"are\", \"cresciment\", \"par\", \"planalt\", \"brasil\", \"marc\", \"econom\", \"nov\", \"israel\", \"missa\", \"primeir\", \"pais\", \"grand\", \"ministeri\", \"rt\", \"parabens\", \"empreg\", \"trabalh\", \"dest\", \"president\", \"desenvolv\", \"nest\", \"brasileir\", \"dia\", \"govern\", \"invest\", \"ministr\", \"pass\", \"nacional\", \"tod\", \"junt\", \"...\", \"faz\", \"ano\", \"far\", \"facebook\", \"deus\", \"ver\", \"para\", \"consideraca\", \"confort\", \"homenag\", \"trar\", \"abrac\", \"profund\", \"amad\", \"abenco\", \"pescador\", \"participaca\", \"eleit\", \"advocaciageral\", \"tvnbr\", \"abandon\", \"presidencial\", \"br1\", \"maranha\", \"dificil\", \"filh\", \"vitim\", \"preocupaca\", \"eficient\", \"inimig\", \"ameac\", \"venezuelan\", \"fort\", \"respeit\", \"obrig\", \"noit\", \"1type12\", \"tod\", \"moment\", \"bom\", \"pov\", \"vid\", \"agradec\", \"pouc\", \"lad\", \"dia\", \"boa\", \"democrac\", \"alguns\", \"pais\", \"palavr\", \"brasil\", \"grand\", \"futur\", \"govern\", \"poss\", \"faz\", \"vez\", \"apoi\", \"brasileir\", \"president\", \"...\", \"part\", \"sempr\", \"bolsonar\", \"br\", \"trabalh\", \"estad\", \"youtub\", \"quintafeir\", \"link\", \"procur\", \"responsav\", \"pacot\", \"capita\", \"br1type12\", \"embaix\", \"inicial\", \"naco\", \"suspend\", \"empreendedor\", \"23\", \"atra\", \"leis\", \"revel\", \"evoluca\", \"competit\", \"tip\", \"prec\", \"ofert\", \"revisa\", \"desarm\", \"ppinvest\", \"medi\", \"eleica\", \"coordenaca\", \"criaca\", \"lav\", \"qualidad\", \"merc\", \"liv\", \"fund\", \"cresc\", \"aeroport\", \"carlosbolsonar\", \"assunt\", \"relaco\", \"alem\", \"ferrov\", \"empres\", \"energ\", \"setor\", \"seman\", \"invest\", \"econom\", \"reduz\", \"brasil\", \"secret\", \"concesso\", \"tarcisiogdf\", \"ministr\", \"ger\", \"govern\", \"port\", \"nacional\", \"rt\", \"servic\", \"empreg\", \"milho\", \"president\", \"brasileir\", \"primeir\", \"nov\", \"desenvolv\", \"estad\", \"parlament\", \"forum\", \"gued\", \"resolv\", \"jovens\", \"milh\", \"paragua\", \"suic\", \"tempor\", \"mandat\", \"fiscaliz\", \"economiz\", \"colomb\", \"necess\", \"respost\", \"pergunt\", \"manipul\", \"fiscalizaca\", \"cruzeir\", \"emend\", \"ongs\", \"quartafeir\", \"segur\", \"tercafeir\", \"cofr\", \"jant\", \"utilizaca\", \"20182019\", \"efet\", \"coorden\", \"minsaud\", \"usad\", \"problem\", \"paul\", \"crim\", \"previdenc\", \"tentat\", \"informaco\", \"da\", \"rap\", \"mudanc\", \"possivel\", \"med\", \"populaca\", \"ganh\", \"mid\", \"econom\", \"estud\", \"permit\", \"men\", \"public\", \"recurs\", \"pod\", \"objet\", \"combat\", \"brasil\", \"milho\", \"seguranc\", \"brasileir\", \"nov\", \"govern\", \"ger\", \"ministr\", \"mp\", \"rt\", \"saud\", \"faz\", \"ministeri\", \"nacional\", \"federal\", \"bem\", \"part\", \"dav\", \"1o\", \"font\", \"br163\", \"engenh\", \"brumadinhomg\", \"gra\", \"funco\", \"11\", \"sid\", \"percorr\", \"diesel\", \"debat\", \"formaca\", \"manobr\", \"832\", \"dilm\", \"abaix\", \"caminha\", \"unasul\", \"sud\", \"defesagovbr\", \"gost\", \"pil\", \"administraca\", \"portuari\", \"desvi\", \"enem\", \"handshak\", \"wef\", \"unidad\", \"trech\", \"exercitooficial\", \"lul\", \"19\", \"informaca\", \"logist\", \"mil\", \"abrahamweint\", \"compar\", \"educaca\", \"transport\", \"execut\", \"construca\", \"rt\", \"rodov\", \"tarcisiogdf\", \"pass\", \"ano\", \"trabalh\", \"imprens\", \"ministr\", \"govern\", \"amer\", \"pod\", \"public\", \"ocorr\", \"federal\", \"carg\", \"2019\", \"dia\", \"br\", \"milit\", \"segu\", \"...\", \"jam\", \"concluso\", \"cerimon\", \"agent\", \"comand\", \"possiv\", \"dificuldad\", \"portavoz\", \"rapid\", \"prez\", \"ar\", \"maxim\", \"facil\", \"luiz\", \"engenheir\", \"matteosalvinim\", \"expressa\", \"utiliz\", \"combustivel\", \"mr\", \"fest\", \"vergonh\", \"pan\", \"cacau\", \"sensoinc\", \"escrit\", \"curricul\", \"desastr\", \"dr\", \"del\", \"jair\", \"exportaco\", \"reg\", \"motiv\", \"dec\", \"bolsonar\", \"medic\", \"mg\", \"brumadinh\", \"analis\", \"...\", \"tir\", \"rt\", \"entrev\", \"exercit\", \"assist\", \"govern\", \"president\", \"jornal\", \"anunc\", \"acab\", \"seguranc\", \"trabalh\", \"republ\", \"nov\", \"general\", \"jairbolsonar\", \"cri\", \"pesso\", \"faz\", \"sfmor\", \"revist\", \"barragens\", \"brpointuptype12pointrighttype12pointrighttype12\", \"ro\", \"pen\", \"120\", \"mim\", \"simul\", \"deriv\", \"desculp\", \"artig\", \"bilateral\", \"referenc\", \"esforc\", \"superior\", \"mov\", \"assinatur\", \"abrah\", \"suprem\", \"rar\", \"esport\", \"conect\", \"captaca\", \"br364\", \"poup\", \"recent\", \"legislaca\", \"ce\", \"voos\", \"pacient\", \"tratament\", \"es\", \"rur\", \"prox\", \"adesa\", \"brazil\", \"odiodob\", \"aproxim\", \"alfabetizaca\", \"regional\", \"aeronav\", \"rt\", \"aplic\", \"determin\", \"regia\", \"nort\", \"meccomunicaca\", \"hor\", \"venezuel\", \"jairbolsonar\", \"2019\", \"men\", \"port\", \"educaca\", \"desenvolv\", \"pass\", \"invest\", \"nov\", \"program\", \"...\", \"govern\", \"maior\", \"ministr\", \"estad\", \"mil\", \"represent\", \"feder\", \"dev\"], \"Total\": [86.0, 190.0, 155.0, 255.0, 382.0, 39.0, 93.0, 40.0, 120.0, 39.0, 41.0, 41.0, 132.0, 34.0, 44.0, 67.0, 51.0, 23.0, 36.0, 44.0, 55.0, 130.0, 35.0, 33.0, 32.0, 39.0, 125.0, 46.0, 49.0, 48.0, 40.03923416137695, 24.954483032226562, 17.959325790405273, 16.38987922668457, 12.022883415222168, 12.02236270904541, 10.20901870727539, 10.053171157836914, 9.796028137207031, 9.552887916564941, 9.054984092712402, 7.982842445373535, 7.97917366027832, 17.188867568969727, 7.740447521209717, 7.654866695404053, 14.863174438476562, 15.184980392456055, 7.24222993850708, 6.913506507873535, 6.913270950317383, 6.913215160369873, 6.913088321685791, 6.756714820861816, 6.581576824188232, 6.257572174072266, 6.256038665771484, 6.255873680114746, 6.255804061889648, 24.069847106933594, 11.909663200378418, 11.165240287780762, 39.99103927612305, 22.483165740966797, 24.37432861328125, 36.27493667602539, 20.735929489135742, 16.057641983032227, 33.47282791137695, 382.7323913574219, 26.61508560180664, 155.4887237548828, 132.5070343017578, 28.84516143798828, 22.663129806518555, 64.8406982421875, 125.08882904052734, 96.19654846191406, 54.52847671508789, 255.44984436035156, 41.95953369140625, 67.94002532958984, 119.77281188964844, 41.753273010253906, 130.88665771484375, 68.46247863769531, 64.8230972290039, 133.33905029296875, 93.57566833496094, 225.67755126953125, 67.43161010742188, 125.79558563232422, 75.34003448486328, 67.35712432861328, 190.70175170898438, 61.88077926635742, 120.3106460571289, 91.67938232421875, 57.50310134887695, 16.06948471069336, 13.771966934204102, 39.98918151855469, 10.90318775177002, 10.81689739227295, 10.592780113220215, 10.193560600280762, 9.477904319763184, 8.925471305847168, 34.303585052490234, 8.444710731506348, 8.21157169342041, 8.210906028747559, 8.126371383666992, 8.126070022583008, 7.811999797821045, 7.725550651550293, 7.723914623260498, 7.495057582855225, 7.409845352172852, 14.254114151000977, 6.777799129486084, 6.697820663452148, 16.95339012145996, 15.098953247070312, 6.693484783172607, 6.69291877746582, 6.463120937347412, 6.380459785461426, 14.112568855285645, 32.00760269165039, 33.84803771972656, 41.172821044921875, 33.47454833984375, 39.10753631591797, 190.70175170898438, 24.74736976623535, 37.04888916015625, 42.316524505615234, 41.29757308959961, 28.614593505859375, 36.70388412475586, 20.62026596069336, 93.57566833496094, 55.22605514526367, 23.546207427978516, 25.58846092224121, 125.08882904052734, 24.12939453125, 382.7323913574219, 96.19654846191406, 27.055625915527344, 225.67755126953125, 47.83224105834961, 91.67938232421875, 51.638126373291016, 37.19257354736328, 133.33905029296875, 130.88665771484375, 120.3106460571289, 68.22407531738281, 45.809234619140625, 86.8974380493164, 76.67189025878906, 119.77281188964844, 87.94203186035156, 19.146272659301758, 16.04100227355957, 15.158473014831543, 10.93533706665039, 9.182271003723145, 8.863483428955078, 8.547113418579102, 8.462528228759766, 8.230533599853516, 7.830420017242432, 7.829654216766357, 7.829204082489014, 7.747504711151123, 7.428614139556885, 7.195553779602051, 6.794088363647461, 6.709872245788574, 6.708672046661377, 6.5607123374938965, 6.393425941467285, 20.13579750061035, 6.160483360290527, 6.0776472091674805, 6.077291488647461, 5.676336765289307, 5.676036834716797, 5.360579490661621, 5.359350204467773, 5.358985424041748, 5.043089866638184, 11.697080612182617, 41.923580169677734, 36.11125946044922, 8.226236343383789, 30.737648010253906, 23.64338493347168, 35.90859603881836, 23.351287841796875, 20.520889282226562, 30.96394157409668, 21.7845516204834, 28.133928298950195, 25.014455795288086, 36.27849197387695, 54.55995178222656, 67.43161010742188, 155.4887237548828, 22.414772033691406, 382.7323913574219, 15.583744049072266, 16.5362548828125, 37.0265007019043, 125.79558563232422, 49.23676681518555, 225.67755126953125, 47.25318908691406, 67.35712432861328, 255.44984436035156, 39.9221076965332, 67.94002532958984, 56.47798156738281, 130.88665771484375, 133.33905029296875, 64.8406982421875, 132.5070343017578, 68.46247863769531, 87.94203186035156, 12.469398498535156, 12.304898262023926, 23.38808822631836, 9.671594619750977, 8.269862174987793, 7.653156280517578, 7.652731418609619, 7.570811748504639, 7.424895286560059, 6.953577995300293, 6.87366247177124, 6.645106792449951, 6.56074333190918, 21.443622589111328, 6.254693031311035, 6.254463195800781, 6.25242805480957, 5.943325996398926, 5.715454578399658, 5.636099815368652, 5.635876655578613, 5.5545125007629395, 5.5530571937561035, 5.553354263305664, 5.551913261413574, 5.550653457641602, 5.245704650878906, 4.935572624206543, 4.856210708618164, 4.855091571807861, 8.99317455291748, 7.921924591064453, 12.574673652648926, 44.234642028808594, 30.967571258544922, 44.45671463012695, 11.504857063293457, 17.55658531188965, 11.028666496276855, 9.497743606567383, 14.954450607299805, 14.767154693603516, 51.93674087524414, 46.50554656982422, 24.340415954589844, 15.999424934387207, 155.4887237548828, 27.77296257019043, 15.769171714782715, 41.66204071044922, 87.5780029296875, 33.74580001831055, 87.53853607177734, 26.502004623413086, 43.45142364501953, 382.7323913574219, 56.47798156738281, 49.01304244995117, 133.33905029296875, 132.5070343017578, 225.67755126953125, 49.23676681518555, 125.79558563232422, 25.461801528930664, 255.44984436035156, 31.49395179748535, 91.67938232421875, 54.52847671508789, 67.35712432861328, 45.60551452636719, 48.718284606933594, 68.22407531738281, 14.88227367401123, 11.05439281463623, 8.923644065856934, 8.554072380065918, 7.596949100494385, 7.226325988769531, 6.269896507263184, 6.269181251525879, 6.05211067199707, 5.682744979858398, 5.605765342712402, 5.3886237144470215, 5.31194543838501, 5.3103837966918945, 5.31017541885376, 5.461295127868652, 4.355597019195557, 4.355400562286377, 4.355271339416504, 4.355139255523682, 4.354852676391602, 4.354778289794922, 4.354380130767822, 4.352930545806885, 4.352008819580078, 4.351313591003418, 4.061742305755615, 4.059192657470703, 3.6923294067382812, 3.691147565841675, 14.747055053710938, 18.377653121948242, 19.34697914123535, 8.768341064453125, 8.469673156738281, 8.073582649230957, 10.760726928710938, 51.401397705078125, 11.8761625289917, 7.83897066116333, 30.88636016845703, 18.8104248046875, 18.163818359375, 16.803895950317383, 255.44984436035156, 20.96657371520996, 37.0265007019043, 75.34003448486328, 57.50310134887695, 119.77281188964844, 26.04253387451172, 125.79558563232422, 225.67755126953125, 15.547186851501465, 87.53853607177734, 87.5780029296875, 21.585689544677734, 45.60551452636719, 26.54831314086914, 45.93241500854492, 93.57566833496094, 76.67189025878906, 30.631135940551758, 41.05571746826172, 120.3106460571289, 8.822299003601074, 8.751154899597168, 8.544234275817871, 7.834354400634766, 7.558692932128906, 6.924508571624756, 6.922549724578857, 6.367738246917725, 5.09897518157959, 5.098283767700195, 4.822994232177734, 4.541562080383301, 4.469175338745117, 4.263191223144531, 4.1896138191223145, 4.189286708831787, 4.188624382019043, 4.188873291015625, 4.186002254486084, 4.187376976013184, 3.6303162574768066, 3.6296932697296143, 3.5580825805664062, 3.557521104812622, 3.5573599338531494, 3.5572988986968994, 3.5572290420532227, 3.5568366050720215, 3.3507630825042725, 3.2782976627349854, 39.51791763305664, 10.00731086730957, 7.110218048095703, 8.059844970703125, 8.201103210449219, 86.8974380493164, 18.850101470947266, 7.864865303039551, 11.276625633239746, 6.852815628051758, 120.3106460571289, 25.464338302612305, 255.44984436035156, 17.030391693115234, 18.087797164916992, 38.40928649902344, 225.67755126953125, 130.88665771484375, 19.81358528137207, 22.513948440551758, 20.097782135009766, 49.01304244995117, 119.77281188964844, 24.412870407104492, 132.5070343017578, 21.480016708374023, 48.331268310546875, 37.81226348876953, 34.94704818725586, 91.67938232421875, 19.73149871826172, 6.894770622253418, 6.2668046951293945, 5.359271049499512, 5.153295040130615, 5.079204082489014, 5.079073905944824, 5.0784149169921875, 4.524178981781006, 4.523183345794678, 4.1723833084106445, 4.172275543212891, 4.170862674713135, 3.894615411758423, 3.893805980682373, 3.8927528858184814, 3.616203784942627, 3.6143674850463867, 3.5437135696411133, 3.265421152114868, 3.2652387619018555, 3.2649309635162354, 3.264369010925293, 3.2627336978912354, 3.262385606765747, 3.262904644012451, 3.2608249187469482, 3.2610745429992676, 6.130279064178467, 6.580280303955078, 2.9873149394989014, 5.713160514831543, 8.100760459899902, 5.238699913024902, 10.637516021728516, 4.960198879241943, 9.566750526428223, 5.408045291900635, 7.898609161376953, 5.603131294250488, 10.375645637512207, 6.549169063568115, 255.44984436035156, 13.440719604492188, 14.876899719238281, 29.9215087890625, 11.286779403686523, 8.761006355285645, 15.206705093383789, 20.719221115112305, 48.331268310546875, 45.93241500854492, 41.66204071044922, 47.25318908691406, 30.88636016845703, 68.46247863769531, 75.34003448486328, 67.43161010742188, 132.5070343017578, 34.855106353759766, 120.3106460571289, 225.67755126953125, 69.62456512451172, 125.79558563232422, 87.94203186035156, 51.401397705078125, 21.556472778320312, 17.50200653076172, 58.25253677368164], \"loglift\": [30.0, 29.0, 28.0, 27.0, 26.0, 25.0, 24.0, 23.0, 22.0, 21.0, 20.0, 19.0, 18.0, 17.0, 16.0, 15.0, 14.0, 13.0, 12.0, 11.0, 10.0, 9.0, 8.0, 7.0, 6.0, 5.0, 4.0, 3.0, 2.0, 1.0, 1.4038000106811523, 1.3931000232696533, 1.3818000555038452, 1.3776999711990356, 1.3617000579833984, 1.3617000579833984, 1.350600004196167, 1.3495999574661255, 1.347599983215332, 1.3457000255584717, 1.3415000438690186, 1.3300000429153442, 1.3294999599456787, 1.3280999660491943, 1.3271000385284424, 1.3258999586105347, 1.3229000568389893, 1.3219000101089478, 1.3203999996185303, 1.3154000043869019, 1.3151999711990356, 1.3151999711990356, 1.3151999711990356, 1.3128000497817993, 1.3091000318527222, 1.3035999536514282, 1.3033000230789185, 1.3033000230789185, 1.3033000230789185, 1.301800012588501, 1.3011000156402588, 1.2935999631881714, 1.1579999923706055, 1.158400058746338, 1.1425000429153442, 1.0836000442504883, 1.1591999530792236, 1.1927000284194946, 1.0716999769210815, 0.6388999819755554, 1.0772000551223755, 0.6362000107765198, 0.6712999939918518, 0.9970999956130981, 1.049399971961975, 0.7376000285148621, 0.5181999802589417, 0.5454000234603882, 0.7391999959945679, 0.13109999895095825, 0.800000011920929, 0.6104000210762024, 0.367900013923645, 0.7874000072479248, 0.26269999146461487, 0.5580000281333923, 0.5827999711036682, 0.07240000367164612, 0.27639999985694885, -0.2937000095844269, 0.4668000042438507, 0.04450000077486038, 0.37310001254081726, 0.44359999895095825, -0.34439998865127563, 0.45100000500679016, -0.06549999862909317, 0.12479999661445618, 0.4934999942779541, 1.5598000288009644, 1.552299976348877, 1.5443999767303467, 1.537500023841858, 1.5365999937057495, 1.5361000299453735, 1.5333000421524048, 1.5277999639511108, 1.5226999521255493, 1.521299958229065, 1.517899990081787, 1.5154000520706177, 1.5153000354766846, 1.51419997215271, 1.5140999555587769, 1.510599970817566, 1.5089999437332153, 1.5088000297546387, 1.5063999891281128, 1.504699945449829, 1.4954999685287476, 1.4952000379562378, 1.4941999912261963, 1.49399995803833, 1.493899941444397, 1.4936000108718872, 1.4931999444961548, 1.489799976348877, 1.4882999658584595, 1.4818999767303467, 1.465499997138977, 1.4420000314712524, 1.4118000268936157, 1.4111000299453735, 1.3736000061035156, 1.2373000383377075, 1.3997000455856323, 1.3502999544143677, 1.2825000286102295, 1.2753000259399414, 1.3206000328063965, 1.2789000272750854, 1.350100040435791, 1.0578999519348145, 1.1216000318527222, 1.2899999618530273, 1.251099944114685, 0.7978000044822693, 1.2333999872207642, 0.2223999947309494, 0.6948000192642212, 1.1821000576019287, 0.3021000027656555, 0.9397000074386597, 0.6504999995231628, 0.8682000041007996, 1.0261000394821167, 0.3456000089645386, 0.3504999876022339, 0.3856000006198883, 0.5878999829292297, 0.8393999934196472, 0.3278999924659729, 0.41690000891685486, -0.007000000216066837, 0.2460000067949295, 1.7681000232696533, 1.7608000040054321, 1.7581000328063965, 1.7391999959945679, 1.726099967956543, 1.7230000495910645, 1.7199000120162964, 1.7188999652862549, 1.716599941253662, 1.7117999792099, 1.7116999626159668, 1.7115999460220337, 1.7107000350952148, 1.7062000036239624, 1.7030999660491943, 1.6965999603271484, 1.6949000358581543, 1.694700002670288, 1.6926000118255615, 1.6892000436782837, 1.6858999729156494, 1.6848000288009644, 1.6830999851226807, 1.6829999685287476, 1.673699975013733, 1.6735999584197998, 1.6655999422073364, 1.6653000116348267, 1.6653000116348267, 1.6561000347137451, 1.6119999885559082, 1.530400037765503, 1.5283000469207764, 1.6168999671936035, 1.430400013923645, 1.458299994468689, 1.3701000213623047, 1.4069000482559204, 1.4279999732971191, 1.3203999996185303, 1.3968000411987305, 1.325600028038025, 1.3456000089645386, 1.2007999420166016, 1.0496000051498413, 0.8967000246047974, 0.5357000231742859, 1.2828999757766724, 0.0714000016450882, 1.4208999872207642, 1.391800045967102, 1.0362999439239502, 0.4839000105857849, 0.9025999903678894, 0.16899999976158142, 0.9079999923706055, 0.7042999863624573, -0.0333000011742115, 0.9491000175476074, 0.6503999829292297, 0.7121999859809875, 0.13940000534057617, 0.11559999734163284, 0.6105999946594238, 0.0544000007212162, 0.544700026512146, 0.2328999936580658, 1.9183000326156616, 1.917199969291687, 1.9063999652862549, 1.9009000062942505, 1.8870999813079834, 1.8798999786376953, 1.8798999786376953, 1.878600001335144, 1.8768999576568604, 1.8696999549865723, 1.868499994277954, 1.8645999431610107, 1.8625999689102173, 1.8592000007629395, 1.857100009918213, 1.857100009918213, 1.8566999435424805, 1.850100040435791, 1.8450000286102295, 1.8431999683380127, 1.8431999683380127, 1.840999960899353, 1.8407000303268433, 1.8407000303268433, 1.840499997138977, 1.8401999473571777, 1.8324999809265137, 1.82260000705719, 1.820099949836731, 1.8198000192642212, 1.7855000495910645, 1.7746000289916992, 1.6979000568389893, 1.5145000219345093, 1.503100037574768, 1.413599967956543, 1.6805000305175781, 1.5568000078201294, 1.6706000566482544, 1.7072999477386475, 1.5817999839782715, 1.5772000551223755, 1.1571999788284302, 1.1639000177383423, 1.3813999891281128, 1.5063999891281128, 0.6294999718666077, 1.2871999740600586, 1.500599980354309, 1.0635000467300415, 0.6933000087738037, 1.1365000009536743, 0.6467000246047974, 1.2192000150680542, 0.9527000188827515, -0.28519999980926514, 0.7742000222206116, 0.8398000001907349, 0.26820001006126404, 0.21070000529289246, -0.20350000262260437, 0.7580999732017517, 0.04740000143647194, 1.1750999689102173, -0.5769000053405762, 1.0048999786376953, 0.15389999747276306, 0.5598999857902527, 0.34610000252723694, 0.6905999779701233, 0.6104000210762024, 0.27730000019073486, 2.2383999824523926, 2.2209999561309814, 2.2044999599456787, 2.200900077819824, 2.1893999576568604, 2.184000015258789, 2.1673998832702637, 2.16729998588562, 2.1626999378204346, 2.1542000770568848, 2.152100086212158, 2.146199941635132, 2.1440000534057617, 2.143699884414673, 2.143699884414673, 2.133699893951416, 2.109800100326538, 2.109800100326538, 2.109800100326538, 2.1096999645233154, 2.109600067138672, 2.109499931335449, 2.1094000339508057, 2.109100103378296, 2.108099937438965, 2.108099937438965, 2.095599889755249, 2.0941998958587646, 2.07450008392334, 2.0739998817443848, 1.9924999475479126, 1.9666999578475952, 1.9271999597549438, 1.9884999990463257, 1.9793000221252441, 1.979099988937378, 1.8937000036239624, 1.4345999956130981, 1.825600028038025, 1.9398000240325928, 1.538599967956543, 1.679800033569336, 1.5586999654769897, 1.5669000148773193, 0.4032999873161316, 1.467900037765503, 1.1845999956130981, 0.7947999835014343, 0.9286999702453613, 0.5217000246047974, 1.2954000234603882, 0.3725000023841858, -0.11640000343322754, 1.5220999717712402, 0.30640000104904175, 0.2946999967098236, 1.270799994468689, 0.6712999939918518, 1.093000054359436, 0.6029999852180481, -0.03669999912381172, 0.12929999828338623, 0.9375, 0.6402999758720398, -0.4368000030517578, 2.4453001022338867, 2.4447999000549316, 2.442699909210205, 2.433300018310547, 2.4307000637054443, 2.420799970626831, 2.4203999042510986, 2.4112000465393066, 2.3784000873565674, 2.378200054168701, 2.3698999881744385, 2.3587000370025635, 2.355799913406372, 2.3468000888824463, 2.3429999351501465, 2.342900037765503, 2.3427000045776367, 2.3427000045776367, 2.341599941253662, 2.3408000469207764, 2.3111000061035156, 2.310699939727783, 2.306299924850464, 2.3060998916625977, 2.305999994277954, 2.3059000968933105, 2.3059000968933105, 2.3057000637054443, 2.2904999256134033, 2.2846999168395996, 2.2674999237060547, 2.2751998901367188, 2.263000011444092, 2.2458999156951904, 2.2179999351501465, 1.9128999710083008, 1.997499942779541, 2.0931999683380127, 1.934000015258789, 2.083899974822998, 1.0196000337600708, 1.5261000394821167, 0.4250999987125397, 1.6914000511169434, 1.6579999923706055, 1.2595000267028809, 0.35929998755455017, 0.5479000210762024, 1.5454000234603882, 1.4256000518798828, 1.4871000051498413, 0.906499981880188, 0.2614000141620636, 1.3188999891281128, 0.14190000295639038, 1.3944000005722046, 0.6937000155448914, 0.8550000190734863, 0.9179999828338623, -0.016100000590085983, 1.4321000576019287, 2.5023999214172363, 2.4909000396728516, 2.4690001010894775, 2.4628000259399414, 2.4600000381469727, 2.45989990234375, 2.4598000049591064, 2.440200090408325, 2.4398000240325928, 2.4240000247955322, 2.4238998889923096, 2.4235999584198, 2.4093000888824463, 2.40910005569458, 2.4086999893188477, 2.391900062561035, 2.3910999298095703, 2.386899948120117, 2.3652000427246094, 2.3650999069213867, 2.3649001121520996, 2.3645999431610107, 2.3638999462127686, 2.363800048828125, 2.363600015640259, 2.362799882888794, 2.362600088119507, 2.3501999378204346, 2.3468000888824463, 2.338900089263916, 2.336899995803833, 2.232300043106079, 2.2936999797821045, 2.1572999954223633, 2.27239990234375, 2.1215999126434326, 2.2427000999450684, 2.1345999240875244, 2.2074999809265137, 2.0179998874664307, 2.148099899291992, 0.7013999819755554, 1.798799991607666, 1.7128000259399414, 1.317199945449829, 1.8252999782562256, 1.9522000551223755, 1.6292999982833862, 1.4490000009536743, 0.9470999836921692, 0.9702000021934509, 1.0262000560760498, 0.8985000252723694, 1.1368000507354736, 0.5940999984741211, 0.4936000108718872, 0.5618000030517578, -0.1080000028014183, 0.8974999785423279, -0.1468999981880188, -0.7149999737739563, 0.2615000009536743, -0.2651999890804291, -0.04019999876618385, 0.41839998960494995, 1.207200050354004, 1.4048000574111938, 0.21889999508857727], \"logprob\": [30.0, 29.0, 28.0, 27.0, 26.0, 25.0, 24.0, 23.0, 22.0, 21.0, 20.0, 19.0, 18.0, 17.0, 16.0, 15.0, 14.0, 13.0, 12.0, 11.0, 10.0, 9.0, 8.0, 7.0, 6.0, 5.0, 4.0, 3.0, 2.0, 1.0, -5.232800006866455, -5.716400146484375, -6.056600093841553, -6.152100086212158, -6.478000164031982, -6.478000164031982, -6.652500152587891, -6.669000148773193, -6.696899890899658, -6.723999977111816, -6.781700134277344, -6.9191999435424805, -6.920100212097168, -6.154099941253662, -6.952899932861328, -6.965199947357178, -6.304699897766113, -6.284200191497803, -7.026100158691406, -7.077499866485596, -7.0777997970581055, -7.0777997970581055, -7.077899932861328, -7.1031999588012695, -7.1331000328063965, -7.1890997886657715, -7.189599990844727, -7.189700126647949, -7.189700126647949, -5.843699932098389, -6.547999858856201, -6.619999885559082, -5.479800224304199, -6.055300235748291, -5.990499973297119, -5.651700019836426, -6.13539981842041, -6.357600212097168, -5.74399995803833, -3.740299940109253, -5.967800140380859, -4.643700122833252, -4.768499851226807, -5.967400074005127, -6.156300067901611, -5.416900157928467, -4.979300022125244, -5.214700222015381, -5.588500022888184, -4.652299880981445, -5.78980016708374, -5.497399806976318, -5.172999858856201, -5.807300090789795, -5.1894001960754395, -5.542200088500977, -5.572000026702881, -5.361100196838379, -5.511300086975098, -5.201099872589111, -5.648499965667725, -5.447299957275391, -5.63129997253418, -5.672900199890137, -5.420199871063232, -5.75029993057251, -5.601900100708008, -5.6834001541137695, -5.781099796295166, -5.989699840545654, -6.151500225067139, -5.093500137329102, -6.399899959564209, -6.40880012512207, -6.430200099945068, -6.471399784088135, -6.549699783325195, -6.6149001121521, -5.269899845123291, -6.675000190734863, -6.70550012588501, -6.705699920654297, -6.717199802398682, -6.717299938201904, -6.760200023651123, -6.7729997634887695, -6.7733001708984375, -6.8059000968933105, -6.818900108337402, -6.173900127410889, -6.917600154876709, -6.930500030517578, -6.001999855041504, -6.1178998947143555, -6.93179988861084, -6.932199954986572, -6.9704999923706055, -6.985000133514404, -6.197500228881836, -5.394999980926514, -5.362599849700928, -5.196899890899658, -5.404600143432617, -5.286499977111816, -3.838399887084961, -5.718100070953369, -5.363900184631348, -5.298799991607666, -5.3302998542785645, -5.651899814605713, -5.444699764251709, -5.950099945068359, -4.729800224304199, -5.19350004196167, -5.877500057220459, -5.833199977874756, -4.6996002197265625, -5.9096999168396, -4.156700134277344, -5.065199851989746, -5.846399784088135, -4.605299949645996, -5.519100189208984, -5.157700061798096, -5.513999938964844, -5.684199810028076, -5.0879998207092285, -5.1016998291015625, -5.1508002281188965, -5.5157999992370605, -5.662600040435791, -5.533899784088135, -5.570099830627441, -5.547900199890137, -5.603799819946289, -5.606200218200684, -5.790500164031982, -5.849800109863281, -6.195199966430664, -6.3831000328063965, -6.421599864959717, -6.460999965667725, -6.4720001220703125, -6.502099990844727, -6.556600093841553, -6.55679988861084, -6.557000160217285, -6.568399906158447, -6.6149001121521, -6.649899959564209, -6.713900089263916, -6.728000164031982, -6.728400230407715, -6.752799987792969, -6.7820000648498535, -5.638000011444092, -6.823500156402588, -6.838799953460693, -6.838900089263916, -6.916500091552734, -6.916600227355957, -6.981800079345703, -6.9822998046875, -6.982399940490723, -7.052299976348877, -6.255099773406982, -5.060200214385986, -5.21150016784668, -6.60230016708374, -5.470600128173828, -5.705100059509277, -5.375400066375732, -5.769000053405762, -5.876999855041504, -5.573299884796143, -5.848499774932861, -5.663899898529053, -5.761499881744385, -5.5345001220703125, -5.277599811553955, -5.218699932098389, -4.744100093841553, -5.933800220489502, -4.307799816131592, -6.159299850463867, -6.1290998458862305, -5.678500175476074, -5.007999897003174, -5.527200222015381, -4.738399982452393, -5.563000202178955, -5.412199974060059, -4.816699981689453, -5.690499782562256, -5.457399845123291, -5.580399990081787, -5.31279993057251, -5.317999839782715, -5.543900012969971, -5.385499954223633, -5.555500030517578, -5.6168999671936035, -5.884900093078613, -5.8993000984191895, -5.267899990081787, -6.156400203704834, -6.326700210571289, -6.411399841308594, -6.411499977111816, -6.423500061035156, -6.444699764251709, -6.517499923706055, -6.530300140380859, -6.567999839782715, -6.582799911499023, -5.401800155639648, -6.636000156402588, -6.636099815368652, -6.6367998123168945, -6.6940999031066895, -6.73829984664917, -6.754000186920166, -6.7540998458862305, -6.770899772644043, -6.771399974822998, -6.771299839019775, -6.771900177001953, -6.77239990234375, -6.836599826812744, -6.907400131225586, -6.92609977722168, -6.926700115203857, -6.3445000648498535, -6.4822001457214355, -6.09689998626709, -5.02239990234375, -5.390399932861328, -5.1184000968933105, -6.203199863433838, -5.904200077056885, -6.25540018081665, -6.368100166320801, -6.039700031280518, -6.0569000244140625, -5.219200134277344, -5.322999954223633, -5.752900123596191, -6.047500133514404, -4.650400161743164, -5.715199947357178, -6.067800045013428, -5.533299922943115, -5.160699844360352, -5.67110013961792, -5.207699775695801, -5.829999923706055, -5.602099895477295, -4.664400100708008, -5.518400192260742, -5.594600200653076, -5.16540002822876, -5.229100227355957, -5.110799789428711, -5.6717000007629395, -5.444399833679199, -5.9141998291015625, -5.360300064086914, -5.871799945831299, -5.654300212860107, -5.767899990081787, -5.770299911499023, -5.815899848937988, -5.829999923706055, -5.826300144195557, -5.387899875640869, -5.702700138092041, -5.933199882507324, -5.9791998863220215, -6.109300136566162, -6.164700031280518, -6.323299884796143, -6.323500156402588, -6.363399982452393, -6.434800148010254, -6.450500011444092, -6.4959001541137695, -6.512499809265137, -6.5131001472473145, -6.513199806213379, -6.495100021362305, -6.745200157165527, -6.745299816131592, -6.745299816131592, -6.7453999519348145, -6.74560022354126, -6.745699882507324, -6.7459001541137695, -6.746500015258789, -6.747700214385986, -6.747900009155273, -6.82919979095459, -6.831200122833252, -6.945700168609619, -6.946499824523926, -5.642899990081787, -5.448699951171875, -5.436800003051758, -6.166800022125244, -6.210599899291992, -6.258800029754639, -6.0569000244140625, -4.952199935913086, -6.026400089263916, -6.327600002288818, -5.357500076293945, -5.712299823760986, -5.8684000968933105, -5.937900066375732, -4.380099773406982, -5.8155999183654785, -5.530200004577637, -5.20959997177124, -5.3460001945495605, -5.019100189208984, -5.771299839019775, -5.11929988861084, -5.02370023727417, -6.060500144958496, -5.547999858856201, -5.559299945831299, -5.98360013961792, -5.83519983291626, -5.954500198364258, -5.896299839019775, -5.824399948120117, -5.857600212097168, -5.966899871826172, -5.97130012512207, -5.973199844360352, -5.70389986038208, -5.712399959564209, -5.73859977722168, -5.834700107574463, -5.8730998039245605, -5.970600128173828, -5.97130012512207, -6.0640997886657715, -6.318999767303467, -6.319300174713135, -6.3831000328063965, -6.454400062561035, -6.473499774932861, -6.529600143432617, -6.55079984664917, -6.551000118255615, -6.551300048828125, -6.551300048828125, -6.553100109100342, -6.553599834442139, -6.726099967956543, -6.726600170135498, -6.750999927520752, -6.751299858093262, -6.751500129699707, -6.751500129699707, -6.7515997886657715, -6.7519001960754395, -6.8267998695373535, -6.854499816894531, -4.382199764251709, -5.748000144958496, -6.101900100708008, -5.993599891662598, -6.004199981689453, -3.9488000869750977, -5.392499923706055, -6.17080020904541, -5.969799995422363, -6.317999839782715, -4.5167999267578125, -5.563000202178955, -4.358399868011475, -5.800099849700928, -5.773200035095215, -5.418700218200684, -4.548099994659424, -4.904200077056885, -5.7947001457214355, -5.7866997718811035, -5.838699817657471, -5.527900218963623, -5.2795000076293945, -5.8125, -5.297900199890137, -5.864999771118164, -5.754700183868408, -5.838900089263916, -5.854599952697754, -5.8242998123168945, -5.912199974060059, -5.8933000564575195, -6.00029993057251, -6.178599834442139, -6.224100112915039, -6.241300106048584, -6.241399765014648, -6.241600036621094, -6.3769001960754395, -6.377399921417236, -6.473999977111816, -6.474100112915039, -6.474699974060059, -6.557499885559082, -6.558000087738037, -6.558700084686279, -6.649199962615967, -6.6504998207092285, -6.6743998527526855, -6.777900218963623, -6.77810001373291, -6.778299808502197, -6.778800010681152, -6.78000020980835, -6.780300140380859, -6.780300140380859, -6.781700134277344, -6.781799793243408, -6.163000106811523, -6.095600128173828, -6.893199920654297, -6.246799945831299, -6.002200126647949, -6.376699924468994, -5.804800033569336, -6.452600002288818, -5.946499824523926, -6.395899772644043, -6.125199794769287, -6.395599842071533, -5.968999862670898, -6.298999786376953, -4.081999778747559, -5.9293999671936035, -5.913899898529053, -5.6107001304626465, -6.077499866485596, -6.203999996185303, -5.975399971008301, -5.846399784088135, -5.501200199127197, -5.529099941253662, -5.570700168609619, -5.572400093078613, -5.759300231933594, -5.506100177764893, -5.510799884796143, -5.553599834442139, -5.547800064086914, -5.877799987792969, -5.683300018310547, -5.622300148010254, -5.821899890899658, -5.756999969482422, -5.889999866485596, -5.968400001525879, -6.048600196838379, -6.059299945831299, -6.042799949645996]}, \"token.table\": {\"Topic\": [1, 2, 3, 4, 5, 6, 7, 5, 7, 5, 7, 5, 2, 4, 5, 4, 1, 3, 4, 5, 7, 3, 5, 5, 2, 2, 2, 7, 7, 2, 4, 5, 6, 3, 4, 6, 7, 1, 1, 2, 4, 5, 7, 2, 7, 5, 2, 2, 6, 7, 1, 3, 6, 1, 2, 2, 3, 4, 5, 1, 7, 2, 5, 6, 2, 2, 1, 5, 3, 6, 1, 1, 3, 4, 5, 7, 1, 3, 5, 6, 1, 7, 1, 2, 3, 4, 6, 1, 3, 5, 7, 6, 1, 2, 3, 4, 7, 7, 7, 2, 3, 4, 5, 6, 1, 2, 3, 6, 1, 4, 3, 7, 1, 1, 2, 3, 4, 5, 7, 2, 3, 4, 1, 2, 3, 6, 1, 2, 3, 1, 2, 3, 4, 5, 6, 7, 2, 3, 5, 3, 1, 7, 1, 2, 3, 4, 6, 1, 2, 3, 4, 5, 6, 7, 5, 7, 7, 1, 4, 5, 6, 5, 6, 1, 5, 3, 7, 1, 2, 3, 5, 7, 2, 3, 4, 7, 6, 1, 1, 4, 4, 6, 1, 2, 3, 4, 5, 6, 6, 1, 5, 3, 1, 1, 3, 4, 7, 1, 7, 6, 7, 2, 2, 1, 3, 5, 6, 4, 3, 1, 3, 4, 1, 4, 5, 1, 3, 4, 5, 6, 3, 1, 4, 6, 7, 4, 6, 2, 4, 6, 1, 2, 3, 7, 5, 5, 1, 6, 5, 6, 1, 2, 4, 5, 6, 7, 3, 6, 7, 1, 2, 3, 4, 7, 1, 1, 2, 3, 4, 5, 1, 4, 7, 2, 5, 6, 1, 2, 3, 4, 5, 7, 1, 2, 5, 5, 2, 6, 5, 6, 1, 3, 4, 4, 1, 2, 4, 5, 6, 7, 4, 2, 3, 2, 3, 4, 3, 1, 3, 4, 7, 1, 3, 4, 5, 1, 3, 4, 5, 6, 2, 3, 6, 3, 7, 6, 7, 1, 7, 1, 2, 3, 4, 5, 6, 7, 1, 1, 3, 4, 3, 1, 4, 5, 1, 3, 5, 6, 7, 1, 3, 5, 6, 7, 6, 2, 6, 2, 1, 2, 3, 4, 5, 6, 2, 4, 7, 1, 4, 5, 6, 1, 3, 5, 6, 1, 2, 3, 4, 4, 5, 5, 1, 2, 4, 5, 2, 3, 1, 2, 4, 5, 1, 1, 2, 3, 4, 2, 3, 6, 1, 3, 4, 5, 7, 5, 1, 2, 3, 4, 5, 6, 7, 5, 1, 2, 3, 4, 5, 7, 1, 4, 5, 2, 1, 2, 4, 5, 7, 2, 3, 5, 7, 3, 5, 3, 4, 6, 3, 2, 1, 2, 3, 6, 7, 1, 6, 7, 2, 6, 1, 3, 5, 6, 7, 6, 4, 1, 3, 4, 6, 4, 1, 2, 3, 4, 5, 2, 3, 6, 3, 7, 3, 3, 2, 3, 5, 1, 6, 1, 5, 6, 1, 2, 5, 1, 2, 3, 4, 5, 7, 4, 4, 5, 2, 1, 3, 5, 6, 6, 1, 7, 1, 2, 3, 4, 5, 6, 7, 3, 2, 6, 7, 1, 3, 4, 5, 7, 1, 3, 7, 1, 1, 6, 2, 4, 7, 1, 3, 4, 5, 6, 7, 4, 1, 2, 3, 4, 5, 6, 7, 1, 2, 3, 4, 5, 7, 1, 3, 4, 5, 6, 7, 1, 2, 3, 4, 5, 6, 7, 3, 4, 1, 2, 2, 3, 5, 2, 6, 7, 1, 3, 4, 5, 6, 1, 4, 1, 3, 4, 6, 3, 4, 7, 1, 2, 3, 5, 6, 2, 3, 6, 1, 4, 7, 1, 2, 3, 4, 6, 7, 1, 2, 4, 5, 2, 6, 1, 2, 4, 5, 5, 7, 3, 4, 7, 3, 1, 2, 3, 4, 5, 7, 2, 3, 4, 5, 6, 6, 1, 3, 2, 1, 2, 3, 4, 5, 7, 4, 1, 3, 4, 1, 2, 3, 4, 5, 7, 2, 1, 2, 3, 4, 5, 6, 7, 2, 4, 5, 6, 7, 7, 1, 5, 4, 2, 4, 5, 2, 1, 2, 3, 4, 5, 6, 7, 5, 1, 4, 6, 1, 2, 3, 4, 5, 7, 1, 2, 3, 4, 1, 3, 4, 5, 7, 6, 5, 1, 2, 3, 4, 7, 6, 1, 4, 5, 6, 1, 2, 4, 7, 7, 1, 2, 5, 6, 3, 3, 5, 2, 2, 1, 2, 3, 5, 6, 7, 1, 3, 4, 6, 1, 2, 3, 4, 5, 6, 7, 1, 2, 4, 3, 2, 1, 3, 6, 7, 1, 4, 7, 1, 2, 3, 4, 5, 6, 7, 1, 3, 4, 3, 4, 7, 6, 7, 7, 1, 2, 3, 4, 5, 1, 3, 5, 7, 2, 6, 1, 2, 3, 6, 7, 2, 3, 7, 1, 3, 6, 2, 3, 4, 7, 1, 2, 5, 6, 4, 2, 4, 3, 4, 1, 1, 3, 3, 7, 7, 3, 5, 7, 1, 2, 3, 4, 5, 6, 7, 1, 3, 2, 7, 1, 1, 4, 7, 1, 2, 3, 4, 7, 2, 3, 4, 6, 1, 2, 4, 5, 6, 7, 4, 1, 3, 4, 6, 1, 2, 3, 5, 6, 1, 2, 3, 4, 5, 6, 1, 3, 4, 5, 6, 1, 3, 4, 5, 7, 1, 3, 4, 5, 6, 5, 7, 5, 4, 7, 7, 3, 1, 3, 5, 7, 1, 4, 1, 4, 4, 3, 1, 5, 6, 7, 1, 2, 3, 4, 1, 2, 3, 4, 5, 6, 1, 4, 5, 7, 2, 6, 7, 1, 3, 4, 5, 2, 5, 4, 5, 1, 7, 4, 5, 6, 4, 1, 1, 2, 3, 5, 7, 2, 7, 2, 6, 1, 2, 3, 4, 5, 1, 2, 4, 6, 1, 2, 4, 2, 7, 5, 3], \"Freq\": [0.22441904246807098, 0.299225389957428, 0.074806347489357, 0.049870897084474564, 0.06649453192949295, 0.22441904246807098, 0.06649453192949295, 0.8261580467224121, 0.7875451445579529, 0.70840984582901, 0.23613661527633667, 0.9046177268028259, 0.7926861047744751, 0.15342311561107635, 0.025570519268512726, 0.8104429244995117, 0.34833788871765137, 0.23948229849338531, 0.02177111804485321, 0.1959400624036789, 0.1959400624036789, 0.9423022866249084, 0.915533721446991, 0.9184000492095947, 0.933948814868927, 0.9743139147758484, 0.9328470826148987, 0.05830294266343117, 0.8465695381164551, 0.08420228213071823, 0.16840456426143646, 0.589415967464447, 0.08420228213071823, 0.2985404133796692, 0.1492702066898346, 0.3482971489429474, 0.1990269422531128, 0.9465833902359009, 0.7751736640930176, 0.10002240538597107, 0.050011202692985535, 0.025005601346492767, 0.050011202692985535, 0.20160481333732605, 0.8064192533493042, 0.9191157817840576, 0.9060842990875244, 0.15269112586975098, 0.15269112586975098, 0.6107645034790039, 0.25377076864242554, 0.7190172076225281, 0.893500566482544, 0.20968320965766907, 0.7688384652137756, 0.12918251752853394, 0.613616943359375, 0.1937737762928009, 0.06459125876426697, 0.178471639752388, 0.713886559009552, 0.7034420967102051, 0.07816023379564285, 0.19540058076381683, 0.974234938621521, 0.9403710961341858, 0.5145625472068787, 0.45024222135543823, 0.29185083508491516, 0.5837016701698303, 0.9144509434700012, 0.3999784290790558, 0.19129402935504913, 0.13912293314933777, 0.260855495929718, 0.03478073328733444, 0.3997521698474884, 0.17766763269901276, 0.08883381634950638, 0.3109183609485626, 0.5208054780960083, 0.44640466570854187, 0.2419837862253189, 0.5646288394927979, 0.10754834860563278, 0.05377417430281639, 0.05377417430281639, 0.9588383436203003, 0.2532091438770294, 0.1266045719385147, 0.6330228447914124, 0.82936030626297, 0.7167482972145081, 0.1102689728140831, 0.027567243203520775, 0.08270172774791718, 0.027567243203520775, 0.7190321087837219, 0.8300207257270813, 0.4165659248828888, 0.0781061127781868, 0.182247593998909, 0.02603537030518055, 0.2863890826702118, 0.042824190109968185, 0.17129676043987274, 0.685187041759491, 0.08564838021993637, 0.874644935131073, 0.06728038191795349, 0.833848237991333, 0.9574257135391235, 0.9421234726905823, 0.26684027910232544, 0.28736644983291626, 0.14368322491645813, 0.24631409347057343, 0.061578523367643356, 0.7192756533622742, 0.6156514286994934, 0.2535035312175751, 0.12675176560878754, 0.976212203502655, 0.2761876583099365, 0.17261728644371033, 0.5408675074577332, 0.18893954157829285, 0.7827495336532593, 0.026991361752152443, 0.24780920147895813, 0.299979567527771, 0.18259625136852264, 0.09129812568426132, 0.11738330870866776, 0.013042589649558067, 0.05217035859823227, 0.9120174050331116, 0.07015518099069595, 0.9352270364761353, 0.9453439712524414, 0.8678663969039917, 0.9195724725723267, 0.4572385549545288, 0.25082799792289734, 0.17766983807086945, 0.10451166331768036, 0.01045116689056158, 0.2624887526035309, 0.28498777747154236, 0.18749196827411652, 0.17999228835105896, 0.02249903604388237, 0.04499807208776474, 0.02249903604388237, 0.31358611583709717, 0.6271722316741943, 0.9329627156257629, 0.0886790081858635, 0.177358016371727, 0.0886790081858635, 0.5320740342140198, 0.9686803221702576, 0.8432838320732117, 0.9795260429382324, 0.9184272885322571, 0.9359884858131409, 0.9194743633270264, 0.11300153285264969, 0.15066871047019958, 0.3390045762062073, 0.30133742094039917, 0.07533435523509979, 0.3341818153858185, 0.640515148639679, 0.1631247103214264, 0.8156235814094543, 0.9363039135932922, 0.8678959608078003, 0.9617510437965393, 0.9005904197692871, 0.9145305156707764, 0.9260860681533813, 0.3452130854129791, 0.18411365151405334, 0.046028412878513336, 0.3682273030281067, 0.046028412878513336, 0.023014206439256668, 0.716674268245697, 0.25513553619384766, 0.765406608581543, 0.914534866809845, 0.8679029941558838, 0.18141955137252808, 0.6652050614356995, 0.12094637006521225, 0.060473185032606125, 0.921963632106781, 0.06585454940795898, 0.9141650795936584, 0.9190137386322021, 0.8829103112220764, 0.9440392255783081, 0.119020015001297, 0.238040030002594, 0.476080060005188, 0.119020015001297, 0.8238773345947266, 0.9329489469528198, 0.09760018438100815, 0.683201253414154, 0.1952003687620163, 0.7716075778007507, 0.04822547361254692, 0.14467641711235046, 0.3438037931919098, 0.15867868065834045, 0.23801802098751068, 0.05289289355278015, 0.18512512743473053, 0.9330124258995056, 0.258334755897522, 0.6135450601577759, 0.03229184448719025, 0.0645836889743805, 0.8748210668563843, 0.8433530330657959, 0.18134558200836182, 0.7253823280334473, 0.09067279100418091, 0.7561212778091431, 0.08895544707775116, 0.08895544707775116, 0.04447772353887558, 0.9407164454460144, 0.9412747025489807, 0.2438696324825287, 0.7316088676452637, 0.9185312390327454, 0.9151090979576111, 0.04246968403458595, 0.7219846248626709, 0.04246968403458595, 0.12740905582904816, 0.04246968403458595, 0.8843329548835754, 0.8227349519729614, 0.8434461355209351, 0.719013512134552, 0.42358967661857605, 0.08763924241065979, 0.27752429246902466, 0.07303270697593689, 0.13145886361598969, 0.9665531516075134, 0.526904821395874, 0.1916017383337021, 0.11975108832120895, 0.14370131492614746, 0.7385993003845215, 0.40330982208251953, 0.13443660736083984, 0.40330982208251953, 0.9502570033073425, 0.025006763637065887, 0.025006763637065887, 0.2574995160102844, 0.2574995160102844, 0.10299980640411377, 0.20599961280822754, 0.08583316951990128, 0.08583316951990128, 0.3205961585044861, 0.5770730972290039, 0.09617884457111359, 0.9278807044029236, 0.8958137631416321, 0.866732656955719, 0.9183586239814758, 0.8953184485435486, 0.45662474632263184, 0.28297871351242065, 0.25725337862968445, 0.9029200077056885, 0.06475350260734558, 0.06475350260734558, 0.06475350260734558, 0.48565125465393066, 0.09713025391101837, 0.22663725912570953, 0.8236874938011169, 0.8964698910713196, 0.9327349662780762, 0.8960573673248291, 0.9719904661178589, 0.887138307094574, 0.9035167098045349, 0.44156593084335327, 0.30909615755081177, 0.17662636935710907, 0.05887545645236969, 0.21326562762260437, 0.6042526364326477, 0.17772136628627777, 0.7390632033348083, 0.19988441467285156, 0.639630138874054, 0.1599075347185135, 0.92142254114151, 0.7160564661026001, 0.46974843740463257, 0.05871855467557907, 0.4110298752784729, 0.24689039587974548, 0.7406712174415588, 0.8433365225791931, 0.7704544067382812, 0.9590733647346497, 0.9188555479049683, 0.23879367113113403, 0.2615359127521515, 0.20468027889728546, 0.11371126770973206, 0.07959789037704468, 0.034113381057977676, 0.06822676211595535, 0.9591093063354492, 0.3240561783313751, 0.14402496814727783, 0.5040873885154724, 0.8943647742271423, 0.11010900884866714, 0.3853815197944641, 0.49549052119255066, 0.16585767269134521, 0.11057178676128387, 0.2764294743537903, 0.4422871470451355, 0.05528589338064194, 0.1550629734992981, 0.10337530821561813, 0.6719395518302917, 0.7994155287742615, 0.19985388219356537, 0.7162256240844727, 0.9439464807510376, 0.8950197100639343, 0.9334462285041809, 0.27268943190574646, 0.381765216588974, 0.0763530433177948, 0.16361366212368011, 0.021815156564116478, 0.0763530433177948, 0.3999541401863098, 0.28568151593208313, 0.28568151593208313, 0.4385434687137604, 0.2850532531738281, 0.1973445564508438, 0.08770868927240372, 0.18361635506153107, 0.6426572203636169, 0.1377122700214386, 0.8263742923736572, 0.914961576461792, 0.8847787976264954, 0.05898525193333626, 0.8728970885276794, 0.8412798047065735, 0.8964947462081909, 0.9415515065193176, 0.12497030943632126, 0.8747921586036682, 0.9752213954925537, 0.9570627808570862, 0.12156227231025696, 0.8509359359741211, 0.14784355461597443, 0.6652960181236267, 0.14784355461597443, 0.03696088865399361, 0.8772838115692139, 0.0821678638458252, 0.1643357276916504, 0.1643357276916504, 0.5340911149978638, 0.1396646946668625, 0.5121038556098938, 0.32588428258895874, 0.1624802052974701, 0.4062005281448364, 0.3046503961086273, 0.04062005132436752, 0.08124010264873505, 0.9186152219772339, 0.18167513608932495, 0.2702971398830414, 0.19496843218803406, 0.11520862579345703, 0.08862201869487762, 0.11520862579345703, 0.03544880822300911, 0.9569535851478577, 0.4158153235912323, 0.4054199457168579, 0.09355845302343369, 0.010395383462309837, 0.05197691544890404, 0.020790766924619675, 0.042756807059049606, 0.9406498074531555, 0.812495231628418, 0.9495770335197449, 0.1972813904285431, 0.1972813904285431, 0.06576046347618103, 0.13152092695236206, 0.3945627808570862, 0.2687910497188568, 0.2687910497188568, 0.3839872181415558, 0.07679744064807892, 0.24772149324417114, 0.7431644797325134, 0.11391736567020416, 0.6835042238235474, 0.17087605595588684, 0.8939495086669922, 0.9283440709114075, 0.3855758309364319, 0.04448952153325081, 0.4004056751728058, 0.04448952153325081, 0.13346856832504272, 0.6586893200874329, 0.17333929240703583, 0.13867144286632538, 0.22774478793144226, 0.7591493129730225, 0.4345013201236725, 0.10345269739627838, 0.10345269739627838, 0.16552431881427765, 0.1862148493528366, 0.9067931175231934, 0.9007948637008667, 0.8834913372993469, 0.10094084590673447, 0.5047042369842529, 0.35329294204711914, 0.9673680067062378, 0.37168246507644653, 0.339362233877182, 0.06464042514562607, 0.16160106658935547, 0.0484803207218647, 0.7759356498718262, 0.1454879343509674, 0.048495978116989136, 0.7931645512580872, 0.9199422001838684, 0.8831207156181335, 0.9235758781433105, 0.19384536147117615, 0.7476892471313477, 0.027692193165421486, 0.9236197471618652, 0.08396542817354202, 0.2787915766239166, 0.6505136489868164, 0.9382642507553101, 0.11404665559530258, 0.11404665559530258, 0.7983266115188599, 0.3159804344177246, 0.17235295474529266, 0.22980394959449768, 0.08617647737264633, 0.10053922981023788, 0.10053922981023788, 0.862865149974823, 0.9596272110939026, 0.9415884613990784, 0.8852431178092957, 0.7138808369636536, 0.18786337971687317, 0.07514535635709763, 0.7161123752593994, 0.8807542324066162, 0.45656853914260864, 0.5707107186317444, 0.17328773438930511, 0.13477934896945953, 0.13477934896945953, 0.442846417427063, 0.03850838541984558, 0.03850838541984558, 0.03850838541984558, 0.8808963298797607, 0.15915033221244812, 0.5835512280464172, 0.21220044791698456, 0.09601066261529922, 0.1680186539888382, 0.40804529190063477, 0.12001332640647888, 0.2160239815711975, 0.14311754703521729, 0.7632935643196106, 0.09541169553995132, 0.8880054950714111, 0.2542955279350281, 0.6357387900352478, 0.31251123547554016, 0.6250224709510803, 0.06250225007534027, 0.19454723596572876, 0.05836417153477669, 0.17509251832962036, 0.4280039370059967, 0.03890944644808769, 0.11672834306955338, 0.914655327796936, 0.14164812862873077, 0.07082406431436539, 0.33641427755355835, 0.30100226402282715, 0.08853007853031158, 0.035412032157182693, 0.017706016078591347, 0.2938186824321747, 0.3264651894569397, 0.06529304385185242, 0.03264652192592621, 0.26117217540740967, 0.7876473665237427, 0.5134931802749634, 0.16505137085914612, 0.23840753734111786, 0.03667808324098587, 0.03667808324098587, 0.018339041620492935, 0.2543809413909912, 0.1271904706954956, 0.27027976512908936, 0.14308927953243256, 0.15103869140148163, 0.007949404418468475, 0.05564583092927933, 0.11119543761014938, 0.7783680558204651, 0.7059925198554993, 0.2647472023963928, 0.8081666827201843, 0.08081667125225067, 0.08081667125225067, 0.12407186627388, 0.74443119764328, 0.8295992612838745, 0.27492162585258484, 0.11782355606555939, 0.4320197105407715, 0.15709806978702545, 0.7164389491081238, 0.26747891306877136, 0.6686972379684448, 0.3711559772491455, 0.3266172707080841, 0.19300110638141632, 0.0890774354338646, 0.8940369486808777, 0.8860443234443665, 0.09326782077550888, 0.4319448173046112, 0.2005458027124405, 0.2005458027124405, 0.09255959838628769, 0.07713299989700317, 0.8364564180374146, 0.14936721324920654, 0.02987344190478325, 0.2657977044582367, 0.2657977044582367, 0.44299617409706116, 0.4754464626312256, 0.022640308365225792, 0.17357568442821503, 0.17357568442821503, 0.09056123346090317, 0.06792092323303223, 0.15093198418617249, 0.188664972782135, 0.45279592275619507, 0.15093198418617249, 0.8257874846458435, 0.14572720229625702, 0.2316349446773529, 0.18530794978141785, 0.18530794978141785, 0.3706158995628357, 0.18490970134735107, 0.7396388053894043, 0.8116246461868286, 0.8871734142303467, 0.669497549533844, 0.902579665184021, 0.4077102541923523, 0.44768187403678894, 0.05596023425459862, 0.039971593767404556, 0.031977277249097824, 0.023982957005500793, 0.7045348882675171, 0.04144322872161865, 0.0828864574432373, 0.0828864574432373, 0.0828864574432373, 0.8431507349014282, 0.8095833659172058, 0.1868269294500351, 0.9244794845581055, 0.5481472015380859, 0.16682739555835724, 0.07149745523929596, 0.1191624328494072, 0.07149745523929596, 0.04766497388482094, 0.9147061109542847, 0.8724609017372131, 0.08309151232242584, 0.9623559713363647, 0.20520615577697754, 0.366439551115036, 0.13191823661327362, 0.1758909821510315, 0.08794549107551575, 0.0293151643127203, 0.8614250421524048, 0.3451020419597626, 0.10618524253368378, 0.10618524253368378, 0.06636577844619751, 0.22564364969730377, 0.039819467812776566, 0.1194583997130394, 0.11303357779979706, 0.6329880356788635, 0.13564029335975647, 0.09042686223983765, 0.02260671555995941, 0.787524938583374, 0.8679189085960388, 0.8919388651847839, 0.9593149423599243, 0.1902446150779724, 0.6341487169265747, 0.12682974338531494, 0.8613930940628052, 0.2575324773788452, 0.28614720702171326, 0.05722944065928459, 0.05722944065928459, 0.11445888131856918, 0.20030303299427032, 0.05722944065928459, 0.918921172618866, 0.7169994711875916, 0.11949991434812546, 0.14937488734722137, 0.17135310173034668, 0.2284708023071289, 0.17135310173034668, 0.26274141669273376, 0.13708248734474182, 0.034270621836185455, 0.043005622923374176, 0.40855342149734497, 0.08601124584674835, 0.45155903697013855, 0.2962763011455536, 0.40208926796913147, 0.06348777562379837, 0.04232518747448921, 0.1904633343219757, 0.9422497749328613, 0.9192626476287842, 0.0627192035317421, 0.5226600170135498, 0.1254384070634842, 0.2508768141269684, 0.0627192035317421, 0.8664875030517578, 0.13543570041656494, 0.6771785020828247, 0.06771785020828247, 0.13543570041656494, 0.1907155066728592, 0.7356169819831848, 0.05449014529585838, 0.02724507264792919, 0.9194262027740479, 0.18905144929885864, 0.7325743436813354, 0.04726286232471466, 0.02363143116235733, 0.8808497786521912, 0.8939303159713745, 0.09932558983564377, 0.8963940739631653, 0.9446890950202942, 0.3132481276988983, 0.28268733620643616, 0.1910049468278885, 0.04584118723869324, 0.1375235617160797, 0.02292059361934662, 0.26992547512054443, 0.13496273756027222, 0.5623447299003601, 0.7845777273178101, 0.5089396238327026, 0.061689648777246475, 0.30844825506210327, 0.030844824388623238, 0.030844824388623238, 0.04626723751425743, 0.015422412194311619, 0.159049853682518, 0.079524926841259, 0.7952492833137512, 0.9144665598869324, 0.9473385214805603, 0.4303530156612396, 0.22952160239219666, 0.1434510052204132, 0.1721412092447281, 0.8768806457519531, 0.2820207178592682, 0.6580483913421631, 0.17127588391304016, 0.13702070713043213, 0.19411267340183258, 0.27404141426086426, 0.13702070713043213, 0.045673567801713943, 0.03425517678260803, 0.08549141883850098, 0.8549141883850098, 0.9001690149307251, 0.9351036548614502, 0.7370171546936035, 0.21057632565498352, 0.784471333026886, 0.9187689423561096, 0.9200125932693481, 0.2963331639766693, 0.11853326857089996, 0.11853326857089996, 0.44449976086616516, 0.02963331714272499, 0.2676806151866913, 0.5799746513366699, 0.13384030759334564, 0.7702943086624146, 0.1406426578760147, 0.7032133340835571, 0.13368310034275055, 0.23394542932510376, 0.20052464306354523, 0.1671038717031479, 0.2673662006855011, 0.19275908172130585, 0.28913864493370056, 0.5782772898674011, 0.24365416169166565, 0.6822316646575928, 0.04873083159327507, 0.23194889724254608, 0.18555910885334015, 0.32472845911979675, 0.23194889724254608, 0.04096199944615364, 0.573468029499054, 0.04096199944615364, 0.286734014749527, 0.9305601119995117, 0.8567705154418945, 0.11817523837089539, 0.8712441325187683, 0.9592797160148621, 0.8952398896217346, 0.9116356372833252, 0.8942047953605652, 0.8226867914199829, 0.8702247142791748, 0.776202380657196, 0.3338647484779358, 0.4292546808719635, 0.19077986478805542, 0.27402639389038086, 0.06654926389455795, 0.160501167178154, 0.07829325646162033, 0.15267184376716614, 0.12135455012321472, 0.1487571895122528, 0.9308350086212158, 0.05817718803882599, 0.19088704884052277, 0.7635481953620911, 0.9187396764755249, 0.738481879234314, 0.164107084274292, 0.082053542137146, 0.28576916456222534, 0.25401702523231506, 0.03175212815403938, 0.3810255527496338, 0.03175212815403938, 0.12833885848522186, 0.7058637738227844, 0.06416942924261093, 0.12833885848522186, 0.1948571503162384, 0.4384285807609558, 0.0243571437895298, 0.1948571503162384, 0.0730714276432991, 0.0730714276432991, 0.9004049301147461, 0.30604100227355957, 0.16322186589241028, 0.32644373178482056, 0.20402732491493225, 0.18328462541103363, 0.18328462541103363, 0.4765399992465973, 0.09164231270551682, 0.07331384718418121, 0.17463727295398712, 0.45842283964157104, 0.17463727295398712, 0.1091483011841774, 0.04365931823849678, 0.8433220386505127, 0.3757316768169403, 0.4258292317390442, 0.05009755492210388, 0.15029266476631165, 0.02504877746105194, 0.2756454050540924, 0.5512908101081848, 0.05512908473610878, 0.08269362151622772, 0.02756454236805439, 0.15204116702079773, 0.30408233404159546, 0.15204116702079773, 0.050680387765169144, 0.3547627031803131, 0.8798564672470093, 0.8841383457183838, 0.9185155630111694, 0.9246036410331726, 0.7706628441810608, 0.918717622756958, 0.8940883278846741, 0.10803072899580002, 0.4591306149959564, 0.32409220933914185, 0.08102305233478546, 0.9740446209907532, 0.94277423620224, 0.17383962869644165, 0.782278299331665, 0.9003567695617676, 0.9384639859199524, 0.43197667598724365, 0.07854121178388596, 0.3534354567527771, 0.11781182140111923, 0.1730450838804245, 0.692180335521698, 0.07341306656599045, 0.06292548030614853, 0.3506639003753662, 0.2003793716430664, 0.08349139988422394, 0.09184054285287857, 0.16698279976844788, 0.1001896858215332, 0.9149219393730164, 0.15948602557182312, 0.5316200852394104, 0.2658100426197052, 0.8963112235069275, 0.17503446340560913, 0.7001378536224365, 0.05441391095519066, 0.05441391095519066, 0.10882782191038132, 0.7073808312416077, 0.9062762260437012, 0.9184551239013672, 0.2034304440021515, 0.7459116578102112, 0.895636796951294, 0.08956368267536163, 0.7573916912078857, 0.12623195350170135, 0.716183066368103, 0.9531607627868652, 0.9043405055999756, 0.048264361917972565, 0.3861148953437805, 0.1447930932044983, 0.09652872383594513, 0.2895861864089966, 0.8503058552742004, 0.07085882127285004, 0.9171629548072815, 0.8265160918235779, 0.3098485767841339, 0.4841383993625641, 0.13555875420570374, 0.01936553604900837, 0.03873107209801674, 0.14528699219226837, 0.7264349460601807, 0.04842899739742279, 0.04842899739742279, 0.9590986371040344, 0.9272165894508362, 0.06622975319623947, 0.15196920931339264, 0.759846031665802, 0.8127553462982178, 0.9401307702064514], \"Term\": [\"...\", \"...\", \"...\", \"...\", \"...\", \"...\", \"...\", \"11\", \"120\", \"19\", \"19\", \"1o\", \"1type12\", \"1type12\", \"1type12\", \"20182019\", \"2019\", \"2019\", \"2019\", \"2019\", \"2019\", \"23\", \"832\", \"abaix\", \"abandon\", \"abenco\", \"abrac\", \"abrac\", \"abrah\", \"abrahamweint\", \"abrahamweint\", \"abrahamweint\", \"abrahamweint\", \"acab\", \"acab\", \"acab\", \"acab\", \"acim\", \"acord\", \"acord\", \"acord\", \"acord\", \"acord\", \"adesa\", \"adesa\", \"administraca\", \"advocaciageral\", \"aeronav\", \"aeronav\", \"aeronav\", \"aeroport\", \"aeroport\", \"agent\", \"agradec\", \"agradec\", \"alem\", \"alem\", \"alem\", \"alem\", \"alfabetizaca\", \"alfabetizaca\", \"alguns\", \"alguns\", \"alguns\", \"amad\", \"ameac\", \"amer\", \"amer\", \"analis\", \"analis\", \"andament\", \"ano\", \"ano\", \"ano\", \"ano\", \"ano\", \"anunc\", \"anunc\", \"anunc\", \"anunc\", \"aplic\", \"aplic\", \"apoi\", \"apoi\", \"apoi\", \"apoi\", \"apoi\", \"aposentador\", \"aproxim\", \"aproxim\", \"aproxim\", \"ar\", \"are\", \"are\", \"are\", \"are\", \"are\", \"artig\", \"assinatur\", \"assist\", \"assist\", \"assist\", \"assist\", \"assist\", \"assunt\", \"assunt\", \"assunt\", \"assunt\", \"astropont\", \"astropont\", \"atra\", \"barragens\", \"bel\", \"bem\", \"bem\", \"bem\", \"bem\", \"bem\", \"bilateral\", \"boa\", \"boa\", \"boa\", \"bols\", \"bolsonar\", \"bolsonar\", \"bolsonar\", \"bom\", \"bom\", \"bom\", \"br\", \"br\", \"br\", \"br\", \"br\", \"br\", \"br\", \"br1\", \"br1\", \"br163\", \"br1type12\", \"br1type12pointrighttype12pointrighttype12\", \"br364\", \"brasil\", \"brasil\", \"brasil\", \"brasil\", \"brasil\", \"brasileir\", \"brasileir\", \"brasileir\", \"brasileir\", \"brasileir\", \"brasileir\", \"brasileir\", \"brazil\", \"brazil\", \"brpointuptype12pointrighttype12pointrighttype12\", \"brumadinh\", \"brumadinh\", \"brumadinh\", \"brumadinh\", \"brumadinhomg\", \"cacau\", \"cadastr\", \"caminha\", \"capita\", \"captaca\", \"carg\", \"carg\", \"carg\", \"carg\", \"carg\", \"carlosbolsonar\", \"carlosbolsonar\", \"ce\", \"ce\", \"cerimon\", \"chuv\", \"cienc\", \"cofr\", \"colomb\", \"comand\", \"combat\", \"combat\", \"combat\", \"combat\", \"combat\", \"combat\", \"combustivel\", \"compar\", \"compar\", \"competit\", \"comprov\", \"concesso\", \"concesso\", \"concesso\", \"concesso\", \"conclu\", \"conclu\", \"concluso\", \"conect\", \"confort\", \"consideraca\", \"construca\", \"construca\", \"construca\", \"construca\", \"coorden\", \"coordenaca\", \"cresc\", \"cresc\", \"cresc\", \"cresciment\", \"cresciment\", \"cresciment\", \"cri\", \"cri\", \"cri\", \"cri\", \"cri\", \"criaca\", \"crim\", \"crim\", \"crim\", \"crim\", \"cruzeir\", \"curricul\", \"da\", \"da\", \"da\", \"dad\", \"dad\", \"dad\", \"dad\", \"dav\", \"debat\", \"dec\", \"dec\", \"defesagovbr\", \"del\", \"democrac\", \"democrac\", \"democrac\", \"democrac\", \"democrac\", \"deriv\", \"desarm\", \"desastr\", \"desculp\", \"desenvolv\", \"desenvolv\", \"desenvolv\", \"desenvolv\", \"desenvolv\", \"dessalinizaca\", \"dest\", \"dest\", \"dest\", \"dest\", \"desvi\", \"determin\", \"determin\", \"determin\", \"deus\", \"deus\", \"deus\", \"dev\", \"dev\", \"dev\", \"dev\", \"dev\", \"dev\", \"dia\", \"dia\", \"dia\", \"diesel\", \"dificil\", \"dificuldad\", \"dilm\", \"dr\", \"econom\", \"econom\", \"econom\", \"economiz\", \"educaca\", \"educaca\", \"educaca\", \"educaca\", \"educaca\", \"educaca\", \"efet\", \"eficient\", \"eleica\", \"eleit\", \"embaix\", \"emend\", \"empreendedor\", \"empreg\", \"empreg\", \"empreg\", \"empreg\", \"empres\", \"empres\", \"empres\", \"enem\", \"energ\", \"energ\", \"energ\", \"engenh\", \"engenheir\", \"entrev\", \"entrev\", \"entrev\", \"es\", \"es\", \"escrit\", \"esforc\", \"especif\", \"esport\", \"estad\", \"estad\", \"estad\", \"estad\", \"estad\", \"estad\", \"estad\", \"estat\", \"estud\", \"estud\", \"estud\", \"evoluca\", \"execut\", \"execut\", \"execut\", \"exercit\", \"exercit\", \"exercit\", \"exercit\", \"exercit\", \"exercitooficial\", \"exercitooficial\", \"exercitooficial\", \"exportaco\", \"exportaco\", \"expressa\", \"facebook\", \"facil\", \"far\", \"faz\", \"faz\", \"faz\", \"faz\", \"faz\", \"faz\", \"feder\", \"feder\", \"feder\", \"federal\", \"federal\", \"federal\", \"federal\", \"ferrov\", \"ferrov\", \"ferrov\", \"fest\", \"fevereir\", \"filh\", \"filh\", \"fiscaliz\", \"fiscalizaca\", \"font\", \"formaca\", \"fort\", \"fort\", \"forum\", \"funco\", \"fund\", \"fund\", \"futur\", \"futur\", \"futur\", \"futur\", \"gabinet\", \"ganh\", \"ganh\", \"ganh\", \"ganh\", \"general\", \"general\", \"general\", \"ger\", \"ger\", \"ger\", \"ger\", \"ger\", \"gost\", \"govern\", \"govern\", \"govern\", \"govern\", \"govern\", \"govern\", \"govern\", \"gra\", \"grand\", \"grand\", \"grand\", \"grand\", \"grand\", \"grand\", \"gued\", \"gued\", \"handshak\", \"homenag\", \"hor\", \"hor\", \"hor\", \"hor\", \"hor\", \"imprens\", \"imprens\", \"imprens\", \"imprens\", \"informaca\", \"informaca\", \"informaco\", \"informaco\", \"informaco\", \"inicial\", \"inimig\", \"invest\", \"invest\", \"invest\", \"invest\", \"invest\", \"israel\", \"israel\", \"israel\", \"jair\", \"jair\", \"jairbolsonar\", \"jairbolsonar\", \"jairbolsonar\", \"jairbolsonar\", \"jairbolsonar\", \"jam\", \"jant\", \"jorgeseif\", \"jornal\", \"jornal\", \"jornal\", \"jovens\", \"junt\", \"junt\", \"junt\", \"junt\", \"junt\", \"lad\", \"lad\", \"lad\", \"lav\", \"legislaca\", \"leis\", \"link\", \"liv\", \"liv\", \"liv\", \"local\", \"local\", \"logist\", \"logist\", \"luiz\", \"lul\", \"lul\", \"lul\", \"maior\", \"maior\", \"maior\", \"maior\", \"maior\", \"maior\", \"mandat\", \"manipul\", \"manobr\", \"maranha\", \"marc\", \"marc\", \"marc\", \"matteosalvinim\", \"maxim\", \"meccomunicaca\", \"meccomunicaca\", \"med\", \"med\", \"med\", \"med\", \"med\", \"med\", \"med\", \"medi\", \"medic\", \"medic\", \"medic\", \"men\", \"men\", \"men\", \"men\", \"men\", \"merc\", \"merc\", \"merc\", \"mercosul\", \"mg\", \"mg\", \"mid\", \"mid\", \"mid\", \"mil\", \"mil\", \"mil\", \"mil\", \"mil\", \"mil\", \"milh\", \"milho\", \"milho\", \"milho\", \"milho\", \"milho\", \"milho\", \"milho\", \"milit\", \"milit\", \"milit\", \"milit\", \"milit\", \"mim\", \"ministeri\", \"ministeri\", \"ministeri\", \"ministeri\", \"ministeri\", \"ministeri\", \"ministr\", \"ministr\", \"ministr\", \"ministr\", \"ministr\", \"ministr\", \"ministr\", \"minsaud\", \"minsaud\", \"missa\", \"missa\", \"moment\", \"moment\", \"moment\", \"motiv\", \"motiv\", \"mov\", \"mp\", \"mp\", \"mp\", \"mp\", \"mr\", \"mudanc\", \"mudanc\", \"nacional\", \"nacional\", \"nacional\", \"nacional\", \"naco\", \"necess\", \"necess\", \"nest\", \"nest\", \"nest\", \"nest\", \"nest\", \"noit\", \"noit\", \"noit\", \"nort\", \"nort\", \"nort\", \"nov\", \"nov\", \"nov\", \"nov\", \"nov\", \"nov\", \"objet\", \"objet\", \"objet\", \"objet\", \"obrig\", \"obrig\", \"ocorr\", \"ocorr\", \"ocorr\", \"ocorr\", \"odiodob\", \"odiodob\", \"ofert\", \"ongs\", \"pacient\", \"pacot\", \"pais\", \"pais\", \"pais\", \"pais\", \"pais\", \"pais\", \"palavr\", \"palavr\", \"palavr\", \"palavr\", \"palavr\", \"pan\", \"par\", \"par\", \"para\", \"parabens\", \"parabens\", \"parabens\", \"parabens\", \"parabens\", \"parabens\", \"paragua\", \"parc\", \"parc\", \"parlament\", \"part\", \"part\", \"part\", \"part\", \"part\", \"part\", \"participaca\", \"pass\", \"pass\", \"pass\", \"pass\", \"pass\", \"pass\", \"pass\", \"paul\", \"paul\", \"paul\", \"paul\", \"paul\", \"pen\", \"penal\", \"percorr\", \"pergunt\", \"permit\", \"permit\", \"permit\", \"pescador\", \"pesso\", \"pesso\", \"pesso\", \"pesso\", \"pesso\", \"pesso\", \"pesso\", \"pil\", \"planalt\", \"planalt\", \"planalt\", \"pod\", \"pod\", \"pod\", \"pod\", \"pod\", \"pod\", \"populaca\", \"populaca\", \"populaca\", \"populaca\", \"port\", \"port\", \"port\", \"port\", \"port\", \"portavoz\", \"portuari\", \"poss\", \"poss\", \"poss\", \"poss\", \"poss\", \"possiv\", \"possivel\", \"possivel\", \"possivel\", \"possivel\", \"pouc\", \"pouc\", \"pouc\", \"pouc\", \"poup\", \"pov\", \"pov\", \"pov\", \"pov\", \"ppinvest\", \"prec\", \"prec\", \"preocupaca\", \"presidencial\", \"president\", \"president\", \"president\", \"president\", \"president\", \"president\", \"previdenc\", \"previdenc\", \"previdenc\", \"prez\", \"primeir\", \"primeir\", \"primeir\", \"primeir\", \"primeir\", \"primeir\", \"primeir\", \"problem\", \"problem\", \"problem\", \"procur\", \"profund\", \"program\", \"program\", \"program\", \"program\", \"proposital\", \"prox\", \"prox\", \"public\", \"public\", \"public\", \"public\", \"public\", \"public\", \"public\", \"qualidad\", \"qualidad\", \"quartafeir\", \"quintafeir\", \"rap\", \"rap\", \"rapid\", \"rar\", \"recent\", \"recurs\", \"recurs\", \"recurs\", \"recurs\", \"recurs\", \"reduz\", \"reduz\", \"reduz\", \"referenc\", \"reg\", \"reg\", \"regia\", \"regia\", \"regia\", \"regia\", \"regia\", \"regional\", \"regional\", \"regional\", \"relaco\", \"relaco\", \"relaco\", \"represent\", \"represent\", \"represent\", \"represent\", \"republ\", \"republ\", \"republ\", \"republ\", \"resolv\", \"respeit\", \"respeit\", \"responsav\", \"respost\", \"retom\", \"reunio\", \"revel\", \"revisa\", \"revist\", \"ro\", \"rodov\", \"rodov\", \"rodov\", \"rt\", \"rt\", \"rt\", \"rt\", \"rt\", \"rt\", \"rt\", \"rum\", \"rum\", \"rur\", \"rur\", \"safr\", \"saib\", \"saib\", \"saib\", \"saud\", \"saud\", \"saud\", \"saud\", \"saud\", \"secret\", \"secret\", \"secret\", \"secret\", \"segu\", \"segu\", \"segu\", \"segu\", \"segu\", \"segu\", \"segur\", \"seguranc\", \"seguranc\", \"seguranc\", \"seguranc\", \"seman\", \"seman\", \"seman\", \"seman\", \"seman\", \"sempr\", \"sempr\", \"sempr\", \"sempr\", \"sempr\", \"sensoinc\", \"servic\", \"servic\", \"servic\", \"servic\", \"servic\", \"setor\", \"setor\", \"setor\", \"setor\", \"setor\", \"sfmor\", \"sfmor\", \"sfmor\", \"sfmor\", \"sfmor\", \"sid\", \"simul\", \"sud\", \"suic\", \"superior\", \"suprem\", \"suspend\", \"tarcisiogdf\", \"tarcisiogdf\", \"tarcisiogdf\", \"tarcisiogdf\", \"tecnolog\", \"tempor\", \"tentat\", \"tentat\", \"tercafeir\", \"tip\", \"tir\", \"tir\", \"tir\", \"tir\", \"tod\", \"tod\", \"tod\", \"tod\", \"trabalh\", \"trabalh\", \"trabalh\", \"trabalh\", \"trabalh\", \"trabalh\", \"trafeg\", \"transport\", \"transport\", \"transport\", \"trar\", \"tratament\", \"tratament\", \"trech\", \"trech\", \"trech\", \"trech\", \"tvnbr\", \"unasul\", \"unidad\", \"unidad\", \"us\", \"us\", \"usad\", \"usad\", \"utiliz\", \"utilizaca\", \"vao\", \"venezuel\", \"venezuel\", \"venezuel\", \"venezuel\", \"venezuel\", \"venezuelan\", \"venezuelan\", \"ver\", \"vergonh\", \"vez\", \"vez\", \"vez\", \"vez\", \"vez\", \"vid\", \"vid\", \"vid\", \"vid\", \"violent\", \"vitim\", \"vitim\", \"voos\", \"voos\", \"wef\", \"youtub\"]}, \"R\": 30, \"lambda.step\": 0.01, \"plot.opts\": {\"xlab\": \"PC1\", \"ylab\": \"PC2\"}, \"topic.order\": [7, 6, 2, 4, 5, 3, 1]};\n",
       "\n",
       "function LDAvis_load_lib(url, callback){\n",
       "  var s = document.createElement('script');\n",
       "  s.src = url;\n",
       "  s.async = true;\n",
       "  s.onreadystatechange = s.onload = callback;\n",
       "  s.onerror = function(){console.warn(\"failed to load library \" + url);};\n",
       "  document.getElementsByTagName(\"head\")[0].appendChild(s);\n",
       "}\n",
       "\n",
       "if(typeof(LDAvis) !== \"undefined\"){\n",
       "   // already loaded: just create the visualization\n",
       "   !function(LDAvis){\n",
       "       new LDAvis(\"#\" + \"ldavis_el4515847942656723926669391\", ldavis_el4515847942656723926669391_data);\n",
       "   }(LDAvis);\n",
       "}else if(typeof define === \"function\" && define.amd){\n",
       "   // require.js is available: use it to load d3/LDAvis\n",
       "   require.config({paths: {d3: \"https://cdnjs.cloudflare.com/ajax/libs/d3/3.5.5/d3.min\"}});\n",
       "   require([\"d3\"], function(d3){\n",
       "      window.d3 = d3;\n",
       "      LDAvis_load_lib(\"https://cdn.rawgit.com/bmabey/pyLDAvis/files/ldavis.v1.0.0.js\", function(){\n",
       "        new LDAvis(\"#\" + \"ldavis_el4515847942656723926669391\", ldavis_el4515847942656723926669391_data);\n",
       "      });\n",
       "    });\n",
       "}else{\n",
       "    // require.js not available: dynamically load d3 & LDAvis\n",
       "    LDAvis_load_lib(\"https://cdnjs.cloudflare.com/ajax/libs/d3/3.5.5/d3.min.js\", function(){\n",
       "         LDAvis_load_lib(\"https://cdn.rawgit.com/bmabey/pyLDAvis/files/ldavis.v1.0.0.js\", function(){\n",
       "                 new LDAvis(\"#\" + \"ldavis_el4515847942656723926669391\", ldavis_el4515847942656723926669391_data);\n",
       "            })\n",
       "         });\n",
       "}\n",
       "</script>"
      ],
      "text/plain": [
       "PreparedData(topic_coordinates=              x         y  topics  cluster       Freq\n",
       "topic                                                \n",
       "6      0.096417  0.059911       1        1  24.140038\n",
       "5      0.111419 -0.179267       2        1  20.100611\n",
       "1      0.070044  0.069872       3        1  16.441805\n",
       "3      0.070728  0.067600       4        1  13.858467\n",
       "4     -0.084321  0.026638       5        1  10.153928\n",
       "2     -0.137146 -0.107756       6        1   7.965953\n",
       "0     -0.127141  0.063002       7        1   7.339197, topic_info=    Category        Freq       Term       Total  loglift  logprob\n",
       "60   Default   86.000000   bolsonar   86.000000  30.0000  30.0000\n",
       "370  Default  190.000000        tod  190.000000  29.0000  29.0000\n",
       "41   Default  155.000000     econom  155.000000  28.0000  28.0000\n",
       "79   Default  255.000000         rt  255.000000  27.0000  27.0000\n",
       "16   Default  382.000000     brasil  382.000000  26.0000  26.0000\n",
       "..       ...         ...        ...         ...      ...      ...\n",
       "153   Topic7    6.199702      estad   87.942032  -0.0402  -5.8900\n",
       "544   Topic7    5.732271        mil   51.401398   0.4184  -5.9684\n",
       "31    Topic7    5.290469  represent   21.556473   1.2072  -6.0486\n",
       "197   Topic7    5.234113      feder   17.502007   1.4048  -6.0593\n",
       "181   Topic7    5.321380        dev   58.252537   0.2189  -6.0428\n",
       "\n",
       "[498 rows x 6 columns], token_table=      Topic      Freq    Term\n",
       "term                         \n",
       "121       1  0.224419     ...\n",
       "121       2  0.299225     ...\n",
       "121       3  0.074806     ...\n",
       "121       4  0.049871     ...\n",
       "121       5  0.066495     ...\n",
       "...     ...       ...     ...\n",
       "1645      4  0.066230   vitim\n",
       "1929      2  0.151969    voos\n",
       "1929      7  0.759846    voos\n",
       "5612      5  0.812755     wef\n",
       "167       3  0.940131  youtub\n",
       "\n",
       "[939 rows x 3 columns], R=30, lambda_step=0.01, plot_opts={'xlab': 'PC1', 'ylab': 'PC2'}, topic_order=[7, 6, 2, 4, 5, 3, 1])"
      ]
     },
     "execution_count": 59,
     "metadata": {},
     "output_type": "execute_result"
    }
   ],
   "source": [
    "import pyLDAvis\n",
    "import pyLDAvis.gensim\n",
    "\n",
    "# Downalod dictionaries from spacy -- lemmatization\n",
    "# !python -m spacy download en # one time run\n",
    "# !python -m spacy download pt # one time run\n",
    "\n",
    "import matplotlib.pyplot as plt\n",
    "import seaborn as sns\n",
    "\n",
    "pyLDAvis.enable_notebook()\n",
    "vis = pyLDAvis.gensim.prepare(lda_model, doc_term_matrix, dictionary)\n",
    "vis"
   ]
  },
  {
   "cell_type": "markdown",
   "metadata": {},
   "source": [
    "# KMEANS"
   ]
  },
  {
   "cell_type": "code",
   "execution_count": 60,
   "metadata": {},
   "outputs": [],
   "source": [
    "# importing tfidf vectorizer and kmeans function\n",
    "from sklearn.feature_extraction.text import TfidfVectorizer\n",
    "from sklearn.cluster import KMeans"
   ]
  },
  {
   "cell_type": "code",
   "execution_count": 61,
   "metadata": {},
   "outputs": [
    {
     "name": "stdout",
     "output_type": "stream",
     "text": [
      "CPU times: user 6 µs, sys: 2 µs, total: 8 µs\n",
      "Wall time: 17.9 µs\n"
     ]
    }
   ],
   "source": [
    "# Creating a Tdidf table\n",
    "vectorizer = TfidfVectorizer()\n",
    "X = vectorizer.fit_transform(df.text_stem.values)\n",
    "%time"
   ]
  },
  {
   "cell_type": "code",
   "execution_count": 62,
   "metadata": {},
   "outputs": [
    {
     "name": "stdout",
     "output_type": "stream",
     "text": [
      "Initialization complete\n",
      "Iteration  0, inertia 1758.460\n",
      "Iteration  1, inertia 1738.099\n",
      "Iteration  2, inertia 1737.720\n",
      "Iteration  3, inertia 1737.648\n",
      "Iteration  4, inertia 1737.502\n",
      "Iteration  5, inertia 1737.393\n",
      "Converged at iteration 5: center shift 0.000000e+00 within tolerance 1.627841e-08\n",
      "Initialization complete\n",
      "Iteration  0, inertia 1763.912\n",
      "Iteration  1, inertia 1745.087\n",
      "Converged at iteration 1: center shift 0.000000e+00 within tolerance 1.627841e-08\n",
      "Initialization complete\n",
      "Iteration  0, inertia 3378.170\n",
      "Iteration  1, inertia 1732.918\n",
      "Iteration  2, inertia 1729.768\n",
      "Iteration  3, inertia 1727.406\n",
      "Iteration  4, inertia 1725.341\n",
      "Iteration  5, inertia 1724.549\n",
      "Iteration  6, inertia 1724.231\n",
      "Iteration  7, inertia 1723.995\n",
      "Iteration  8, inertia 1723.884\n",
      "Iteration  9, inertia 1723.795\n",
      "Iteration 10, inertia 1723.762\n",
      "Iteration 11, inertia 1723.758\n",
      "Iteration 12, inertia 1723.754\n",
      "Converged at iteration 12: center shift 0.000000e+00 within tolerance 1.627841e-08\n",
      "CPU times: user 7 µs, sys: 1 µs, total: 8 µs\n",
      "Wall time: 7.87 µs\n"
     ]
    }
   ],
   "source": [
    "# setting the kmeans function\n",
    "true_k = 7\n",
    "model = KMeans(n_clusters=true_k,\n",
    "              init='k-means++',\n",
    "              max_iter=100,\n",
    "              n_init=3,\n",
    "              verbose=True)\n",
    "\n",
    "model.fit(X)\n",
    "%time"
   ]
  },
  {
   "cell_type": "code",
   "execution_count": 63,
   "metadata": {},
   "outputs": [
    {
     "name": "stdout",
     "output_type": "stream",
     "text": [
      "CPU times: user 6 µs, sys: 2 µs, total: 8 µs\n",
      "Wall time: 14.1 µs\n"
     ]
    }
   ],
   "source": [
    "# get the features and the centroids\n",
    "order_centroids = model.cluster_centers_.argsort()[:, ::-1]\n",
    "terms = vectorizer.get_feature_names()\n",
    "%time"
   ]
  },
  {
   "cell_type": "code",
   "execution_count": 64,
   "metadata": {},
   "outputs": [
    {
     "name": "stdout",
     "output_type": "stream",
     "text": [
      "Cluster 0:\n",
      "rt\n",
      "1type12\n",
      "president\n",
      "bolsonar\n",
      "obrig\n",
      "liv\n",
      "jair\n",
      "brasileir\n",
      "ministr\n",
      "carlosbolsonar\n",
      "Cluster 1:\n",
      "br\n",
      "brasil\n",
      "acim\n",
      "tod\n",
      "boa\n",
      "deus\n",
      "noit\n",
      "mud\n",
      "vid\n",
      "futur\n",
      "Cluster 2:\n",
      "nacional\n",
      "crim\n",
      "sfmor\n",
      "combat\n",
      "seguranc\n",
      "projet\n",
      "congress\n",
      "lei\n",
      "integr\n",
      "rt\n",
      "Cluster 3:\n",
      "dia\n",
      "bom\n",
      "tod\n",
      "grand\n",
      "abrac\n",
      "trabalh\n",
      "fort\n",
      "pais\n",
      "1br\n",
      "feliz\n",
      "Cluster 4:\n",
      "brasil\n",
      "govern\n",
      "tod\n",
      "faz\n",
      "boa\n",
      "pais\n",
      "noit\n",
      "pod\n",
      "brasileir\n",
      "part\n",
      "Cluster 5:\n",
      "econom\n",
      "empreg\n",
      "nov\n",
      "ger\n",
      "brasil\n",
      "desenvolv\n",
      "invest\n",
      "previdenc\n",
      "mineconom\n",
      "brasileir\n",
      "Cluster 6:\n",
      "parabens\n",
      "brbrbr\n",
      "agor\n",
      "brasil\n",
      "20\n",
      "ministr\n",
      "obrig\n",
      "retorn\n",
      "grand\n",
      "br1\n",
      "CPU times: user 5 µs, sys: 1 µs, total: 6 µs\n",
      "Wall time: 11.9 µs\n"
     ]
    }
   ],
   "source": [
    "for i in range(true_k):\n",
    "    print(\"Cluster %d:\" %i),\n",
    "    for ind in order_centroids[i, :10]:\n",
    "        print(\"%s\" %terms[ind])\n",
    "%time"
   ]
  },
  {
   "cell_type": "code",
   "execution_count": 65,
   "metadata": {},
   "outputs": [
    {
     "name": "stdout",
     "output_type": "stream",
     "text": [
      "\n",
      "\n",
      "Prediction\n"
     ]
    }
   ],
   "source": [
    "print(\"\\n\")\n",
    "print(\"Prediction\")\n",
    "X = vectorizer.transform(['namorar ficar sexo relacionamento'])"
   ]
  },
  {
   "cell_type": "code",
   "execution_count": 66,
   "metadata": {},
   "outputs": [
    {
     "name": "stdout",
     "output_type": "stream",
     "text": [
      "[0]\n"
     ]
    }
   ],
   "source": [
    "predicted = model.predict(X)\n",
    "print(predicted)"
   ]
  },
  {
   "cell_type": "code",
   "execution_count": 67,
   "metadata": {},
   "outputs": [],
   "source": [
    "# apply the model to the data\n",
    "b = vectorizer.transform(list(df.text_stem))\n",
    "\n",
    "# predict the labels\n",
    "b_predict = model.predict(b)"
   ]
  },
  {
   "cell_type": "code",
   "execution_count": 68,
   "metadata": {},
   "outputs": [
    {
     "data": {
      "text/plain": [
       "array([1, 6, 6, ..., 4, 0, 0], dtype=int32)"
      ]
     },
     "execution_count": 68,
     "metadata": {},
     "output_type": "execute_result"
    }
   ],
   "source": [
    "b_predict"
   ]
  }
 ],
 "metadata": {
  "kernelspec": {
   "display_name": "dataAnalysis",
   "language": "python",
   "name": "dataanalysis"
  },
  "language_info": {
   "codemirror_mode": {
    "name": "ipython",
    "version": 3
   },
   "file_extension": ".py",
   "mimetype": "text/x-python",
   "name": "python",
   "nbconvert_exporter": "python",
   "pygments_lexer": "ipython3",
   "version": "3.6.0"
  },
  "toc": {
   "base_numbering": 1,
   "nav_menu": {},
   "number_sections": true,
   "sideBar": true,
   "skip_h1_title": false,
   "title_cell": "Table of Contents",
   "title_sidebar": "Contents",
   "toc_cell": false,
   "toc_position": {},
   "toc_section_display": true,
   "toc_window_display": false
  }
 },
 "nbformat": 4,
 "nbformat_minor": 2
}
