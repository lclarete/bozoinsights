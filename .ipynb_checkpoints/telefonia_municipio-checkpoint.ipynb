{
 "cells": [
  {
   "cell_type": "code",
   "execution_count": 1,
   "metadata": {},
   "outputs": [
    {
     "name": "stdout",
     "output_type": "stream",
     "text": [
      "Collecting pandas-ods-reader\n",
      "  Downloading https://files.pythonhosted.org/packages/d9/f8/c1097f90411ec2cdfee9686c469a8acabff678185d761345975fc559c9fc/pandas_ods_reader-0.0.7-py3-none-any.whl\n",
      "Requirement already satisfied: pandas in /Users/liviaclarete/.pyenv/versions/3.6.0/envs/dataAnalysis/lib/python3.6/site-packages (from pandas-ods-reader) (0.23.4)\n",
      "Collecting ezodf (from pandas-ods-reader)\n",
      "\u001b[?25l  Downloading https://files.pythonhosted.org/packages/6f/c5/e966935c26d58d7e3d962270be61be972409084374d4093f478d1f82e8af/ezodf-0.3.2.tar.gz (125kB)\n",
      "\u001b[K    100% |████████████████████████████████| 133kB 413kB/s ta 0:00:01\n",
      "\u001b[?25hRequirement already satisfied: lxml in /Users/liviaclarete/.pyenv/versions/3.6.0/envs/dataAnalysis/lib/python3.6/site-packages (from pandas-ods-reader) (4.3.0)\n",
      "Requirement already satisfied: numpy>=1.9.0 in /Users/liviaclarete/.pyenv/versions/3.6.0/envs/dataAnalysis/lib/python3.6/site-packages (from pandas->pandas-ods-reader) (1.15.4)\n",
      "Requirement already satisfied: python-dateutil>=2.5.0 in /Users/liviaclarete/.pyenv/versions/3.6.0/envs/dataAnalysis/lib/python3.6/site-packages (from pandas->pandas-ods-reader) (2.7.5)\n",
      "Requirement already satisfied: pytz>=2011k in /Users/liviaclarete/.pyenv/versions/3.6.0/envs/dataAnalysis/lib/python3.6/site-packages (from pandas->pandas-ods-reader) (2018.7)\n",
      "Requirement already satisfied: six>=1.5 in /Users/liviaclarete/.pyenv/versions/3.6.0/envs/dataAnalysis/lib/python3.6/site-packages (from python-dateutil>=2.5.0->pandas->pandas-ods-reader) (1.12.0)\n",
      "Building wheels for collected packages: ezodf\n",
      "  Building wheel for ezodf (setup.py) ... \u001b[?25ldone\n",
      "\u001b[?25h  Stored in directory: /Users/liviaclarete/Library/Caches/pip/wheels/c9/6c/f9/107d39d45441980bf273757eba003ef057c6193c9d7650fac7\n",
      "Successfully built ezodf\n",
      "Installing collected packages: ezodf, pandas-ods-reader\n",
      "Successfully installed ezodf-0.3.2 pandas-ods-reader-0.0.7\n",
      "\u001b[33mYou are using pip version 19.0.3, however version 19.1.1 is available.\n",
      "You should consider upgrading via the 'pip install --upgrade pip' command.\u001b[0m\n"
     ]
    }
   ],
   "source": [
    "! pip install pandas-ods-reader"
   ]
  },
  {
   "cell_type": "code",
   "execution_count": 1,
   "metadata": {},
   "outputs": [],
   "source": [
    "# import a ods parser\n",
    "from pandas_ods_reader import read_ods\n",
    "\n",
    "# set the file path\n",
    "ods_path = 'Municípios atendidos com SMP e tecnologias.ods'\n",
    "\n",
    "# define the column's names\n",
    "df_columns = ['IBGE',\n",
    "             'UF', \n",
    "             'AR',\n",
    "             'Municipio',\n",
    "             'algar_2G',\n",
    "             'algar_3G',\n",
    "             'algar_4G',\n",
    "              'claro_2G',\n",
    "              'claro_3G',\n",
    "              'claro_4G',\n",
    "              'nextel_2G',\n",
    "              'nextel_3G',\n",
    "              'nextel_4G',              \n",
    "              'oi_2G',\n",
    "              'oi_3G',\n",
    "              'oi_4G',              \n",
    "              'tim_2G',\n",
    "              'tim_3G',\n",
    "              'tim_4G',\n",
    "              'vivo_2G',\n",
    "              'vivo_3G',\n",
    "              'vivo_4G',              \n",
    "              'sercomtel_2G',\n",
    "              'sercomtel_3G',\n",
    "              'sercomtel_4G',\n",
    "             ]\n",
    "\n",
    "# read dataframe\n",
    "df = read_ods(ods_path, sheet=1,\n",
    "              # set the column's names\n",
    "             columns = df_columns,\n",
    "             headers=False)\n",
    "\n",
    "# delete unuseful rows\n",
    "df = df.drop([0,1], axis=0)\n",
    "\n",
    "# reset index\n",
    "df = df.reset_index()\n",
    "\n",
    "# drop unuseful columns\n",
    "df = df.drop('index', axis=1)"
   ]
  },
  {
   "cell_type": "code",
   "execution_count": 2,
   "metadata": {},
   "outputs": [],
   "source": [
    "df = df.replace('None', False).replace('NÃO', False).replace('SIM', True)"
   ]
  },
  {
   "cell_type": "code",
   "execution_count": null,
   "metadata": {},
   "outputs": [],
   "source": []
  }
 ],
 "metadata": {
  "kernelspec": {
   "display_name": "dataAnalysis",
   "language": "python",
   "name": "dataanalysis"
  },
  "language_info": {
   "codemirror_mode": {
    "name": "ipython",
    "version": 3
   },
   "file_extension": ".py",
   "mimetype": "text/x-python",
   "name": "python",
   "nbconvert_exporter": "python",
   "pygments_lexer": "ipython3",
   "version": "3.6.0"
  }
 },
 "nbformat": 4,
 "nbformat_minor": 2
}
